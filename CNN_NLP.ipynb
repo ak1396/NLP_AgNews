{
 "cells": [
  {
   "cell_type": "code",
   "execution_count": null,
   "metadata": {
    "_cell_guid": "b1076dfc-b9ad-4769-8c92-a6c4dae69d19",
    "_uuid": "8f2839f25d086af736a60e9eeb907d3b93b6e0e5",
    "colab": {
     "base_uri": "https://localhost:8080/"
    },
    "execution": {
     "iopub.execute_input": "2021-06-30T02:16:30.126638Z",
     "iopub.status.busy": "2021-06-30T02:16:30.126205Z",
     "iopub.status.idle": "2021-06-30T02:16:30.141317Z",
     "shell.execute_reply": "2021-06-30T02:16:30.140151Z",
     "shell.execute_reply.started": "2021-06-30T02:16:30.1266Z"
    },
    "id": "gRqVZk5pDzqk",
    "outputId": "8f6fccbe-fca6-4494-d8d0-b43a17a7646f"
   },
   "outputs": [
    {
     "name": "stderr",
     "output_type": "stream",
     "text": [
      "/usr/local/lib/python3.7/dist-packages/ipykernel_launcher.py:8: FutureWarning: Passing a negative integer is deprecated in version 1.0 and will not be supported in future version. Instead, use None to not limit the column width.\n",
      "  \n"
     ]
    }
   ],
   "source": [
    "import numpy as np # linear algebra\n",
    "import pandas as pd # data processing, CSV file I/O (e.g. pd.read_csv)\n",
    "import re\n",
    "import string\n",
    "import matplotlib.pyplot as plt\n",
    "\n",
    "pd.set_option('display.max_columns', None)\n",
    "pd.set_option('display.max_colwidth', -1)\n",
    "pd.set_option('display.max_rows', 2000)\n"
   ]
  },
  {
   "cell_type": "markdown",
   "metadata": {
    "id": "gpSg-swJDzqn"
   },
   "source": [
    "## Load Data"
   ]
  },
  {
   "cell_type": "code",
   "execution_count": null,
   "metadata": {
    "execution": {
     "iopub.execute_input": "2021-06-30T02:16:30.718616Z",
     "iopub.status.busy": "2021-06-30T02:16:30.718077Z",
     "iopub.status.idle": "2021-06-30T02:16:31.334203Z",
     "shell.execute_reply": "2021-06-30T02:16:31.332936Z",
     "shell.execute_reply.started": "2021-06-30T02:16:30.718562Z"
    },
    "id": "ANdiRdDPDzqo"
   },
   "outputs": [],
   "source": [
    "train_data = pd.read_csv('/content/agnews_train.csv')\n",
    "test_data = pd.read_csv('/content/agnews_test.csv')"
   ]
  },
  {
   "cell_type": "code",
   "execution_count": null,
   "metadata": {
    "colab": {
     "base_uri": "https://localhost:8080/",
     "height": 486
    },
    "id": "Hj138Uqmc4C9",
    "outputId": "77031e32-ebff-4a49-ca4b-2d31007c64a5"
   },
   "outputs": [
    {
     "data": {
      "text/html": [
       "\n",
       "  <div id=\"df-d8e67ddd-1d8f-441a-85ab-ed5d730817d6\">\n",
       "    <div class=\"colab-df-container\">\n",
       "      <div>\n",
       "<style scoped>\n",
       "    .dataframe tbody tr th:only-of-type {\n",
       "        vertical-align: middle;\n",
       "    }\n",
       "\n",
       "    .dataframe tbody tr th {\n",
       "        vertical-align: top;\n",
       "    }\n",
       "\n",
       "    .dataframe thead th {\n",
       "        text-align: right;\n",
       "    }\n",
       "</style>\n",
       "<table border=\"1\" class=\"dataframe\">\n",
       "  <thead>\n",
       "    <tr style=\"text-align: right;\">\n",
       "      <th></th>\n",
       "      <th>text</th>\n",
       "      <th>label</th>\n",
       "      <th>label_int</th>\n",
       "      <th>science_int</th>\n",
       "      <th>sports_int</th>\n",
       "      <th>world_int</th>\n",
       "      <th>business_int</th>\n",
       "    </tr>\n",
       "  </thead>\n",
       "  <tbody>\n",
       "    <tr>\n",
       "      <th>0</th>\n",
       "      <td>John Souza, a volunteer with the Boone County chapter of the American Red Cross, is the second Columbia resident to join efforts to assist people who were affected by Tropical Storm Bonnie and Hurricane Charley.</td>\n",
       "      <td>Business</td>\n",
       "      <td>3</td>\n",
       "      <td>0</td>\n",
       "      <td>0</td>\n",
       "      <td>0</td>\n",
       "      <td>1</td>\n",
       "    </tr>\n",
       "    <tr>\n",
       "      <th>1</th>\n",
       "      <td>Spain needs only to beat an under-strength French team to secure its place in the Davis Cup tennis final, while Britain looks to the experience of Tim Henman and Greg Rusedski in its World Group play-off with Austria this weekend.</td>\n",
       "      <td>Sports</td>\n",
       "      <td>1</td>\n",
       "      <td>0</td>\n",
       "      <td>1</td>\n",
       "      <td>0</td>\n",
       "      <td>0</td>\n",
       "    </tr>\n",
       "    <tr>\n",
       "      <th>2</th>\n",
       "      <td>PANAMA CITY, Panama -- When the United States gave Panama control over its canal, many observers predicted that the international waterway would be plagued by problems at best and chaos at worst.</td>\n",
       "      <td>World</td>\n",
       "      <td>2</td>\n",
       "      <td>0</td>\n",
       "      <td>0</td>\n",
       "      <td>1</td>\n",
       "      <td>0</td>\n",
       "    </tr>\n",
       "    <tr>\n",
       "      <th>3</th>\n",
       "      <td>Gilbert Arenas, Jarvis Hayes and Anthony Peeler return from minor injuries to play in the Wizards' 97-85 victory over the Bobcats.</td>\n",
       "      <td>Sports</td>\n",
       "      <td>1</td>\n",
       "      <td>0</td>\n",
       "      <td>1</td>\n",
       "      <td>0</td>\n",
       "      <td>0</td>\n",
       "    </tr>\n",
       "    <tr>\n",
       "      <th>4</th>\n",
       "      <td>MEMPHIS, Tenn. -- Kobe Bryant had his worst shooting night of the season Wednesday in the Lakers #39; 110-87 loss to the Grizzlies, and worse yet, he needed nearly 45 minutes of postgame treatment for plantar fasciitis in his left foot.</td>\n",
       "      <td>Sports</td>\n",
       "      <td>1</td>\n",
       "      <td>0</td>\n",
       "      <td>1</td>\n",
       "      <td>0</td>\n",
       "      <td>0</td>\n",
       "    </tr>\n",
       "  </tbody>\n",
       "</table>\n",
       "</div>\n",
       "      <button class=\"colab-df-convert\" onclick=\"convertToInteractive('df-d8e67ddd-1d8f-441a-85ab-ed5d730817d6')\"\n",
       "              title=\"Convert this dataframe to an interactive table.\"\n",
       "              style=\"display:none;\">\n",
       "        \n",
       "  <svg xmlns=\"http://www.w3.org/2000/svg\" height=\"24px\"viewBox=\"0 0 24 24\"\n",
       "       width=\"24px\">\n",
       "    <path d=\"M0 0h24v24H0V0z\" fill=\"none\"/>\n",
       "    <path d=\"M18.56 5.44l.94 2.06.94-2.06 2.06-.94-2.06-.94-.94-2.06-.94 2.06-2.06.94zm-11 1L8.5 8.5l.94-2.06 2.06-.94-2.06-.94L8.5 2.5l-.94 2.06-2.06.94zm10 10l.94 2.06.94-2.06 2.06-.94-2.06-.94-.94-2.06-.94 2.06-2.06.94z\"/><path d=\"M17.41 7.96l-1.37-1.37c-.4-.4-.92-.59-1.43-.59-.52 0-1.04.2-1.43.59L10.3 9.45l-7.72 7.72c-.78.78-.78 2.05 0 2.83L4 21.41c.39.39.9.59 1.41.59.51 0 1.02-.2 1.41-.59l7.78-7.78 2.81-2.81c.8-.78.8-2.07 0-2.86zM5.41 20L4 18.59l7.72-7.72 1.47 1.35L5.41 20z\"/>\n",
       "  </svg>\n",
       "      </button>\n",
       "      \n",
       "  <style>\n",
       "    .colab-df-container {\n",
       "      display:flex;\n",
       "      flex-wrap:wrap;\n",
       "      gap: 12px;\n",
       "    }\n",
       "\n",
       "    .colab-df-convert {\n",
       "      background-color: #E8F0FE;\n",
       "      border: none;\n",
       "      border-radius: 50%;\n",
       "      cursor: pointer;\n",
       "      display: none;\n",
       "      fill: #1967D2;\n",
       "      height: 32px;\n",
       "      padding: 0 0 0 0;\n",
       "      width: 32px;\n",
       "    }\n",
       "\n",
       "    .colab-df-convert:hover {\n",
       "      background-color: #E2EBFA;\n",
       "      box-shadow: 0px 1px 2px rgba(60, 64, 67, 0.3), 0px 1px 3px 1px rgba(60, 64, 67, 0.15);\n",
       "      fill: #174EA6;\n",
       "    }\n",
       "\n",
       "    [theme=dark] .colab-df-convert {\n",
       "      background-color: #3B4455;\n",
       "      fill: #D2E3FC;\n",
       "    }\n",
       "\n",
       "    [theme=dark] .colab-df-convert:hover {\n",
       "      background-color: #434B5C;\n",
       "      box-shadow: 0px 1px 3px 1px rgba(0, 0, 0, 0.15);\n",
       "      filter: drop-shadow(0px 1px 2px rgba(0, 0, 0, 0.3));\n",
       "      fill: #FFFFFF;\n",
       "    }\n",
       "  </style>\n",
       "\n",
       "      <script>\n",
       "        const buttonEl =\n",
       "          document.querySelector('#df-d8e67ddd-1d8f-441a-85ab-ed5d730817d6 button.colab-df-convert');\n",
       "        buttonEl.style.display =\n",
       "          google.colab.kernel.accessAllowed ? 'block' : 'none';\n",
       "\n",
       "        async function convertToInteractive(key) {\n",
       "          const element = document.querySelector('#df-d8e67ddd-1d8f-441a-85ab-ed5d730817d6');\n",
       "          const dataTable =\n",
       "            await google.colab.kernel.invokeFunction('convertToInteractive',\n",
       "                                                     [key], {});\n",
       "          if (!dataTable) return;\n",
       "\n",
       "          const docLinkHtml = 'Like what you see? Visit the ' +\n",
       "            '<a target=\"_blank\" href=https://colab.research.google.com/notebooks/data_table.ipynb>data table notebook</a>'\n",
       "            + ' to learn more about interactive tables.';\n",
       "          element.innerHTML = '';\n",
       "          dataTable['output_type'] = 'display_data';\n",
       "          await google.colab.output.renderOutput(dataTable, element);\n",
       "          const docLink = document.createElement('div');\n",
       "          docLink.innerHTML = docLinkHtml;\n",
       "          element.appendChild(docLink);\n",
       "        }\n",
       "      </script>\n",
       "    </div>\n",
       "  </div>\n",
       "  "
      ],
      "text/plain": [
       "                                                                                                                                                                                                                                           text  \\\n",
       "0  John Souza, a volunteer with the Boone County chapter of the American Red Cross, is the second Columbia resident to join efforts to assist people who were affected by Tropical Storm Bonnie and Hurricane Charley.                            \n",
       "1  Spain needs only to beat an under-strength French team to secure its place in the Davis Cup tennis final, while Britain looks to the experience of Tim Henman and Greg Rusedski in its World Group play-off with Austria this weekend.         \n",
       "2  PANAMA CITY, Panama -- When the United States gave Panama control over its canal, many observers predicted that the international waterway would be plagued by problems at best and chaos at worst.                                            \n",
       "3  Gilbert Arenas, Jarvis Hayes and Anthony Peeler return from minor injuries to play in the Wizards' 97-85 victory over the Bobcats.                                                                                                             \n",
       "4  MEMPHIS, Tenn. -- Kobe Bryant had his worst shooting night of the season Wednesday in the Lakers #39; 110-87 loss to the Grizzlies, and worse yet, he needed nearly 45 minutes of postgame treatment for plantar fasciitis in his left foot.   \n",
       "\n",
       "      label  label_int  science_int  sports_int  world_int  business_int  \n",
       "0  Business  3          0            0           0          1             \n",
       "1  Sports    1          0            1           0          0             \n",
       "2  World     2          0            0           1          0             \n",
       "3  Sports    1          0            1           0          0             \n",
       "4  Sports    1          0            1           0          0             "
      ]
     },
     "execution_count": 35,
     "metadata": {},
     "output_type": "execute_result"
    }
   ],
   "source": [
    "train_data.head()"
   ]
  },
  {
   "cell_type": "markdown",
   "metadata": {
    "id": "-t-RjpsNDzqp"
   },
   "source": [
    "# Data Undestanding"
   ]
  },
  {
   "cell_type": "markdown",
   "metadata": {
    "id": "R9FeIJTYDzqp"
   },
   "source": [
    "## EDA and get insights"
   ]
  },
  {
   "cell_type": "code",
   "execution_count": null,
   "metadata": {
    "colab": {
     "base_uri": "https://localhost:8080/"
    },
    "execution": {
     "iopub.execute_input": "2021-06-30T02:16:31.336669Z",
     "iopub.status.busy": "2021-06-30T02:16:31.33624Z",
     "iopub.status.idle": "2021-06-30T02:16:31.343726Z",
     "shell.execute_reply": "2021-06-30T02:16:31.342547Z",
     "shell.execute_reply.started": "2021-06-30T02:16:31.336623Z"
    },
    "id": "0mPQwnrKDzqp",
    "outputId": "184c3d84-d6da-4a39-e47e-1cfefb153abc"
   },
   "outputs": [
    {
     "name": "stdout",
     "output_type": "stream",
     "text": [
      "(109999, 7)\n",
      "(10000, 7)\n"
     ]
    }
   ],
   "source": [
    "# total data\n",
    "print(train_data.shape)\n",
    "print(test_data.shape)"
   ]
  },
  {
   "cell_type": "code",
   "execution_count": null,
   "metadata": {
    "colab": {
     "base_uri": "https://localhost:8080/"
    },
    "execution": {
     "iopub.execute_input": "2021-06-30T02:16:31.346004Z",
     "iopub.status.busy": "2021-06-30T02:16:31.345551Z",
     "iopub.status.idle": "2021-06-30T02:16:31.399766Z",
     "shell.execute_reply": "2021-06-30T02:16:31.398577Z",
     "shell.execute_reply.started": "2021-06-30T02:16:31.345936Z"
    },
    "id": "sgzTLflbDzqp",
    "outputId": "c9e076af-5cbf-40c3-e252-f4c15d7d25ab"
   },
   "outputs": [
    {
     "name": "stdout",
     "output_type": "stream",
     "text": [
      "<class 'pandas.core.frame.DataFrame'>\n",
      "RangeIndex: 109999 entries, 0 to 109998\n",
      "Data columns (total 7 columns):\n",
      " #   Column        Non-Null Count   Dtype \n",
      "---  ------        --------------   ----- \n",
      " 0   text          109999 non-null  object\n",
      " 1   label         109999 non-null  object\n",
      " 2   label_int     109999 non-null  int64 \n",
      " 3   science_int   109999 non-null  int64 \n",
      " 4   sports_int    109999 non-null  int64 \n",
      " 5   world_int     109999 non-null  int64 \n",
      " 6   business_int  109999 non-null  int64 \n",
      "dtypes: int64(5), object(2)\n",
      "memory usage: 5.9+ MB\n"
     ]
    }
   ],
   "source": [
    "# data info\n",
    "train_data.info()"
   ]
  },
  {
   "cell_type": "code",
   "execution_count": null,
   "metadata": {
    "colab": {
     "base_uri": "https://localhost:8080/"
    },
    "execution": {
     "iopub.execute_input": "2021-06-30T02:16:31.401526Z",
     "iopub.status.busy": "2021-06-30T02:16:31.401174Z",
     "iopub.status.idle": "2021-06-30T02:16:31.410138Z",
     "shell.execute_reply": "2021-06-30T02:16:31.409004Z",
     "shell.execute_reply.started": "2021-06-30T02:16:31.401489Z"
    },
    "id": "nWTXY5_gDzqq",
    "outputId": "a4a860f3-1119-49c9-a56c-9ca7d5cca585"
   },
   "outputs": [
    {
     "data": {
      "text/plain": [
       "Sports      27542\n",
       "Business    27504\n",
       "World       27491\n",
       "Science     27462\n",
       "Name: label, dtype: int64"
      ]
     },
     "execution_count": 77,
     "metadata": {},
     "output_type": "execute_result"
    }
   ],
   "source": [
    "# categories\n",
    "train_data['label'].value_counts()"
   ]
  },
  {
   "cell_type": "code",
   "execution_count": null,
   "metadata": {
    "colab": {
     "base_uri": "https://localhost:8080/"
    },
    "id": "rqLOGSlAc-ET",
    "outputId": "ba859a24-a8b2-4d46-ecdd-5d41c962735a"
   },
   "outputs": [
    {
     "data": {
      "text/plain": [
       "Science     2537\n",
       "World       2509\n",
       "Business    2496\n",
       "Sports      2458\n",
       "Name: label, dtype: int64"
      ]
     },
     "execution_count": 78,
     "metadata": {},
     "output_type": "execute_result"
    }
   ],
   "source": [
    "test_data['label'].value_counts()"
   ]
  },
  {
   "cell_type": "markdown",
   "metadata": {
    "id": "8wZ9L3IvDzqr"
   },
   "source": [
    "# Data Cleaning"
   ]
  },
  {
   "cell_type": "code",
   "execution_count": null,
   "metadata": {
    "execution": {
     "iopub.execute_input": "2021-06-30T02:16:32.408758Z",
     "iopub.status.busy": "2021-06-30T02:16:32.408424Z",
     "iopub.status.idle": "2021-06-30T02:16:32.418643Z",
     "shell.execute_reply": "2021-06-30T02:16:32.417185Z",
     "shell.execute_reply.started": "2021-06-30T02:16:32.408727Z"
    },
    "id": "NNDzIig4Dzqr"
   },
   "outputs": [],
   "source": [
    "# removing punctuation down character\n",
    "def removePunctuationDown(strs):\n",
    "    remove = '!#$%&\\()+,-./:;<=>?@[\\\\]_{|}~'\n",
    "    pattern = r\"[{}]\".format(remove)\n",
    "    h = re.sub(pattern, \" \", strs)\n",
    "    return h\n",
    "\n",
    "# removing punctuation up character\n",
    "def removePunctuationUp(strs):\n",
    "    remove = ',\"\\^`*'\n",
    "    # remove = ',\"\\'^`*'\n",
    "    pattern = r\"[{}]\".format(remove)\n",
    "    h = re.sub(pattern, \"\", strs)\n",
    "    return h\n",
    "\n",
    "# replace other special character\n",
    "def replace(strs):\n",
    "    strs = strs.replace('\\\\t',' ').replace('\\\\n',' ').replace('\\\\u',' ').replace('\\\\',' ')\n",
    "    strs = strs.replace('\\n',' ')\n",
    "    strs = strs.replace('\\t','')\n",
    "    strs = strs.encode('utf-8').decode('ascii', 'ignore')\n",
    "    return strs\n",
    "\n",
    "# remove emoji\n",
    "def remove_emoji(text):\n",
    "    emoji_pattern = re.compile(\"[\"\n",
    "                           u\"\\U0001F600-\\U0001F64F\"  # emoticons\n",
    "                           u\"\\U0001F300-\\U0001F5FF\"  # symbols & pictographs\n",
    "                           u\"\\U0001F680-\\U0001F6FF\"  # transport & map symbols\n",
    "                           u\"\\U0001F1E0-\\U0001F1FF\"  # flags (iOS)\n",
    "                           u\"\\U00002500-\\U00002BEF\"  # chinese char\n",
    "                           u\"\\U00002702-\\U000027B0\"\n",
    "                           u\"\\U00002702-\\U000027B0\"\n",
    "                           u\"\\U000024C2-\\U0001F251\"\n",
    "                           u\"\\U0001f926-\\U0001f937\"\n",
    "                           u\"\\U00010000-\\U0010ffff\"\n",
    "                           u\"\\u2640-\\u2642\"\n",
    "                           u\"\\u2600-\\u2B55\"\n",
    "                           u\"\\u200d\"\n",
    "                           u\"\\u23cf\"\n",
    "                           u\"\\u23e9\"\n",
    "                           u\"\\u231a\"\n",
    "                           u\"\\ufe0f\"  # dingbats\n",
    "                           u\"\\u3030\"\n",
    "                               #convert data input to Unicode\n",
    "                           \"]+\", flags=re.UNICODE)\n",
    "    return emoji_pattern.sub(r'', text)"
   ]
  },
  {
   "cell_type": "code",
   "execution_count": null,
   "metadata": {
    "execution": {
     "iopub.execute_input": "2021-06-30T02:16:32.420343Z",
     "iopub.status.busy": "2021-06-30T02:16:32.419988Z",
     "iopub.status.idle": "2021-06-30T02:16:44.077127Z",
     "shell.execute_reply": "2021-06-30T02:16:44.076028Z",
     "shell.execute_reply.started": "2021-06-30T02:16:32.420311Z"
    },
    "id": "Ii0byFMcDzqs"
   },
   "outputs": [],
   "source": [
    "# Apply Cleaning Data\n",
    "train_data['news'] = [i.lower() for i in train_data.text] #lower case\n",
    "train_data['remove_emoji'] = train_data['news'].apply(remove_emoji) #remov emoji\n",
    "train_data['hastags'] = [re.findall(r'\\B#\\w*[a-zA-Z0-9]+\\w*', i) for i in train_data.remove_emoji] #save hastags\n",
    "train_data['remove_email'] = [re.sub(r'\\S*@\\S*\\s?','',i) for i in train_data.remove_emoji] #remove email\n",
    "train_data['remove_hashtag'] = [re.sub(\"#[A-Za-z0-9_]+\",'',i) for i in train_data.remove_emoji] #remove hastags\n",
    "train_data['remove_special_character'] = train_data['remove_hashtag'].replace(r'http\\s+|www.\\s+','',regex=True).replace(r'http\\S+', '', regex=True).replace(r'www\\S+', '', regex=True) #remove link\n",
    "train_data['remove_special_character'] = [re.sub(r'&lt;/?[a-z]+&gt;','',i) for i in train_data.remove_special_character] #remove_special_character\n",
    "train_data['remove_special_character'] = [re.sub('<.*?>+', '', i) for i in train_data.remove_special_character] #remove special character\n",
    "train_data['text_clean'] = [removePunctuationDown(i) for i in train_data.remove_special_character] #remove punc down\n",
    "train_data['text_clean'] = [removePunctuationUp(i) for i in train_data.text_clean] #remove punc up\n",
    "train_data['text_clean'] = [replace(j) for j in train_data.text_clean] #remove \\n \\t"
   ]
  },
  {
   "cell_type": "code",
   "execution_count": null,
   "metadata": {
    "id": "aEEHQLz4feeo"
   },
   "outputs": [],
   "source": [
    "test_data['news'] = [i.lower() for i in test_data.text] #lower case\n",
    "test_data['remove_emoji'] = test_data['news'].apply(remove_emoji) #remov emoji\n",
    "test_data['hastags'] = [re.findall(r'\\B#\\w*[a-zA-Z0-9]+\\w*', i) for i in test_data.remove_emoji] #save hastags\n",
    "test_data['remove_email'] = [re.sub(r'\\S*@\\S*\\s?','',i) for i in test_data.remove_emoji] #remove email\n",
    "test_data['remove_hashtag'] = [re.sub(\"#[A-Za-z0-9_]+\",'',i) for i in test_data.remove_emoji] #remove hastags\n",
    "test_data['remove_special_character'] = test_data['remove_hashtag'].replace(r'http\\s+|www.\\s+','',regex=True).replace(r'http\\S+', '', regex=True).replace(r'www\\S+', '', regex=True) #remove link\n",
    "test_data['remove_special_character'] = [re.sub(r'&lt;/?[a-z]+&gt;','',i) for i in test_data.remove_special_character] #remove_special_character\n",
    "test_data['remove_special_character'] = [re.sub('<.*?>+', '', i) for i in test_data.remove_special_character] #remove special character\n",
    "test_data['text_clean'] = [removePunctuationDown(i) for i in test_data.remove_special_character] #remove punc down\n",
    "test_data['text_clean'] = [removePunctuationUp(i) for i in test_data.text_clean] #remove punc up\n",
    "test_data['text_clean'] = [replace(j) for j in test_data.text_clean] #remove \\n \\t"
   ]
  },
  {
   "cell_type": "markdown",
   "metadata": {
    "id": "MOmt2BQnDzqs"
   },
   "source": [
    "## Custom Cleansing Data\n",
    "\n",
    "Custom for remove specific word"
   ]
  },
  {
   "cell_type": "code",
   "execution_count": null,
   "metadata": {
    "execution": {
     "iopub.execute_input": "2021-06-30T02:16:44.1012Z",
     "iopub.status.busy": "2021-06-30T02:16:44.100691Z",
     "iopub.status.idle": "2021-06-30T02:17:02.354784Z",
     "shell.execute_reply": "2021-06-30T02:17:02.353363Z",
     "shell.execute_reply.started": "2021-06-30T02:16:44.10115Z"
    },
    "id": "XJLlQ_LrDzqt"
   },
   "outputs": [],
   "source": [
    "def text_clean(text):    \n",
    "    ## Decontract text            \n",
    "    # specific\n",
    "    text = re.sub(r\"won\\'t\", \"will not\", text)\n",
    "    text = re.sub(r\"can\\'t\", \"can not\", text)\n",
    "    text = re.sub(r\"won\\’t\", \"will not\", text)\n",
    "    text = re.sub(r\"can\\’t\", \"can not\", text)\n",
    "    text = re.sub(r\"\\'t've\", \" not have\", text)\n",
    "    text = re.sub(r\"\\'d've\", \" would have\", text)\n",
    "    text = re.sub(r\"\\'clock\", \"f the clock\", text)\n",
    "    text = re.sub(r\"\\'cause\", \" because\", text)\n",
    "    \n",
    "    # general\n",
    "    text = re.sub(r\"n\\'t\", \" not\", text)\n",
    "    text = re.sub(r\"\\'re\", \" are\", text)\n",
    "    text = re.sub(r\"\\'s\", \" is\", text)\n",
    "    text = re.sub(r\"\\'ll\", \" will\", text)\n",
    "    text = re.sub(r\"\\'t\", \" not\", text)\n",
    "    text = re.sub(r\"\\'ve\", \" have\", text)\n",
    "    text = re.sub(r\"\\'m\", \" am\", text)\n",
    "    text = re.sub(r\"n\\’t\", \" not\", text)\n",
    "    text = re.sub(r\"\\’re\", \" are\", text)\n",
    "    text = re.sub(r\"\\’s\", \" is\", text)\n",
    "    text = re.sub(r\"\\’ll\", \" will\", text)\n",
    "    text = re.sub(r\"\\’t\", \" not\", text)\n",
    "    text = re.sub(r\"\\’ve\", \" have\", text)\n",
    "    text = re.sub(r\"\\’m\", \" am\", text)\n",
    "    text = re.sub(r\"\\’\", \"\\'\", text)\n",
    "    \n",
    "    # remove all puctuation\n",
    "    text = re.sub('\\[.*?\\]', '', text)\n",
    "    text = re.sub('[%s]' % re.escape(string.punctuation), '', text)\n",
    "    text = re.sub('\\w*\\d\\w*', '', text) #remove digit/number\n",
    "    \n",
    "    # remove all special characters\n",
    "    text = re.sub(r'\\W', ' ', text)\n",
    "\n",
    "    # remove break\n",
    "    text = re.sub('[‘’“”…]', '', text)\n",
    "    \n",
    "    # remove prefixed 'b'\n",
    "    text = re.sub(r'^b\\s+', '', text)\n",
    "    \n",
    "    # substituting multiple spaces with single space\n",
    "    text = re.sub(r'\\s+', ' ', text, flags=re.I)\n",
    "    \n",
    "    return text\n",
    "\n",
    "train_data['text_clean'] = train_data['text_clean'].apply(lambda x: text_clean(x))\n",
    "test_data['text_clean'] = test_data['text_clean'].apply(lambda x: text_clean(x))"
   ]
  },
  {
   "cell_type": "code",
   "execution_count": null,
   "metadata": {
    "colab": {
     "base_uri": "https://localhost:8080/",
     "height": 1000
    },
    "execution": {
     "iopub.execute_input": "2021-06-30T02:17:02.356347Z",
     "iopub.status.busy": "2021-06-30T02:17:02.356039Z",
     "iopub.status.idle": "2021-06-30T02:17:02.375619Z",
     "shell.execute_reply": "2021-06-30T02:17:02.374296Z",
     "shell.execute_reply.started": "2021-06-30T02:17:02.356309Z"
    },
    "id": "4v9z4lPODzqu",
    "outputId": "8ed47483-d82f-419c-f09f-c5db8f106d0e"
   },
   "outputs": [
    {
     "data": {
      "text/html": [
       "\n",
       "  <div id=\"df-1a77d00f-1f32-4e28-a0ce-e651e3bbaa14\">\n",
       "    <div class=\"colab-df-container\">\n",
       "      <div>\n",
       "<style scoped>\n",
       "    .dataframe tbody tr th:only-of-type {\n",
       "        vertical-align: middle;\n",
       "    }\n",
       "\n",
       "    .dataframe tbody tr th {\n",
       "        vertical-align: top;\n",
       "    }\n",
       "\n",
       "    .dataframe thead th {\n",
       "        text-align: right;\n",
       "    }\n",
       "</style>\n",
       "<table border=\"1\" class=\"dataframe\">\n",
       "  <thead>\n",
       "    <tr style=\"text-align: right;\">\n",
       "      <th></th>\n",
       "      <th>text</th>\n",
       "      <th>label</th>\n",
       "      <th>label_int</th>\n",
       "      <th>science_int</th>\n",
       "      <th>sports_int</th>\n",
       "      <th>world_int</th>\n",
       "      <th>business_int</th>\n",
       "      <th>news</th>\n",
       "      <th>remove_emoji</th>\n",
       "      <th>hastags</th>\n",
       "      <th>remove_email</th>\n",
       "      <th>remove_hashtag</th>\n",
       "      <th>remove_special_character</th>\n",
       "      <th>text_clean</th>\n",
       "    </tr>\n",
       "  </thead>\n",
       "  <tbody>\n",
       "    <tr>\n",
       "      <th>0</th>\n",
       "      <td>John Souza, a volunteer with the Boone County chapter of the American Red Cross, is the second Columbia resident to join efforts to assist people who were affected by Tropical Storm Bonnie and Hurricane Charley.</td>\n",
       "      <td>Business</td>\n",
       "      <td>3</td>\n",
       "      <td>0</td>\n",
       "      <td>0</td>\n",
       "      <td>0</td>\n",
       "      <td>1</td>\n",
       "      <td>john souza, a volunteer with the boone county chapter of the american red cross, is the second columbia resident to join efforts to assist people who were affected by tropical storm bonnie and hurricane charley.</td>\n",
       "      <td>john souza, a volunteer with the boone county chapter of the american red cross, is the second columbia resident to join efforts to assist people who were affected by tropical storm bonnie and hurricane charley.</td>\n",
       "      <td>[]</td>\n",
       "      <td>john souza, a volunteer with the boone county chapter of the american red cross, is the second columbia resident to join efforts to assist people who were affected by tropical storm bonnie and hurricane charley.</td>\n",
       "      <td>john souza, a volunteer with the boone county chapter of the american red cross, is the second columbia resident to join efforts to assist people who were affected by tropical storm bonnie and hurricane charley.</td>\n",
       "      <td>john souza, a volunteer with the boone county chapter of the american red cross, is the second columbia resident to join efforts to assist people who were affected by tropical storm bonnie and hurricane charley.</td>\n",
       "      <td>john souza a volunteer with the boone county chapter of the american red cross is the second columbia resident to join efforts to assist people who were affected by tropical storm bonnie and hurricane charley</td>\n",
       "    </tr>\n",
       "    <tr>\n",
       "      <th>1</th>\n",
       "      <td>Spain needs only to beat an under-strength French team to secure its place in the Davis Cup tennis final, while Britain looks to the experience of Tim Henman and Greg Rusedski in its World Group play-off with Austria this weekend.</td>\n",
       "      <td>Sports</td>\n",
       "      <td>1</td>\n",
       "      <td>0</td>\n",
       "      <td>1</td>\n",
       "      <td>0</td>\n",
       "      <td>0</td>\n",
       "      <td>spain needs only to beat an under-strength french team to secure its place in the davis cup tennis final, while britain looks to the experience of tim henman and greg rusedski in its world group play-off with austria this weekend.</td>\n",
       "      <td>spain needs only to beat an under-strength french team to secure its place in the davis cup tennis final, while britain looks to the experience of tim henman and greg rusedski in its world group play-off with austria this weekend.</td>\n",
       "      <td>[]</td>\n",
       "      <td>spain needs only to beat an under-strength french team to secure its place in the davis cup tennis final, while britain looks to the experience of tim henman and greg rusedski in its world group play-off with austria this weekend.</td>\n",
       "      <td>spain needs only to beat an under-strength french team to secure its place in the davis cup tennis final, while britain looks to the experience of tim henman and greg rusedski in its world group play-off with austria this weekend.</td>\n",
       "      <td>spain needs only to beat an under-strength french team to secure its place in the davis cup tennis final, while britain looks to the experience of tim henman and greg rusedski in its world group play-off with austria this weekend.</td>\n",
       "      <td>spain needs only to beat an under strength french team to secure its place in the davis cup tennis final while britain looks to the experience of tim henman and greg rusedski in its world group play off with austria this weekend</td>\n",
       "    </tr>\n",
       "    <tr>\n",
       "      <th>2</th>\n",
       "      <td>PANAMA CITY, Panama -- When the United States gave Panama control over its canal, many observers predicted that the international waterway would be plagued by problems at best and chaos at worst.</td>\n",
       "      <td>World</td>\n",
       "      <td>2</td>\n",
       "      <td>0</td>\n",
       "      <td>0</td>\n",
       "      <td>1</td>\n",
       "      <td>0</td>\n",
       "      <td>panama city, panama -- when the united states gave panama control over its canal, many observers predicted that the international waterway would be plagued by problems at best and chaos at worst.</td>\n",
       "      <td>panama city, panama -- when the united states gave panama control over its canal, many observers predicted that the international waterway would be plagued by problems at best and chaos at worst.</td>\n",
       "      <td>[]</td>\n",
       "      <td>panama city, panama -- when the united states gave panama control over its canal, many observers predicted that the international waterway would be plagued by problems at best and chaos at worst.</td>\n",
       "      <td>panama city, panama -- when the united states gave panama control over its canal, many observers predicted that the international waterway would be plagued by problems at best and chaos at worst.</td>\n",
       "      <td>panama city, panama -- when the united states gave panama control over its canal, many observers predicted that the international waterway would be plagued by problems at best and chaos at worst.</td>\n",
       "      <td>panama city panama when the united states gave panama control over its canal many observers predicted that the international waterway would be plagued by problems at best and chaos at worst</td>\n",
       "    </tr>\n",
       "    <tr>\n",
       "      <th>3</th>\n",
       "      <td>Gilbert Arenas, Jarvis Hayes and Anthony Peeler return from minor injuries to play in the Wizards' 97-85 victory over the Bobcats.</td>\n",
       "      <td>Sports</td>\n",
       "      <td>1</td>\n",
       "      <td>0</td>\n",
       "      <td>1</td>\n",
       "      <td>0</td>\n",
       "      <td>0</td>\n",
       "      <td>gilbert arenas, jarvis hayes and anthony peeler return from minor injuries to play in the wizards' 97-85 victory over the bobcats.</td>\n",
       "      <td>gilbert arenas, jarvis hayes and anthony peeler return from minor injuries to play in the wizards' 97-85 victory over the bobcats.</td>\n",
       "      <td>[]</td>\n",
       "      <td>gilbert arenas, jarvis hayes and anthony peeler return from minor injuries to play in the wizards' 97-85 victory over the bobcats.</td>\n",
       "      <td>gilbert arenas, jarvis hayes and anthony peeler return from minor injuries to play in the wizards' 97-85 victory over the bobcats.</td>\n",
       "      <td>gilbert arenas, jarvis hayes and anthony peeler return from minor injuries to play in the wizards' 97-85 victory over the bobcats.</td>\n",
       "      <td>gilbert arenas jarvis hayes and anthony peeler return from minor injuries to play in the wizards victory over the bobcats</td>\n",
       "    </tr>\n",
       "    <tr>\n",
       "      <th>4</th>\n",
       "      <td>MEMPHIS, Tenn. -- Kobe Bryant had his worst shooting night of the season Wednesday in the Lakers #39; 110-87 loss to the Grizzlies, and worse yet, he needed nearly 45 minutes of postgame treatment for plantar fasciitis in his left foot.</td>\n",
       "      <td>Sports</td>\n",
       "      <td>1</td>\n",
       "      <td>0</td>\n",
       "      <td>1</td>\n",
       "      <td>0</td>\n",
       "      <td>0</td>\n",
       "      <td>memphis, tenn. -- kobe bryant had his worst shooting night of the season wednesday in the lakers #39; 110-87 loss to the grizzlies, and worse yet, he needed nearly 45 minutes of postgame treatment for plantar fasciitis in his left foot.</td>\n",
       "      <td>memphis, tenn. -- kobe bryant had his worst shooting night of the season wednesday in the lakers #39; 110-87 loss to the grizzlies, and worse yet, he needed nearly 45 minutes of postgame treatment for plantar fasciitis in his left foot.</td>\n",
       "      <td>[#39]</td>\n",
       "      <td>memphis, tenn. -- kobe bryant had his worst shooting night of the season wednesday in the lakers #39; 110-87 loss to the grizzlies, and worse yet, he needed nearly 45 minutes of postgame treatment for plantar fasciitis in his left foot.</td>\n",
       "      <td>memphis, tenn. -- kobe bryant had his worst shooting night of the season wednesday in the lakers ; 110-87 loss to the grizzlies, and worse yet, he needed nearly 45 minutes of postgame treatment for plantar fasciitis in his left foot.</td>\n",
       "      <td>memphis, tenn. -- kobe bryant had his worst shooting night of the season wednesday in the lakers ; 110-87 loss to the grizzlies, and worse yet, he needed nearly 45 minutes of postgame treatment for plantar fasciitis in his left foot.</td>\n",
       "      <td>memphis tenn kobe bryant had his worst shooting night of the season wednesday in the lakers loss to the grizzlies and worse yet he needed nearly minutes of postgame treatment for plantar fasciitis in his left foot</td>\n",
       "    </tr>\n",
       "  </tbody>\n",
       "</table>\n",
       "</div>\n",
       "      <button class=\"colab-df-convert\" onclick=\"convertToInteractive('df-1a77d00f-1f32-4e28-a0ce-e651e3bbaa14')\"\n",
       "              title=\"Convert this dataframe to an interactive table.\"\n",
       "              style=\"display:none;\">\n",
       "        \n",
       "  <svg xmlns=\"http://www.w3.org/2000/svg\" height=\"24px\"viewBox=\"0 0 24 24\"\n",
       "       width=\"24px\">\n",
       "    <path d=\"M0 0h24v24H0V0z\" fill=\"none\"/>\n",
       "    <path d=\"M18.56 5.44l.94 2.06.94-2.06 2.06-.94-2.06-.94-.94-2.06-.94 2.06-2.06.94zm-11 1L8.5 8.5l.94-2.06 2.06-.94-2.06-.94L8.5 2.5l-.94 2.06-2.06.94zm10 10l.94 2.06.94-2.06 2.06-.94-2.06-.94-.94-2.06-.94 2.06-2.06.94z\"/><path d=\"M17.41 7.96l-1.37-1.37c-.4-.4-.92-.59-1.43-.59-.52 0-1.04.2-1.43.59L10.3 9.45l-7.72 7.72c-.78.78-.78 2.05 0 2.83L4 21.41c.39.39.9.59 1.41.59.51 0 1.02-.2 1.41-.59l7.78-7.78 2.81-2.81c.8-.78.8-2.07 0-2.86zM5.41 20L4 18.59l7.72-7.72 1.47 1.35L5.41 20z\"/>\n",
       "  </svg>\n",
       "      </button>\n",
       "      \n",
       "  <style>\n",
       "    .colab-df-container {\n",
       "      display:flex;\n",
       "      flex-wrap:wrap;\n",
       "      gap: 12px;\n",
       "    }\n",
       "\n",
       "    .colab-df-convert {\n",
       "      background-color: #E8F0FE;\n",
       "      border: none;\n",
       "      border-radius: 50%;\n",
       "      cursor: pointer;\n",
       "      display: none;\n",
       "      fill: #1967D2;\n",
       "      height: 32px;\n",
       "      padding: 0 0 0 0;\n",
       "      width: 32px;\n",
       "    }\n",
       "\n",
       "    .colab-df-convert:hover {\n",
       "      background-color: #E2EBFA;\n",
       "      box-shadow: 0px 1px 2px rgba(60, 64, 67, 0.3), 0px 1px 3px 1px rgba(60, 64, 67, 0.15);\n",
       "      fill: #174EA6;\n",
       "    }\n",
       "\n",
       "    [theme=dark] .colab-df-convert {\n",
       "      background-color: #3B4455;\n",
       "      fill: #D2E3FC;\n",
       "    }\n",
       "\n",
       "    [theme=dark] .colab-df-convert:hover {\n",
       "      background-color: #434B5C;\n",
       "      box-shadow: 0px 1px 3px 1px rgba(0, 0, 0, 0.15);\n",
       "      filter: drop-shadow(0px 1px 2px rgba(0, 0, 0, 0.3));\n",
       "      fill: #FFFFFF;\n",
       "    }\n",
       "  </style>\n",
       "\n",
       "      <script>\n",
       "        const buttonEl =\n",
       "          document.querySelector('#df-1a77d00f-1f32-4e28-a0ce-e651e3bbaa14 button.colab-df-convert');\n",
       "        buttonEl.style.display =\n",
       "          google.colab.kernel.accessAllowed ? 'block' : 'none';\n",
       "\n",
       "        async function convertToInteractive(key) {\n",
       "          const element = document.querySelector('#df-1a77d00f-1f32-4e28-a0ce-e651e3bbaa14');\n",
       "          const dataTable =\n",
       "            await google.colab.kernel.invokeFunction('convertToInteractive',\n",
       "                                                     [key], {});\n",
       "          if (!dataTable) return;\n",
       "\n",
       "          const docLinkHtml = 'Like what you see? Visit the ' +\n",
       "            '<a target=\"_blank\" href=https://colab.research.google.com/notebooks/data_table.ipynb>data table notebook</a>'\n",
       "            + ' to learn more about interactive tables.';\n",
       "          element.innerHTML = '';\n",
       "          dataTable['output_type'] = 'display_data';\n",
       "          await google.colab.output.renderOutput(dataTable, element);\n",
       "          const docLink = document.createElement('div');\n",
       "          docLink.innerHTML = docLinkHtml;\n",
       "          element.appendChild(docLink);\n",
       "        }\n",
       "      </script>\n",
       "    </div>\n",
       "  </div>\n",
       "  "
      ],
      "text/plain": [
       "                                                                                                                                                                                                                                           text  \\\n",
       "0  John Souza, a volunteer with the Boone County chapter of the American Red Cross, is the second Columbia resident to join efforts to assist people who were affected by Tropical Storm Bonnie and Hurricane Charley.                            \n",
       "1  Spain needs only to beat an under-strength French team to secure its place in the Davis Cup tennis final, while Britain looks to the experience of Tim Henman and Greg Rusedski in its World Group play-off with Austria this weekend.         \n",
       "2  PANAMA CITY, Panama -- When the United States gave Panama control over its canal, many observers predicted that the international waterway would be plagued by problems at best and chaos at worst.                                            \n",
       "3  Gilbert Arenas, Jarvis Hayes and Anthony Peeler return from minor injuries to play in the Wizards' 97-85 victory over the Bobcats.                                                                                                             \n",
       "4  MEMPHIS, Tenn. -- Kobe Bryant had his worst shooting night of the season Wednesday in the Lakers #39; 110-87 loss to the Grizzlies, and worse yet, he needed nearly 45 minutes of postgame treatment for plantar fasciitis in his left foot.   \n",
       "\n",
       "      label  label_int  science_int  sports_int  world_int  business_int  \\\n",
       "0  Business  3          0            0           0          1              \n",
       "1  Sports    1          0            1           0          0              \n",
       "2  World     2          0            0           1          0              \n",
       "3  Sports    1          0            1           0          0              \n",
       "4  Sports    1          0            1           0          0              \n",
       "\n",
       "                                                                                                                                                                                                                                           news  \\\n",
       "0  john souza, a volunteer with the boone county chapter of the american red cross, is the second columbia resident to join efforts to assist people who were affected by tropical storm bonnie and hurricane charley.                            \n",
       "1  spain needs only to beat an under-strength french team to secure its place in the davis cup tennis final, while britain looks to the experience of tim henman and greg rusedski in its world group play-off with austria this weekend.         \n",
       "2  panama city, panama -- when the united states gave panama control over its canal, many observers predicted that the international waterway would be plagued by problems at best and chaos at worst.                                            \n",
       "3  gilbert arenas, jarvis hayes and anthony peeler return from minor injuries to play in the wizards' 97-85 victory over the bobcats.                                                                                                             \n",
       "4  memphis, tenn. -- kobe bryant had his worst shooting night of the season wednesday in the lakers #39; 110-87 loss to the grizzlies, and worse yet, he needed nearly 45 minutes of postgame treatment for plantar fasciitis in his left foot.   \n",
       "\n",
       "                                                                                                                                                                                                                                   remove_emoji  \\\n",
       "0  john souza, a volunteer with the boone county chapter of the american red cross, is the second columbia resident to join efforts to assist people who were affected by tropical storm bonnie and hurricane charley.                            \n",
       "1  spain needs only to beat an under-strength french team to secure its place in the davis cup tennis final, while britain looks to the experience of tim henman and greg rusedski in its world group play-off with austria this weekend.         \n",
       "2  panama city, panama -- when the united states gave panama control over its canal, many observers predicted that the international waterway would be plagued by problems at best and chaos at worst.                                            \n",
       "3  gilbert arenas, jarvis hayes and anthony peeler return from minor injuries to play in the wizards' 97-85 victory over the bobcats.                                                                                                             \n",
       "4  memphis, tenn. -- kobe bryant had his worst shooting night of the season wednesday in the lakers #39; 110-87 loss to the grizzlies, and worse yet, he needed nearly 45 minutes of postgame treatment for plantar fasciitis in his left foot.   \n",
       "\n",
       "  hastags  \\\n",
       "0  []       \n",
       "1  []       \n",
       "2  []       \n",
       "3  []       \n",
       "4  [#39]    \n",
       "\n",
       "                                                                                                                                                                                                                                   remove_email  \\\n",
       "0  john souza, a volunteer with the boone county chapter of the american red cross, is the second columbia resident to join efforts to assist people who were affected by tropical storm bonnie and hurricane charley.                            \n",
       "1  spain needs only to beat an under-strength french team to secure its place in the davis cup tennis final, while britain looks to the experience of tim henman and greg rusedski in its world group play-off with austria this weekend.         \n",
       "2  panama city, panama -- when the united states gave panama control over its canal, many observers predicted that the international waterway would be plagued by problems at best and chaos at worst.                                            \n",
       "3  gilbert arenas, jarvis hayes and anthony peeler return from minor injuries to play in the wizards' 97-85 victory over the bobcats.                                                                                                             \n",
       "4  memphis, tenn. -- kobe bryant had his worst shooting night of the season wednesday in the lakers #39; 110-87 loss to the grizzlies, and worse yet, he needed nearly 45 minutes of postgame treatment for plantar fasciitis in his left foot.   \n",
       "\n",
       "                                                                                                                                                                                                                              remove_hashtag  \\\n",
       "0  john souza, a volunteer with the boone county chapter of the american red cross, is the second columbia resident to join efforts to assist people who were affected by tropical storm bonnie and hurricane charley.                         \n",
       "1  spain needs only to beat an under-strength french team to secure its place in the davis cup tennis final, while britain looks to the experience of tim henman and greg rusedski in its world group play-off with austria this weekend.      \n",
       "2  panama city, panama -- when the united states gave panama control over its canal, many observers predicted that the international waterway would be plagued by problems at best and chaos at worst.                                         \n",
       "3  gilbert arenas, jarvis hayes and anthony peeler return from minor injuries to play in the wizards' 97-85 victory over the bobcats.                                                                                                          \n",
       "4  memphis, tenn. -- kobe bryant had his worst shooting night of the season wednesday in the lakers ; 110-87 loss to the grizzlies, and worse yet, he needed nearly 45 minutes of postgame treatment for plantar fasciitis in his left foot.   \n",
       "\n",
       "                                                                                                                                                                                                                    remove_special_character  \\\n",
       "0  john souza, a volunteer with the boone county chapter of the american red cross, is the second columbia resident to join efforts to assist people who were affected by tropical storm bonnie and hurricane charley.                         \n",
       "1  spain needs only to beat an under-strength french team to secure its place in the davis cup tennis final, while britain looks to the experience of tim henman and greg rusedski in its world group play-off with austria this weekend.      \n",
       "2  panama city, panama -- when the united states gave panama control over its canal, many observers predicted that the international waterway would be plagued by problems at best and chaos at worst.                                         \n",
       "3  gilbert arenas, jarvis hayes and anthony peeler return from minor injuries to play in the wizards' 97-85 victory over the bobcats.                                                                                                          \n",
       "4  memphis, tenn. -- kobe bryant had his worst shooting night of the season wednesday in the lakers ; 110-87 loss to the grizzlies, and worse yet, he needed nearly 45 minutes of postgame treatment for plantar fasciitis in his left foot.   \n",
       "\n",
       "                                                                                                                                                                                                                              text_clean  \n",
       "0  john souza a volunteer with the boone county chapter of the american red cross is the second columbia resident to join efforts to assist people who were affected by tropical storm bonnie and hurricane charley                       \n",
       "1  spain needs only to beat an under strength french team to secure its place in the davis cup tennis final while britain looks to the experience of tim henman and greg rusedski in its world group play off with austria this weekend   \n",
       "2  panama city panama when the united states gave panama control over its canal many observers predicted that the international waterway would be plagued by problems at best and chaos at worst                                          \n",
       "3  gilbert arenas jarvis hayes and anthony peeler return from minor injuries to play in the wizards victory over the bobcats                                                                                                              \n",
       "4  memphis tenn kobe bryant had his worst shooting night of the season wednesday in the lakers loss to the grizzlies and worse yet he needed nearly minutes of postgame treatment for plantar fasciitis in his left foot                  "
      ]
     },
     "execution_count": 85,
     "metadata": {},
     "output_type": "execute_result"
    }
   ],
   "source": [
    "train_data.head()"
   ]
  },
  {
   "cell_type": "markdown",
   "metadata": {
    "id": "s_Vz8ayVDzqu"
   },
   "source": [
    "# Data Preprocessing"
   ]
  },
  {
   "cell_type": "code",
   "execution_count": null,
   "metadata": {
    "execution": {
     "iopub.execute_input": "2021-06-30T02:17:02.377181Z",
     "iopub.status.busy": "2021-06-30T02:17:02.376871Z",
     "iopub.status.idle": "2021-06-30T02:17:02.47037Z",
     "shell.execute_reply": "2021-06-30T02:17:02.469099Z",
     "shell.execute_reply.started": "2021-06-30T02:17:02.377152Z"
    },
    "id": "EZdzv0HwDzqu"
   },
   "outputs": [],
   "source": [
    "# select columns\n",
    "train_data = train_data[['text', 'text_clean', 'label_int']]\n",
    "test_data = test_data[['text', 'text_clean', 'label_int']]"
   ]
  },
  {
   "cell_type": "code",
   "execution_count": null,
   "metadata": {
    "colab": {
     "base_uri": "https://localhost:8080/",
     "height": 452
    },
    "id": "2lyk1VRqgSWM",
    "outputId": "c83ba433-554d-415b-d25d-c752f994f6fa"
   },
   "outputs": [
    {
     "data": {
      "text/html": [
       "\n",
       "  <div id=\"df-a1d26826-b551-45aa-b3c3-746f191bdd3b\">\n",
       "    <div class=\"colab-df-container\">\n",
       "      <div>\n",
       "<style scoped>\n",
       "    .dataframe tbody tr th:only-of-type {\n",
       "        vertical-align: middle;\n",
       "    }\n",
       "\n",
       "    .dataframe tbody tr th {\n",
       "        vertical-align: top;\n",
       "    }\n",
       "\n",
       "    .dataframe thead th {\n",
       "        text-align: right;\n",
       "    }\n",
       "</style>\n",
       "<table border=\"1\" class=\"dataframe\">\n",
       "  <thead>\n",
       "    <tr style=\"text-align: right;\">\n",
       "      <th></th>\n",
       "      <th>text</th>\n",
       "      <th>text_clean</th>\n",
       "      <th>label_int</th>\n",
       "    </tr>\n",
       "  </thead>\n",
       "  <tbody>\n",
       "    <tr>\n",
       "      <th>0</th>\n",
       "      <td>John Souza, a volunteer with the Boone County chapter of the American Red Cross, is the second Columbia resident to join efforts to assist people who were affected by Tropical Storm Bonnie and Hurricane Charley.</td>\n",
       "      <td>john souza a volunteer with the boone county chapter of the american red cross is the second columbia resident to join efforts to assist people who were affected by tropical storm bonnie and hurricane charley</td>\n",
       "      <td>3</td>\n",
       "    </tr>\n",
       "    <tr>\n",
       "      <th>1</th>\n",
       "      <td>Spain needs only to beat an under-strength French team to secure its place in the Davis Cup tennis final, while Britain looks to the experience of Tim Henman and Greg Rusedski in its World Group play-off with Austria this weekend.</td>\n",
       "      <td>spain needs only to beat an under strength french team to secure its place in the davis cup tennis final while britain looks to the experience of tim henman and greg rusedski in its world group play off with austria this weekend</td>\n",
       "      <td>1</td>\n",
       "    </tr>\n",
       "    <tr>\n",
       "      <th>2</th>\n",
       "      <td>PANAMA CITY, Panama -- When the United States gave Panama control over its canal, many observers predicted that the international waterway would be plagued by problems at best and chaos at worst.</td>\n",
       "      <td>panama city panama when the united states gave panama control over its canal many observers predicted that the international waterway would be plagued by problems at best and chaos at worst</td>\n",
       "      <td>2</td>\n",
       "    </tr>\n",
       "    <tr>\n",
       "      <th>3</th>\n",
       "      <td>Gilbert Arenas, Jarvis Hayes and Anthony Peeler return from minor injuries to play in the Wizards' 97-85 victory over the Bobcats.</td>\n",
       "      <td>gilbert arenas jarvis hayes and anthony peeler return from minor injuries to play in the wizards victory over the bobcats</td>\n",
       "      <td>1</td>\n",
       "    </tr>\n",
       "    <tr>\n",
       "      <th>4</th>\n",
       "      <td>MEMPHIS, Tenn. -- Kobe Bryant had his worst shooting night of the season Wednesday in the Lakers #39; 110-87 loss to the Grizzlies, and worse yet, he needed nearly 45 minutes of postgame treatment for plantar fasciitis in his left foot.</td>\n",
       "      <td>memphis tenn kobe bryant had his worst shooting night of the season wednesday in the lakers loss to the grizzlies and worse yet he needed nearly minutes of postgame treatment for plantar fasciitis in his left foot</td>\n",
       "      <td>1</td>\n",
       "    </tr>\n",
       "  </tbody>\n",
       "</table>\n",
       "</div>\n",
       "      <button class=\"colab-df-convert\" onclick=\"convertToInteractive('df-a1d26826-b551-45aa-b3c3-746f191bdd3b')\"\n",
       "              title=\"Convert this dataframe to an interactive table.\"\n",
       "              style=\"display:none;\">\n",
       "        \n",
       "  <svg xmlns=\"http://www.w3.org/2000/svg\" height=\"24px\"viewBox=\"0 0 24 24\"\n",
       "       width=\"24px\">\n",
       "    <path d=\"M0 0h24v24H0V0z\" fill=\"none\"/>\n",
       "    <path d=\"M18.56 5.44l.94 2.06.94-2.06 2.06-.94-2.06-.94-.94-2.06-.94 2.06-2.06.94zm-11 1L8.5 8.5l.94-2.06 2.06-.94-2.06-.94L8.5 2.5l-.94 2.06-2.06.94zm10 10l.94 2.06.94-2.06 2.06-.94-2.06-.94-.94-2.06-.94 2.06-2.06.94z\"/><path d=\"M17.41 7.96l-1.37-1.37c-.4-.4-.92-.59-1.43-.59-.52 0-1.04.2-1.43.59L10.3 9.45l-7.72 7.72c-.78.78-.78 2.05 0 2.83L4 21.41c.39.39.9.59 1.41.59.51 0 1.02-.2 1.41-.59l7.78-7.78 2.81-2.81c.8-.78.8-2.07 0-2.86zM5.41 20L4 18.59l7.72-7.72 1.47 1.35L5.41 20z\"/>\n",
       "  </svg>\n",
       "      </button>\n",
       "      \n",
       "  <style>\n",
       "    .colab-df-container {\n",
       "      display:flex;\n",
       "      flex-wrap:wrap;\n",
       "      gap: 12px;\n",
       "    }\n",
       "\n",
       "    .colab-df-convert {\n",
       "      background-color: #E8F0FE;\n",
       "      border: none;\n",
       "      border-radius: 50%;\n",
       "      cursor: pointer;\n",
       "      display: none;\n",
       "      fill: #1967D2;\n",
       "      height: 32px;\n",
       "      padding: 0 0 0 0;\n",
       "      width: 32px;\n",
       "    }\n",
       "\n",
       "    .colab-df-convert:hover {\n",
       "      background-color: #E2EBFA;\n",
       "      box-shadow: 0px 1px 2px rgba(60, 64, 67, 0.3), 0px 1px 3px 1px rgba(60, 64, 67, 0.15);\n",
       "      fill: #174EA6;\n",
       "    }\n",
       "\n",
       "    [theme=dark] .colab-df-convert {\n",
       "      background-color: #3B4455;\n",
       "      fill: #D2E3FC;\n",
       "    }\n",
       "\n",
       "    [theme=dark] .colab-df-convert:hover {\n",
       "      background-color: #434B5C;\n",
       "      box-shadow: 0px 1px 3px 1px rgba(0, 0, 0, 0.15);\n",
       "      filter: drop-shadow(0px 1px 2px rgba(0, 0, 0, 0.3));\n",
       "      fill: #FFFFFF;\n",
       "    }\n",
       "  </style>\n",
       "\n",
       "      <script>\n",
       "        const buttonEl =\n",
       "          document.querySelector('#df-a1d26826-b551-45aa-b3c3-746f191bdd3b button.colab-df-convert');\n",
       "        buttonEl.style.display =\n",
       "          google.colab.kernel.accessAllowed ? 'block' : 'none';\n",
       "\n",
       "        async function convertToInteractive(key) {\n",
       "          const element = document.querySelector('#df-a1d26826-b551-45aa-b3c3-746f191bdd3b');\n",
       "          const dataTable =\n",
       "            await google.colab.kernel.invokeFunction('convertToInteractive',\n",
       "                                                     [key], {});\n",
       "          if (!dataTable) return;\n",
       "\n",
       "          const docLinkHtml = 'Like what you see? Visit the ' +\n",
       "            '<a target=\"_blank\" href=https://colab.research.google.com/notebooks/data_table.ipynb>data table notebook</a>'\n",
       "            + ' to learn more about interactive tables.';\n",
       "          element.innerHTML = '';\n",
       "          dataTable['output_type'] = 'display_data';\n",
       "          await google.colab.output.renderOutput(dataTable, element);\n",
       "          const docLink = document.createElement('div');\n",
       "          docLink.innerHTML = docLinkHtml;\n",
       "          element.appendChild(docLink);\n",
       "        }\n",
       "      </script>\n",
       "    </div>\n",
       "  </div>\n",
       "  "
      ],
      "text/plain": [
       "                                                                                                                                                                                                                                           text  \\\n",
       "0  John Souza, a volunteer with the Boone County chapter of the American Red Cross, is the second Columbia resident to join efforts to assist people who were affected by Tropical Storm Bonnie and Hurricane Charley.                            \n",
       "1  Spain needs only to beat an under-strength French team to secure its place in the Davis Cup tennis final, while Britain looks to the experience of Tim Henman and Greg Rusedski in its World Group play-off with Austria this weekend.         \n",
       "2  PANAMA CITY, Panama -- When the United States gave Panama control over its canal, many observers predicted that the international waterway would be plagued by problems at best and chaos at worst.                                            \n",
       "3  Gilbert Arenas, Jarvis Hayes and Anthony Peeler return from minor injuries to play in the Wizards' 97-85 victory over the Bobcats.                                                                                                             \n",
       "4  MEMPHIS, Tenn. -- Kobe Bryant had his worst shooting night of the season Wednesday in the Lakers #39; 110-87 loss to the Grizzlies, and worse yet, he needed nearly 45 minutes of postgame treatment for plantar fasciitis in his left foot.   \n",
       "\n",
       "                                                                                                                                                                                                                              text_clean  \\\n",
       "0  john souza a volunteer with the boone county chapter of the american red cross is the second columbia resident to join efforts to assist people who were affected by tropical storm bonnie and hurricane charley                        \n",
       "1  spain needs only to beat an under strength french team to secure its place in the davis cup tennis final while britain looks to the experience of tim henman and greg rusedski in its world group play off with austria this weekend    \n",
       "2  panama city panama when the united states gave panama control over its canal many observers predicted that the international waterway would be plagued by problems at best and chaos at worst                                           \n",
       "3  gilbert arenas jarvis hayes and anthony peeler return from minor injuries to play in the wizards victory over the bobcats                                                                                                               \n",
       "4  memphis tenn kobe bryant had his worst shooting night of the season wednesday in the lakers loss to the grizzlies and worse yet he needed nearly minutes of postgame treatment for plantar fasciitis in his left foot                   \n",
       "\n",
       "   label_int  \n",
       "0  3          \n",
       "1  1          \n",
       "2  2          \n",
       "3  1          \n",
       "4  1          "
      ]
     },
     "execution_count": 88,
     "metadata": {},
     "output_type": "execute_result"
    }
   ],
   "source": [
    "train_data.head()"
   ]
  },
  {
   "cell_type": "code",
   "execution_count": null,
   "metadata": {
    "colab": {
     "base_uri": "https://localhost:8080/",
     "height": 760
    },
    "id": "4MWzoPXugaKM",
    "outputId": "94ecc5b4-e3ba-46bd-cfda-66ba09b0ccb0"
   },
   "outputs": [
    {
     "data": {
      "text/html": [
       "\n",
       "  <div id=\"df-49469e98-0fcb-4bd2-ac25-443fb0fbb8a2\">\n",
       "    <div class=\"colab-df-container\">\n",
       "      <div>\n",
       "<style scoped>\n",
       "    .dataframe tbody tr th:only-of-type {\n",
       "        vertical-align: middle;\n",
       "    }\n",
       "\n",
       "    .dataframe tbody tr th {\n",
       "        vertical-align: top;\n",
       "    }\n",
       "\n",
       "    .dataframe thead th {\n",
       "        text-align: right;\n",
       "    }\n",
       "</style>\n",
       "<table border=\"1\" class=\"dataframe\">\n",
       "  <thead>\n",
       "    <tr style=\"text-align: right;\">\n",
       "      <th></th>\n",
       "      <th>text</th>\n",
       "      <th>text_clean</th>\n",
       "      <th>label_int</th>\n",
       "    </tr>\n",
       "  </thead>\n",
       "  <tbody>\n",
       "    <tr>\n",
       "      <th>0</th>\n",
       "      <td>It #39;s over. Our relationship just hasn #39;t been working for a while, and now, this is it. I #39;m leaving you for another browser.</td>\n",
       "      <td>it s over our relationship just hasn t been working for a while and now this is it i m leaving you for another browser</td>\n",
       "      <td>0</td>\n",
       "    </tr>\n",
       "    <tr>\n",
       "      <th>1</th>\n",
       "      <td>Toshiba Corp. announced Tuesday a 80 gigabyte (GB), 1.8-inch hard drive that will set off speculation of a new, higher capacity Apple iPod models later in 2005.</td>\n",
       "      <td>toshiba corp announced tuesday a gigabyte gb inch hard drive that will set off speculation of a new higher capacity apple ipod models later in</td>\n",
       "      <td>0</td>\n",
       "    </tr>\n",
       "    <tr>\n",
       "      <th>2</th>\n",
       "      <td>Scientists go back to the drawing board in their battle against poison resistant rats.</td>\n",
       "      <td>scientists go back to the drawing board in their battle against poison resistant rats</td>\n",
       "      <td>0</td>\n",
       "    </tr>\n",
       "    <tr>\n",
       "      <th>3</th>\n",
       "      <td>The first shuttle flight since the Columbia tragedy has been pushed back by NASA. This is due to hurricane damages and implementation of new safety measures.</td>\n",
       "      <td>the first shuttle flight since the columbia tragedy has been pushed back by nasa this is due to hurricane damages and implementation of new safety measures</td>\n",
       "      <td>0</td>\n",
       "    </tr>\n",
       "    <tr>\n",
       "      <th>4</th>\n",
       "      <td>NEW YORK, Sept 21: Iraqi Prime Minister Iyad Allawi discussed proposals for rejuvenating the Iraqi army when he met President Pervez Musharraf in New York Monday evening, officials told Dawn.</td>\n",
       "      <td>new york sept iraqi prime minister iyad allawi discussed proposals for rejuvenating the iraqi army when he met president pervez musharraf in new york monday evening officials told dawn</td>\n",
       "      <td>2</td>\n",
       "    </tr>\n",
       "    <tr>\n",
       "      <th>5</th>\n",
       "      <td>Hynix of Korea has sold its non-memory semiconductor operations to Citigroup Venture Capital for Won954.3bn (\\$828m) and it will be renamed MagnaChip Semiconductor.</td>\n",
       "      <td>hynix of korea has sold its non memory semiconductor operations to citigroup venture capital for and it will be renamed magnachip semiconductor</td>\n",
       "      <td>0</td>\n",
       "    </tr>\n",
       "    <tr>\n",
       "      <th>6</th>\n",
       "      <td>Four seconds after he checked into his first basketball game in nearly a year, Alonzo Mourning drilled a jumper from the foul line, then pointed to the ceiling.</td>\n",
       "      <td>four seconds after he checked into his first basketball game in nearly a year alonzo mourning drilled a jumper from the foul line then pointed to the ceiling</td>\n",
       "      <td>1</td>\n",
       "    </tr>\n",
       "    <tr>\n",
       "      <th>7</th>\n",
       "      <td>Virgin will use Airbus A340-600 aircraft on the London-Sydney route, but plans to increase capacity by using Boeing 747s or adding a second daily service.</td>\n",
       "      <td>virgin will use airbus aircraft on the london sydney route but plans to increase capacity by using boeing or adding a second daily service</td>\n",
       "      <td>3</td>\n",
       "    </tr>\n",
       "    <tr>\n",
       "      <th>8</th>\n",
       "      <td>From 26,000 light-years-- near the center of our galaxy-- comes a radio signal that can be interpreted as a cloud of sugar molecules, one key component of what might have assisted the development of life if transported on primordial comets.    Astrobiology Magazine -- Astronomers using the National Science Foundation's giant Robert C...</td>\n",
       "      <td>from light years near the center of our galaxy comes a radio signal that can be interpreted as a cloud of sugar molecules one key component of what might have assisted the development of life if transported on primordial comets astrobiology magazine astronomers using the national science foundation is giant robert c</td>\n",
       "      <td>0</td>\n",
       "    </tr>\n",
       "    <tr>\n",
       "      <th>9</th>\n",
       "      <td>At Storage Networking World yesterday, Dell President and CEO Kevin Rollins talked about his company's relationship with EMC and the development of standards to help users manage complex storage-area networks.</td>\n",
       "      <td>at storage networking world yesterday dell president and ceo kevin rollins talked about his company is relationship with emc and the development of standards to help users manage complex storage area networks</td>\n",
       "      <td>0</td>\n",
       "    </tr>\n",
       "  </tbody>\n",
       "</table>\n",
       "</div>\n",
       "      <button class=\"colab-df-convert\" onclick=\"convertToInteractive('df-49469e98-0fcb-4bd2-ac25-443fb0fbb8a2')\"\n",
       "              title=\"Convert this dataframe to an interactive table.\"\n",
       "              style=\"display:none;\">\n",
       "        \n",
       "  <svg xmlns=\"http://www.w3.org/2000/svg\" height=\"24px\"viewBox=\"0 0 24 24\"\n",
       "       width=\"24px\">\n",
       "    <path d=\"M0 0h24v24H0V0z\" fill=\"none\"/>\n",
       "    <path d=\"M18.56 5.44l.94 2.06.94-2.06 2.06-.94-2.06-.94-.94-2.06-.94 2.06-2.06.94zm-11 1L8.5 8.5l.94-2.06 2.06-.94-2.06-.94L8.5 2.5l-.94 2.06-2.06.94zm10 10l.94 2.06.94-2.06 2.06-.94-2.06-.94-.94-2.06-.94 2.06-2.06.94z\"/><path d=\"M17.41 7.96l-1.37-1.37c-.4-.4-.92-.59-1.43-.59-.52 0-1.04.2-1.43.59L10.3 9.45l-7.72 7.72c-.78.78-.78 2.05 0 2.83L4 21.41c.39.39.9.59 1.41.59.51 0 1.02-.2 1.41-.59l7.78-7.78 2.81-2.81c.8-.78.8-2.07 0-2.86zM5.41 20L4 18.59l7.72-7.72 1.47 1.35L5.41 20z\"/>\n",
       "  </svg>\n",
       "      </button>\n",
       "      \n",
       "  <style>\n",
       "    .colab-df-container {\n",
       "      display:flex;\n",
       "      flex-wrap:wrap;\n",
       "      gap: 12px;\n",
       "    }\n",
       "\n",
       "    .colab-df-convert {\n",
       "      background-color: #E8F0FE;\n",
       "      border: none;\n",
       "      border-radius: 50%;\n",
       "      cursor: pointer;\n",
       "      display: none;\n",
       "      fill: #1967D2;\n",
       "      height: 32px;\n",
       "      padding: 0 0 0 0;\n",
       "      width: 32px;\n",
       "    }\n",
       "\n",
       "    .colab-df-convert:hover {\n",
       "      background-color: #E2EBFA;\n",
       "      box-shadow: 0px 1px 2px rgba(60, 64, 67, 0.3), 0px 1px 3px 1px rgba(60, 64, 67, 0.15);\n",
       "      fill: #174EA6;\n",
       "    }\n",
       "\n",
       "    [theme=dark] .colab-df-convert {\n",
       "      background-color: #3B4455;\n",
       "      fill: #D2E3FC;\n",
       "    }\n",
       "\n",
       "    [theme=dark] .colab-df-convert:hover {\n",
       "      background-color: #434B5C;\n",
       "      box-shadow: 0px 1px 3px 1px rgba(0, 0, 0, 0.15);\n",
       "      filter: drop-shadow(0px 1px 2px rgba(0, 0, 0, 0.3));\n",
       "      fill: #FFFFFF;\n",
       "    }\n",
       "  </style>\n",
       "\n",
       "      <script>\n",
       "        const buttonEl =\n",
       "          document.querySelector('#df-49469e98-0fcb-4bd2-ac25-443fb0fbb8a2 button.colab-df-convert');\n",
       "        buttonEl.style.display =\n",
       "          google.colab.kernel.accessAllowed ? 'block' : 'none';\n",
       "\n",
       "        async function convertToInteractive(key) {\n",
       "          const element = document.querySelector('#df-49469e98-0fcb-4bd2-ac25-443fb0fbb8a2');\n",
       "          const dataTable =\n",
       "            await google.colab.kernel.invokeFunction('convertToInteractive',\n",
       "                                                     [key], {});\n",
       "          if (!dataTable) return;\n",
       "\n",
       "          const docLinkHtml = 'Like what you see? Visit the ' +\n",
       "            '<a target=\"_blank\" href=https://colab.research.google.com/notebooks/data_table.ipynb>data table notebook</a>'\n",
       "            + ' to learn more about interactive tables.';\n",
       "          element.innerHTML = '';\n",
       "          dataTable['output_type'] = 'display_data';\n",
       "          await google.colab.output.renderOutput(dataTable, element);\n",
       "          const docLink = document.createElement('div');\n",
       "          docLink.innerHTML = docLinkHtml;\n",
       "          element.appendChild(docLink);\n",
       "        }\n",
       "      </script>\n",
       "    </div>\n",
       "  </div>\n",
       "  "
      ],
      "text/plain": [
       "                                                                                                                                                                                                                                                                                                                                                 text  \\\n",
       "0  It #39;s over. Our relationship just hasn #39;t been working for a while, and now, this is it. I #39;m leaving you for another browser.                                                                                                                                                                                                              \n",
       "1  Toshiba Corp. announced Tuesday a 80 gigabyte (GB), 1.8-inch hard drive that will set off speculation of a new, higher capacity Apple iPod models later in 2005.                                                                                                                                                                                     \n",
       "2  Scientists go back to the drawing board in their battle against poison resistant rats.                                                                                                                                                                                                                                                               \n",
       "3  The first shuttle flight since the Columbia tragedy has been pushed back by NASA. This is due to hurricane damages and implementation of new safety measures.                                                                                                                                                                                        \n",
       "4  NEW YORK, Sept 21: Iraqi Prime Minister Iyad Allawi discussed proposals for rejuvenating the Iraqi army when he met President Pervez Musharraf in New York Monday evening, officials told Dawn.                                                                                                                                                      \n",
       "5  Hynix of Korea has sold its non-memory semiconductor operations to Citigroup Venture Capital for Won954.3bn (\\$828m) and it will be renamed MagnaChip Semiconductor.                                                                                                                                                                                 \n",
       "6  Four seconds after he checked into his first basketball game in nearly a year, Alonzo Mourning drilled a jumper from the foul line, then pointed to the ceiling.                                                                                                                                                                                     \n",
       "7  Virgin will use Airbus A340-600 aircraft on the London-Sydney route, but plans to increase capacity by using Boeing 747s or adding a second daily service.                                                                                                                                                                                           \n",
       "8  From 26,000 light-years-- near the center of our galaxy-- comes a radio signal that can be interpreted as a cloud of sugar molecules, one key component of what might have assisted the development of life if transported on primordial comets.    Astrobiology Magazine -- Astronomers using the National Science Foundation's giant Robert C...   \n",
       "9  At Storage Networking World yesterday, Dell President and CEO Kevin Rollins talked about his company's relationship with EMC and the development of standards to help users manage complex storage-area networks.                                                                                                                                    \n",
       "\n",
       "                                                                                                                                                                                                                                                                                                                       text_clean  \\\n",
       "0  it s over our relationship just hasn t been working for a while and now this is it i m leaving you for another browser                                                                                                                                                                                                           \n",
       "1  toshiba corp announced tuesday a gigabyte gb inch hard drive that will set off speculation of a new higher capacity apple ipod models later in                                                                                                                                                                                   \n",
       "2  scientists go back to the drawing board in their battle against poison resistant rats                                                                                                                                                                                                                                            \n",
       "3  the first shuttle flight since the columbia tragedy has been pushed back by nasa this is due to hurricane damages and implementation of new safety measures                                                                                                                                                                      \n",
       "4  new york sept iraqi prime minister iyad allawi discussed proposals for rejuvenating the iraqi army when he met president pervez musharraf in new york monday evening officials told dawn                                                                                                                                         \n",
       "5  hynix of korea has sold its non memory semiconductor operations to citigroup venture capital for and it will be renamed magnachip semiconductor                                                                                                                                                                                  \n",
       "6  four seconds after he checked into his first basketball game in nearly a year alonzo mourning drilled a jumper from the foul line then pointed to the ceiling                                                                                                                                                                    \n",
       "7  virgin will use airbus aircraft on the london sydney route but plans to increase capacity by using boeing or adding a second daily service                                                                                                                                                                                       \n",
       "8  from light years near the center of our galaxy comes a radio signal that can be interpreted as a cloud of sugar molecules one key component of what might have assisted the development of life if transported on primordial comets astrobiology magazine astronomers using the national science foundation is giant robert c    \n",
       "9  at storage networking world yesterday dell president and ceo kevin rollins talked about his company is relationship with emc and the development of standards to help users manage complex storage area networks                                                                                                                 \n",
       "\n",
       "   label_int  \n",
       "0  0          \n",
       "1  0          \n",
       "2  0          \n",
       "3  0          \n",
       "4  2          \n",
       "5  0          \n",
       "6  1          \n",
       "7  3          \n",
       "8  0          \n",
       "9  0          "
      ]
     },
     "execution_count": 89,
     "metadata": {},
     "output_type": "execute_result"
    }
   ],
   "source": [
    "test_data.head(10)"
   ]
  },
  {
   "cell_type": "markdown",
   "metadata": {
    "id": "-8YH4rJ9Dzqu"
   },
   "source": [
    "## Lemmatization"
   ]
  },
  {
   "cell_type": "code",
   "execution_count": null,
   "metadata": {
    "colab": {
     "base_uri": "https://localhost:8080/"
    },
    "execution": {
     "iopub.execute_input": "2021-06-30T02:17:02.472472Z",
     "iopub.status.busy": "2021-06-30T02:17:02.472026Z",
     "iopub.status.idle": "2021-06-30T02:18:23.45756Z",
     "shell.execute_reply": "2021-06-30T02:18:23.456235Z",
     "shell.execute_reply.started": "2021-06-30T02:17:02.472408Z"
    },
    "id": "8wodOauPDzqv",
    "outputId": "8b7a51da-41dd-4107-9293-e493e616b5a2"
   },
   "outputs": [
    {
     "name": "stderr",
     "output_type": "stream",
     "text": [
      "[nltk_data] Downloading package punkt to /root/nltk_data...\n",
      "[nltk_data]   Package punkt is already up-to-date!\n",
      "[nltk_data] Downloading package averaged_perceptron_tagger to\n",
      "[nltk_data]     /root/nltk_data...\n",
      "[nltk_data]   Package averaged_perceptron_tagger is already up-to-\n",
      "[nltk_data]       date!\n",
      "[nltk_data] Downloading package wordnet to /root/nltk_data...\n",
      "[nltk_data]   Package wordnet is already up-to-date!\n",
      "[nltk_data] Downloading package stopwords to /root/nltk_data...\n",
      "[nltk_data]   Package stopwords is already up-to-date!\n",
      "[nltk_data] Downloading package omw-1.4 to /root/nltk_data...\n",
      "[nltk_data]   Package omw-1.4 is already up-to-date!\n"
     ]
    },
    {
     "data": {
      "text/plain": [
       "True"
      ]
     },
     "execution_count": 90,
     "metadata": {},
     "output_type": "execute_result"
    }
   ],
   "source": [
    "# import and download packages\n",
    "import nltk\n",
    "nltk.download('punkt')\n",
    "nltk.download('averaged_perceptron_tagger')\n",
    "nltk.download('wordnet')\n",
    "nltk.download('stopwords')\n",
    "nltk.download('omw-1.4')"
   ]
  },
  {
   "cell_type": "code",
   "execution_count": null,
   "metadata": {
    "execution": {
     "iopub.execute_input": "2021-06-30T02:18:23.45968Z",
     "iopub.status.busy": "2021-06-30T02:18:23.459219Z",
     "iopub.status.idle": "2021-06-30T02:24:40.152792Z",
     "shell.execute_reply": "2021-06-30T02:24:40.151667Z",
     "shell.execute_reply.started": "2021-06-30T02:18:23.459648Z"
    },
    "id": "QKiDD4s9Dzqv"
   },
   "outputs": [],
   "source": [
    "# import library\n",
    "import nltk\n",
    "from nltk.corpus import stopwords\n",
    "from nltk.tokenize import word_tokenize\n",
    "from nltk.stem.wordnet import WordNetLemmatizer\n",
    "from nltk.corpus import wordnet\n",
    "\n",
    "lemmatizer = nltk.stem.WordNetLemmatizer()\n",
    "wordnet_lemmatizer = WordNetLemmatizer()\n",
    "\n",
    "# define tag and lemmatization function\n",
    "def nltk_tag_to_wordnet_tag(nltk_tag):\n",
    "    if nltk_tag.startswith('J'):\n",
    "        return wordnet.ADJ\n",
    "    elif nltk_tag.startswith('V'):\n",
    "        return wordnet.VERB\n",
    "    elif nltk_tag.startswith('N'):\n",
    "        return wordnet.NOUN\n",
    "    elif nltk_tag.startswith('R'):\n",
    "        return wordnet.ADV\n",
    "    else:\n",
    "        return None\n",
    "\n",
    "def lemmatize_sentence(sentence):\n",
    "    #tokenize the sentence and find the POS tag for each token\n",
    "    nltk_tagged = nltk.pos_tag(nltk.word_tokenize(sentence))\n",
    "    #tuple of (token, wordnet_tag)\n",
    "    wordnet_tagged = map(lambda x: (x[0], nltk_tag_to_wordnet_tag(x[1])), nltk_tagged)\n",
    "    lemmatized_sentence = []\n",
    "    for word, tag in wordnet_tagged:\n",
    "        if tag is None:\n",
    "            #if there is no available tag, append the token as is\n",
    "            lemmatized_sentence.append(word)\n",
    "        else:\n",
    "            #else use the tag to lemmatize the token\n",
    "            lemmatized_sentence.append(lemmatizer.lemmatize(word, tag))\n",
    "    return \" \".join(lemmatized_sentence)\n",
    "\n",
    "\n",
    "\n",
    "# lemmatizing\n",
    "train_data['text_lemma'] = train_data['text_clean'].apply(lambda x: lemmatize_sentence(x))\n",
    "test_data['text_lemma'] = test_data['text_clean'].apply(lambda x: lemmatize_sentence(x))\n",
    "\n",
    "\n",
    "train_data = train_data[['text_clean','text_lemma','label_int']]\n",
    "test_data = test_data[['text_clean','text_lemma','label_int']]"
   ]
  },
  {
   "cell_type": "markdown",
   "metadata": {
    "id": "VYuvQgYXDzqv"
   },
   "source": [
    "## Stopword"
   ]
  },
  {
   "cell_type": "code",
   "execution_count": null,
   "metadata": {
    "execution": {
     "iopub.execute_input": "2021-06-30T02:24:40.154499Z",
     "iopub.status.busy": "2021-06-30T02:24:40.15417Z",
     "iopub.status.idle": "2021-06-30T02:24:48.771797Z",
     "shell.execute_reply": "2021-06-30T02:24:48.771Z",
     "shell.execute_reply.started": "2021-06-30T02:24:40.154465Z"
    },
    "id": "RSydRyFUDzqw"
   },
   "outputs": [],
   "source": [
    "stop = stopwords.words('english')\n",
    "\n",
    "train_data['text_preprocess'] = train_data['text_lemma'].apply(lambda x: ' '.join([word for word in x.split() if word not in (stop)]))\n",
    "test_data['text_preprocess'] = test_data['text_lemma'].apply(lambda x: ' '.join([word for word in x.split() if word not in (stop)]))"
   ]
  },
  {
   "cell_type": "code",
   "execution_count": null,
   "metadata": {
    "colab": {
     "base_uri": "https://localhost:8080/",
     "height": 639
    },
    "id": "elNBTCn9zSnp",
    "outputId": "c95b6210-2015-47a1-d466-3d72493ac6e8"
   },
   "outputs": [
    {
     "data": {
      "text/html": [
       "\n",
       "  <div id=\"df-b15f23c0-a8ae-4f93-8c0a-32f74ccff552\">\n",
       "    <div class=\"colab-df-container\">\n",
       "      <div>\n",
       "<style scoped>\n",
       "    .dataframe tbody tr th:only-of-type {\n",
       "        vertical-align: middle;\n",
       "    }\n",
       "\n",
       "    .dataframe tbody tr th {\n",
       "        vertical-align: top;\n",
       "    }\n",
       "\n",
       "    .dataframe thead th {\n",
       "        text-align: right;\n",
       "    }\n",
       "</style>\n",
       "<table border=\"1\" class=\"dataframe\">\n",
       "  <thead>\n",
       "    <tr style=\"text-align: right;\">\n",
       "      <th></th>\n",
       "      <th>text_clean</th>\n",
       "      <th>text_lemma</th>\n",
       "      <th>label_int</th>\n",
       "      <th>text_preprocess</th>\n",
       "    </tr>\n",
       "  </thead>\n",
       "  <tbody>\n",
       "    <tr>\n",
       "      <th>0</th>\n",
       "      <td>john souza a volunteer with the boone county chapter of the american red cross is the second columbia resident to join efforts to assist people who were affected by tropical storm bonnie and hurricane charley</td>\n",
       "      <td>john souza a volunteer with the boone county chapter of the american red cross be the second columbia resident to join effort to assist people who be affect by tropical storm bonnie and hurricane charley</td>\n",
       "      <td>3</td>\n",
       "      <td>john souza volunteer boone county chapter american red cross second columbia resident join effort assist people affect tropical storm bonnie hurricane charley</td>\n",
       "    </tr>\n",
       "    <tr>\n",
       "      <th>1</th>\n",
       "      <td>spain needs only to beat an under strength french team to secure its place in the davis cup tennis final while britain looks to the experience of tim henman and greg rusedski in its world group play off with austria this weekend</td>\n",
       "      <td>spain need only to beat an under strength french team to secure its place in the davis cup tennis final while britain look to the experience of tim henman and greg rusedski in its world group play off with austria this weekend</td>\n",
       "      <td>1</td>\n",
       "      <td>spain need beat strength french team secure place davis cup tennis final britain look experience tim henman greg rusedski world group play austria weekend</td>\n",
       "    </tr>\n",
       "    <tr>\n",
       "      <th>2</th>\n",
       "      <td>panama city panama when the united states gave panama control over its canal many observers predicted that the international waterway would be plagued by problems at best and chaos at worst</td>\n",
       "      <td>panama city panama when the united state give panama control over its canal many observer predict that the international waterway would be plague by problem at best and chaos at bad</td>\n",
       "      <td>2</td>\n",
       "      <td>panama city panama united state give panama control canal many observer predict international waterway would plague problem best chaos bad</td>\n",
       "    </tr>\n",
       "    <tr>\n",
       "      <th>3</th>\n",
       "      <td>gilbert arenas jarvis hayes and anthony peeler return from minor injuries to play in the wizards victory over the bobcats</td>\n",
       "      <td>gilbert arena jarvis hayes and anthony peeler return from minor injury to play in the wizard victory over the bobcat</td>\n",
       "      <td>1</td>\n",
       "      <td>gilbert arena jarvis hayes anthony peeler return minor injury play wizard victory bobcat</td>\n",
       "    </tr>\n",
       "    <tr>\n",
       "      <th>4</th>\n",
       "      <td>memphis tenn kobe bryant had his worst shooting night of the season wednesday in the lakers loss to the grizzlies and worse yet he needed nearly minutes of postgame treatment for plantar fasciitis in his left foot</td>\n",
       "      <td>memphis tenn kobe bryant have his bad shoot night of the season wednesday in the lakers loss to the grizzly and bad yet he need nearly minute of postgame treatment for plantar fasciitis in his left foot</td>\n",
       "      <td>1</td>\n",
       "      <td>memphis tenn kobe bryant bad shoot night season wednesday lakers loss grizzly bad yet need nearly minute postgame treatment plantar fasciitis left foot</td>\n",
       "    </tr>\n",
       "  </tbody>\n",
       "</table>\n",
       "</div>\n",
       "      <button class=\"colab-df-convert\" onclick=\"convertToInteractive('df-b15f23c0-a8ae-4f93-8c0a-32f74ccff552')\"\n",
       "              title=\"Convert this dataframe to an interactive table.\"\n",
       "              style=\"display:none;\">\n",
       "        \n",
       "  <svg xmlns=\"http://www.w3.org/2000/svg\" height=\"24px\"viewBox=\"0 0 24 24\"\n",
       "       width=\"24px\">\n",
       "    <path d=\"M0 0h24v24H0V0z\" fill=\"none\"/>\n",
       "    <path d=\"M18.56 5.44l.94 2.06.94-2.06 2.06-.94-2.06-.94-.94-2.06-.94 2.06-2.06.94zm-11 1L8.5 8.5l.94-2.06 2.06-.94-2.06-.94L8.5 2.5l-.94 2.06-2.06.94zm10 10l.94 2.06.94-2.06 2.06-.94-2.06-.94-.94-2.06-.94 2.06-2.06.94z\"/><path d=\"M17.41 7.96l-1.37-1.37c-.4-.4-.92-.59-1.43-.59-.52 0-1.04.2-1.43.59L10.3 9.45l-7.72 7.72c-.78.78-.78 2.05 0 2.83L4 21.41c.39.39.9.59 1.41.59.51 0 1.02-.2 1.41-.59l7.78-7.78 2.81-2.81c.8-.78.8-2.07 0-2.86zM5.41 20L4 18.59l7.72-7.72 1.47 1.35L5.41 20z\"/>\n",
       "  </svg>\n",
       "      </button>\n",
       "      \n",
       "  <style>\n",
       "    .colab-df-container {\n",
       "      display:flex;\n",
       "      flex-wrap:wrap;\n",
       "      gap: 12px;\n",
       "    }\n",
       "\n",
       "    .colab-df-convert {\n",
       "      background-color: #E8F0FE;\n",
       "      border: none;\n",
       "      border-radius: 50%;\n",
       "      cursor: pointer;\n",
       "      display: none;\n",
       "      fill: #1967D2;\n",
       "      height: 32px;\n",
       "      padding: 0 0 0 0;\n",
       "      width: 32px;\n",
       "    }\n",
       "\n",
       "    .colab-df-convert:hover {\n",
       "      background-color: #E2EBFA;\n",
       "      box-shadow: 0px 1px 2px rgba(60, 64, 67, 0.3), 0px 1px 3px 1px rgba(60, 64, 67, 0.15);\n",
       "      fill: #174EA6;\n",
       "    }\n",
       "\n",
       "    [theme=dark] .colab-df-convert {\n",
       "      background-color: #3B4455;\n",
       "      fill: #D2E3FC;\n",
       "    }\n",
       "\n",
       "    [theme=dark] .colab-df-convert:hover {\n",
       "      background-color: #434B5C;\n",
       "      box-shadow: 0px 1px 3px 1px rgba(0, 0, 0, 0.15);\n",
       "      filter: drop-shadow(0px 1px 2px rgba(0, 0, 0, 0.3));\n",
       "      fill: #FFFFFF;\n",
       "    }\n",
       "  </style>\n",
       "\n",
       "      <script>\n",
       "        const buttonEl =\n",
       "          document.querySelector('#df-b15f23c0-a8ae-4f93-8c0a-32f74ccff552 button.colab-df-convert');\n",
       "        buttonEl.style.display =\n",
       "          google.colab.kernel.accessAllowed ? 'block' : 'none';\n",
       "\n",
       "        async function convertToInteractive(key) {\n",
       "          const element = document.querySelector('#df-b15f23c0-a8ae-4f93-8c0a-32f74ccff552');\n",
       "          const dataTable =\n",
       "            await google.colab.kernel.invokeFunction('convertToInteractive',\n",
       "                                                     [key], {});\n",
       "          if (!dataTable) return;\n",
       "\n",
       "          const docLinkHtml = 'Like what you see? Visit the ' +\n",
       "            '<a target=\"_blank\" href=https://colab.research.google.com/notebooks/data_table.ipynb>data table notebook</a>'\n",
       "            + ' to learn more about interactive tables.';\n",
       "          element.innerHTML = '';\n",
       "          dataTable['output_type'] = 'display_data';\n",
       "          await google.colab.output.renderOutput(dataTable, element);\n",
       "          const docLink = document.createElement('div');\n",
       "          docLink.innerHTML = docLinkHtml;\n",
       "          element.appendChild(docLink);\n",
       "        }\n",
       "      </script>\n",
       "    </div>\n",
       "  </div>\n",
       "  "
      ],
      "text/plain": [
       "                                                                                                                                                                                                                              text_clean  \\\n",
       "0  john souza a volunteer with the boone county chapter of the american red cross is the second columbia resident to join efforts to assist people who were affected by tropical storm bonnie and hurricane charley                        \n",
       "1  spain needs only to beat an under strength french team to secure its place in the davis cup tennis final while britain looks to the experience of tim henman and greg rusedski in its world group play off with austria this weekend    \n",
       "2  panama city panama when the united states gave panama control over its canal many observers predicted that the international waterway would be plagued by problems at best and chaos at worst                                           \n",
       "3  gilbert arenas jarvis hayes and anthony peeler return from minor injuries to play in the wizards victory over the bobcats                                                                                                               \n",
       "4  memphis tenn kobe bryant had his worst shooting night of the season wednesday in the lakers loss to the grizzlies and worse yet he needed nearly minutes of postgame treatment for plantar fasciitis in his left foot                   \n",
       "\n",
       "                                                                                                                                                                                                                           text_lemma  \\\n",
       "0  john souza a volunteer with the boone county chapter of the american red cross be the second columbia resident to join effort to assist people who be affect by tropical storm bonnie and hurricane charley                          \n",
       "1  spain need only to beat an under strength french team to secure its place in the davis cup tennis final while britain look to the experience of tim henman and greg rusedski in its world group play off with austria this weekend   \n",
       "2  panama city panama when the united state give panama control over its canal many observer predict that the international waterway would be plague by problem at best and chaos at bad                                                \n",
       "3  gilbert arena jarvis hayes and anthony peeler return from minor injury to play in the wizard victory over the bobcat                                                                                                                 \n",
       "4  memphis tenn kobe bryant have his bad shoot night of the season wednesday in the lakers loss to the grizzly and bad yet he need nearly minute of postgame treatment for plantar fasciitis in his left foot                           \n",
       "\n",
       "   label_int  \\\n",
       "0  3           \n",
       "1  1           \n",
       "2  2           \n",
       "3  1           \n",
       "4  1           \n",
       "\n",
       "                                                                                                                                                  text_preprocess  \n",
       "0  john souza volunteer boone county chapter american red cross second columbia resident join effort assist people affect tropical storm bonnie hurricane charley  \n",
       "1  spain need beat strength french team secure place davis cup tennis final britain look experience tim henman greg rusedski world group play austria weekend      \n",
       "2  panama city panama united state give panama control canal many observer predict international waterway would plague problem best chaos bad                      \n",
       "3  gilbert arena jarvis hayes anthony peeler return minor injury play wizard victory bobcat                                                                        \n",
       "4  memphis tenn kobe bryant bad shoot night season wednesday lakers loss grizzly bad yet need nearly minute postgame treatment plantar fasciitis left foot         "
      ]
     },
     "execution_count": 93,
     "metadata": {},
     "output_type": "execute_result"
    }
   ],
   "source": [
    "train_data.head()"
   ]
  },
  {
   "cell_type": "code",
   "execution_count": null,
   "metadata": {
    "colab": {
     "base_uri": "https://localhost:8080/",
     "height": 486
    },
    "id": "9qvwM8_jzUci",
    "outputId": "4b08ad44-7b81-4ef5-ceb3-8f33d951ef0d"
   },
   "outputs": [
    {
     "data": {
      "text/html": [
       "\n",
       "  <div id=\"df-b94c1d4e-e6e1-4640-9c07-f2f1179f6350\">\n",
       "    <div class=\"colab-df-container\">\n",
       "      <div>\n",
       "<style scoped>\n",
       "    .dataframe tbody tr th:only-of-type {\n",
       "        vertical-align: middle;\n",
       "    }\n",
       "\n",
       "    .dataframe tbody tr th {\n",
       "        vertical-align: top;\n",
       "    }\n",
       "\n",
       "    .dataframe thead th {\n",
       "        text-align: right;\n",
       "    }\n",
       "</style>\n",
       "<table border=\"1\" class=\"dataframe\">\n",
       "  <thead>\n",
       "    <tr style=\"text-align: right;\">\n",
       "      <th></th>\n",
       "      <th>text_clean</th>\n",
       "      <th>text_lemma</th>\n",
       "      <th>label_int</th>\n",
       "      <th>text_preprocess</th>\n",
       "    </tr>\n",
       "  </thead>\n",
       "  <tbody>\n",
       "    <tr>\n",
       "      <th>0</th>\n",
       "      <td>it s over our relationship just hasn t been working for a while and now this is it i m leaving you for another browser</td>\n",
       "      <td>it s over our relationship just hasn t be work for a while and now this be it i m leave you for another browser</td>\n",
       "      <td>0</td>\n",
       "      <td>relationship work leave another browser</td>\n",
       "    </tr>\n",
       "    <tr>\n",
       "      <th>1</th>\n",
       "      <td>toshiba corp announced tuesday a gigabyte gb inch hard drive that will set off speculation of a new higher capacity apple ipod models later in</td>\n",
       "      <td>toshiba corp announce tuesday a gigabyte gb inch hard drive that will set off speculation of a new high capacity apple ipod model later in</td>\n",
       "      <td>0</td>\n",
       "      <td>toshiba corp announce tuesday gigabyte gb inch hard drive set speculation new high capacity apple ipod model later</td>\n",
       "    </tr>\n",
       "    <tr>\n",
       "      <th>2</th>\n",
       "      <td>scientists go back to the drawing board in their battle against poison resistant rats</td>\n",
       "      <td>scientist go back to the draw board in their battle against poison resistant rat</td>\n",
       "      <td>0</td>\n",
       "      <td>scientist go back draw board battle poison resistant rat</td>\n",
       "    </tr>\n",
       "    <tr>\n",
       "      <th>3</th>\n",
       "      <td>the first shuttle flight since the columbia tragedy has been pushed back by nasa this is due to hurricane damages and implementation of new safety measures</td>\n",
       "      <td>the first shuttle flight since the columbia tragedy have be push back by nasa this be due to hurricane damage and implementation of new safety measure</td>\n",
       "      <td>0</td>\n",
       "      <td>first shuttle flight since columbia tragedy push back nasa due hurricane damage implementation new safety measure</td>\n",
       "    </tr>\n",
       "    <tr>\n",
       "      <th>4</th>\n",
       "      <td>new york sept iraqi prime minister iyad allawi discussed proposals for rejuvenating the iraqi army when he met president pervez musharraf in new york monday evening officials told dawn</td>\n",
       "      <td>new york sept iraqi prime minister iyad allawi discuss proposal for rejuvenate the iraqi army when he meet president pervez musharraf in new york monday evening official tell dawn</td>\n",
       "      <td>2</td>\n",
       "      <td>new york sept iraqi prime minister iyad allawi discuss proposal rejuvenate iraqi army meet president pervez musharraf new york monday evening official tell dawn</td>\n",
       "    </tr>\n",
       "  </tbody>\n",
       "</table>\n",
       "</div>\n",
       "      <button class=\"colab-df-convert\" onclick=\"convertToInteractive('df-b94c1d4e-e6e1-4640-9c07-f2f1179f6350')\"\n",
       "              title=\"Convert this dataframe to an interactive table.\"\n",
       "              style=\"display:none;\">\n",
       "        \n",
       "  <svg xmlns=\"http://www.w3.org/2000/svg\" height=\"24px\"viewBox=\"0 0 24 24\"\n",
       "       width=\"24px\">\n",
       "    <path d=\"M0 0h24v24H0V0z\" fill=\"none\"/>\n",
       "    <path d=\"M18.56 5.44l.94 2.06.94-2.06 2.06-.94-2.06-.94-.94-2.06-.94 2.06-2.06.94zm-11 1L8.5 8.5l.94-2.06 2.06-.94-2.06-.94L8.5 2.5l-.94 2.06-2.06.94zm10 10l.94 2.06.94-2.06 2.06-.94-2.06-.94-.94-2.06-.94 2.06-2.06.94z\"/><path d=\"M17.41 7.96l-1.37-1.37c-.4-.4-.92-.59-1.43-.59-.52 0-1.04.2-1.43.59L10.3 9.45l-7.72 7.72c-.78.78-.78 2.05 0 2.83L4 21.41c.39.39.9.59 1.41.59.51 0 1.02-.2 1.41-.59l7.78-7.78 2.81-2.81c.8-.78.8-2.07 0-2.86zM5.41 20L4 18.59l7.72-7.72 1.47 1.35L5.41 20z\"/>\n",
       "  </svg>\n",
       "      </button>\n",
       "      \n",
       "  <style>\n",
       "    .colab-df-container {\n",
       "      display:flex;\n",
       "      flex-wrap:wrap;\n",
       "      gap: 12px;\n",
       "    }\n",
       "\n",
       "    .colab-df-convert {\n",
       "      background-color: #E8F0FE;\n",
       "      border: none;\n",
       "      border-radius: 50%;\n",
       "      cursor: pointer;\n",
       "      display: none;\n",
       "      fill: #1967D2;\n",
       "      height: 32px;\n",
       "      padding: 0 0 0 0;\n",
       "      width: 32px;\n",
       "    }\n",
       "\n",
       "    .colab-df-convert:hover {\n",
       "      background-color: #E2EBFA;\n",
       "      box-shadow: 0px 1px 2px rgba(60, 64, 67, 0.3), 0px 1px 3px 1px rgba(60, 64, 67, 0.15);\n",
       "      fill: #174EA6;\n",
       "    }\n",
       "\n",
       "    [theme=dark] .colab-df-convert {\n",
       "      background-color: #3B4455;\n",
       "      fill: #D2E3FC;\n",
       "    }\n",
       "\n",
       "    [theme=dark] .colab-df-convert:hover {\n",
       "      background-color: #434B5C;\n",
       "      box-shadow: 0px 1px 3px 1px rgba(0, 0, 0, 0.15);\n",
       "      filter: drop-shadow(0px 1px 2px rgba(0, 0, 0, 0.3));\n",
       "      fill: #FFFFFF;\n",
       "    }\n",
       "  </style>\n",
       "\n",
       "      <script>\n",
       "        const buttonEl =\n",
       "          document.querySelector('#df-b94c1d4e-e6e1-4640-9c07-f2f1179f6350 button.colab-df-convert');\n",
       "        buttonEl.style.display =\n",
       "          google.colab.kernel.accessAllowed ? 'block' : 'none';\n",
       "\n",
       "        async function convertToInteractive(key) {\n",
       "          const element = document.querySelector('#df-b94c1d4e-e6e1-4640-9c07-f2f1179f6350');\n",
       "          const dataTable =\n",
       "            await google.colab.kernel.invokeFunction('convertToInteractive',\n",
       "                                                     [key], {});\n",
       "          if (!dataTable) return;\n",
       "\n",
       "          const docLinkHtml = 'Like what you see? Visit the ' +\n",
       "            '<a target=\"_blank\" href=https://colab.research.google.com/notebooks/data_table.ipynb>data table notebook</a>'\n",
       "            + ' to learn more about interactive tables.';\n",
       "          element.innerHTML = '';\n",
       "          dataTable['output_type'] = 'display_data';\n",
       "          await google.colab.output.renderOutput(dataTable, element);\n",
       "          const docLink = document.createElement('div');\n",
       "          docLink.innerHTML = docLinkHtml;\n",
       "          element.appendChild(docLink);\n",
       "        }\n",
       "      </script>\n",
       "    </div>\n",
       "  </div>\n",
       "  "
      ],
      "text/plain": [
       "                                                                                                                                                                                  text_clean  \\\n",
       "0  it s over our relationship just hasn t been working for a while and now this is it i m leaving you for another browser                                                                      \n",
       "1  toshiba corp announced tuesday a gigabyte gb inch hard drive that will set off speculation of a new higher capacity apple ipod models later in                                              \n",
       "2  scientists go back to the drawing board in their battle against poison resistant rats                                                                                                       \n",
       "3  the first shuttle flight since the columbia tragedy has been pushed back by nasa this is due to hurricane damages and implementation of new safety measures                                 \n",
       "4  new york sept iraqi prime minister iyad allawi discussed proposals for rejuvenating the iraqi army when he met president pervez musharraf in new york monday evening officials told dawn    \n",
       "\n",
       "                                                                                                                                                                            text_lemma  \\\n",
       "0  it s over our relationship just hasn t be work for a while and now this be it i m leave you for another browser                                                                       \n",
       "1  toshiba corp announce tuesday a gigabyte gb inch hard drive that will set off speculation of a new high capacity apple ipod model later in                                            \n",
       "2  scientist go back to the draw board in their battle against poison resistant rat                                                                                                      \n",
       "3  the first shuttle flight since the columbia tragedy have be push back by nasa this be due to hurricane damage and implementation of new safety measure                                \n",
       "4  new york sept iraqi prime minister iyad allawi discuss proposal for rejuvenate the iraqi army when he meet president pervez musharraf in new york monday evening official tell dawn   \n",
       "\n",
       "   label_int  \\\n",
       "0  0           \n",
       "1  0           \n",
       "2  0           \n",
       "3  0           \n",
       "4  2           \n",
       "\n",
       "                                                                                                                                                    text_preprocess  \n",
       "0  relationship work leave another browser                                                                                                                           \n",
       "1  toshiba corp announce tuesday gigabyte gb inch hard drive set speculation new high capacity apple ipod model later                                                \n",
       "2  scientist go back draw board battle poison resistant rat                                                                                                          \n",
       "3  first shuttle flight since columbia tragedy push back nasa due hurricane damage implementation new safety measure                                                 \n",
       "4  new york sept iraqi prime minister iyad allawi discuss proposal rejuvenate iraqi army meet president pervez musharraf new york monday evening official tell dawn  "
      ]
     },
     "execution_count": 94,
     "metadata": {},
     "output_type": "execute_result"
    }
   ],
   "source": [
    "test_data.head()"
   ]
  },
  {
   "cell_type": "markdown",
   "metadata": {
    "id": "xAqVGX8PDzqw"
   },
   "source": [
    "# Data Process"
   ]
  },
  {
   "cell_type": "code",
   "execution_count": null,
   "metadata": {
    "execution": {
     "iopub.execute_input": "2021-06-30T02:24:48.775287Z",
     "iopub.status.busy": "2021-06-30T02:24:48.774982Z",
     "iopub.status.idle": "2021-06-30T02:24:48.851064Z",
     "shell.execute_reply": "2021-06-30T02:24:48.850142Z",
     "shell.execute_reply.started": "2021-06-30T02:24:48.775256Z"
    },
    "id": "9VkcTQN1Dzqw"
   },
   "outputs": [],
   "source": [
    "#convert dataframe to values\n",
    "text_train = train_data['text_preprocess'].values\n",
    "label_train = train_data['label_int'].values\n",
    "\n",
    "text_test = test_data['text_preprocess'].values\n",
    "label_test = test_data['label_int'].values"
   ]
  },
  {
   "cell_type": "markdown",
   "metadata": {
    "id": "kc-NLHShDzqx"
   },
   "source": [
    "## Data Splitting"
   ]
  },
  {
   "cell_type": "code",
   "execution_count": null,
   "metadata": {
    "colab": {
     "base_uri": "https://localhost:8080/"
    },
    "execution": {
     "iopub.execute_input": "2021-06-30T02:24:48.876598Z",
     "iopub.status.busy": "2021-06-30T02:24:48.876037Z",
     "iopub.status.idle": "2021-06-30T02:24:48.985847Z",
     "shell.execute_reply": "2021-06-30T02:24:48.984845Z",
     "shell.execute_reply.started": "2021-06-30T02:24:48.876562Z"
    },
    "id": "pJDFQz9_Dzqx",
    "outputId": "87d382c5-4e7e-4bff-c25d-44d598bb0eaa"
   },
   "outputs": [
    {
     "data": {
      "text/plain": [
       "((109999,), (10000,), (109999,), (10000,))"
      ]
     },
     "execution_count": 96,
     "metadata": {},
     "output_type": "execute_result"
    }
   ],
   "source": [
    "text_train.shape, text_test.shape, label_train.shape, label_test.shape"
   ]
  },
  {
   "cell_type": "markdown",
   "metadata": {
    "id": "srqC1B5bDzqy"
   },
   "source": [
    "# Model"
   ]
  },
  {
   "cell_type": "code",
   "execution_count": null,
   "metadata": {
    "execution": {
     "iopub.execute_input": "2021-06-30T02:24:48.987434Z",
     "iopub.status.busy": "2021-06-30T02:24:48.987124Z",
     "iopub.status.idle": "2021-06-30T02:24:57.683796Z",
     "shell.execute_reply": "2021-06-30T02:24:57.682683Z",
     "shell.execute_reply.started": "2021-06-30T02:24:48.987404Z"
    },
    "id": "u6mVppKjDzqy"
   },
   "outputs": [],
   "source": [
    "# tokenizer\n",
    "from tensorflow.keras.preprocessing.text import Tokenizer\n",
    "from tensorflow.keras.preprocessing.sequence import pad_sequences\n",
    " \n",
    "tokenizer = Tokenizer(num_words=10000, oov_token='x')\n",
    "tokenizer.fit_on_texts(text_train) \n",
    "tokenizer.fit_on_texts(text_test)\n",
    "\n",
    "word_index = tokenizer.word_index\n",
    "total_words = len(word_index)+1\n",
    " \n",
    "sekuens_train = tokenizer.texts_to_sequences(text_train)\n",
    "sekuens_test = tokenizer.texts_to_sequences(text_test)\n",
    " \n",
    "padded_train = pad_sequences(sekuens_train, maxlen=100) \n",
    "padded_test = pad_sequences(sekuens_test, maxlen=100)"
   ]
  },
  {
   "cell_type": "code",
   "execution_count": null,
   "metadata": {
    "colab": {
     "base_uri": "https://localhost:8080/"
    },
    "execution": {
     "iopub.execute_input": "2021-06-30T02:24:57.685893Z",
     "iopub.status.busy": "2021-06-30T02:24:57.685265Z",
     "iopub.status.idle": "2021-06-30T02:24:57.694683Z",
     "shell.execute_reply": "2021-06-30T02:24:57.693668Z",
     "shell.execute_reply.started": "2021-06-30T02:24:57.685834Z"
    },
    "id": "FCZOTfxYDzqz",
    "outputId": "bcda4baf-3f82-4206-8321-19ee5d5608a0"
   },
   "outputs": [
    {
     "name": "stdout",
     "output_type": "stream",
     "text": [
      "train datashape : (109999, 100)\n",
      "test datashape : (10000, 100)\n"
     ]
    },
    {
     "data": {
      "text/plain": [
       "49363"
      ]
     },
     "execution_count": 98,
     "metadata": {},
     "output_type": "execute_result"
    }
   ],
   "source": [
    "print(f'train datashape : {padded_train.shape}')\n",
    "print(f'test datashape : {padded_test.shape}')\n",
    "total_words"
   ]
  },
  {
   "cell_type": "code",
   "execution_count": null,
   "metadata": {
    "execution": {
     "iopub.execute_input": "2021-06-30T02:24:57.696442Z",
     "iopub.status.busy": "2021-06-30T02:24:57.69609Z",
     "iopub.status.idle": "2021-06-30T02:24:57.707952Z",
     "shell.execute_reply": "2021-06-30T02:24:57.706817Z",
     "shell.execute_reply.started": "2021-06-30T02:24:57.696408Z"
    },
    "id": "N2gApFmvDzqz"
   },
   "outputs": [],
   "source": [
    "# import packages\n",
    "import tensorflow as tf\n",
    "from tensorflow import keras\n",
    "from tensorflow.keras import layers,Sequential\n",
    "from sklearn.model_selection import train_test_split\n",
    "from tensorflow.keras.preprocessing.text import Tokenizer\n",
    "from tensorflow.keras.preprocessing.sequence import pad_sequences\n",
    "from tensorflow.keras.callbacks import EarlyStopping,ModelCheckpoint"
   ]
  },
  {
   "cell_type": "code",
   "execution_count": null,
   "metadata": {
    "colab": {
     "base_uri": "https://localhost:8080/"
    },
    "execution": {
     "iopub.execute_input": "2021-06-30T02:24:57.709792Z",
     "iopub.status.busy": "2021-06-30T02:24:57.709411Z",
     "iopub.status.idle": "2021-06-30T02:24:58.549644Z",
     "shell.execute_reply": "2021-06-30T02:24:58.547473Z",
     "shell.execute_reply.started": "2021-06-30T02:24:57.709758Z"
    },
    "id": "UagnYR6oDzq0",
    "outputId": "c101ea2d-d04d-48bd-f1a0-f082f9ed3199"
   },
   "outputs": [
    {
     "name": "stdout",
     "output_type": "stream",
     "text": [
      "Model: \"sequential_1\"\n",
      "_________________________________________________________________\n",
      " Layer (type)                Output Shape              Param #   \n",
      "=================================================================\n",
      " embedding_1 (Embedding)     (None, 100, 128)          6318464   \n",
      "                                                                 \n",
      " lstm_1 (LSTM)               (None, 128)               131584    \n",
      "                                                                 \n",
      " dense_3 (Dense)             (None, 128)               16512     \n",
      "                                                                 \n",
      " dropout_2 (Dropout)         (None, 128)               0         \n",
      "                                                                 \n",
      " dense_4 (Dense)             (None, 64)                8256      \n",
      "                                                                 \n",
      " dropout_3 (Dropout)         (None, 64)                0         \n",
      "                                                                 \n",
      " dense_5 (Dense)             (None, 4)                 260       \n",
      "                                                                 \n",
      "=================================================================\n",
      "Total params: 6,475,076\n",
      "Trainable params: 6,475,076\n",
      "Non-trainable params: 0\n",
      "_________________________________________________________________\n"
     ]
    }
   ],
   "source": [
    "# model\n",
    "import tensorflow as tf\n",
    "\n",
    "model = tf.keras.Sequential([\n",
    "    tf.keras.layers.Embedding(input_dim=total_words,output_dim=128,input_length=100),\n",
    "    tf.keras.layers.LSTM(128),\n",
    "    tf.keras.layers.Dense(128, activation='relu'),\n",
    "    tf.keras.layers.Dropout(0.25),\n",
    "    tf.keras.layers.Dense(64, activation='relu'),\n",
    "    tf.keras.layers.Dropout(0.25),\n",
    "    tf.keras.layers.Dense(4, activation='softmax')\n",
    "])\n",
    "\n",
    "model.compile(optimizer='adam', metrics=['accuracy'], loss='sparse_categorical_crossentropy')\n",
    "model.summary()"
   ]
  },
  {
   "cell_type": "code",
   "execution_count": null,
   "metadata": {
    "execution": {
     "iopub.execute_input": "2021-06-30T02:24:58.551344Z",
     "iopub.status.busy": "2021-06-30T02:24:58.551067Z",
     "iopub.status.idle": "2021-06-30T02:24:58.560796Z",
     "shell.execute_reply": "2021-06-30T02:24:58.559418Z",
     "shell.execute_reply.started": "2021-06-30T02:24:58.551316Z"
    },
    "id": "pC8jNdZBDzq0"
   },
   "outputs": [],
   "source": [
    "# callback\n",
    "\n",
    "class myCallback(tf.keras.callbacks.Callback):\n",
    "  def on_epoch_end(self, epoch, logs={}):\n",
    "    if(logs.get('accuracy')>0.91 and logs.get('val_accuracy')>0.91):\n",
    "      self.model.stop_training = True\n",
    "      print(\"\\nThe accuracy of the training set and the validation set has reached > 91%!\")\n",
    "callbacks = myCallback()"
   ]
  },
  {
   "cell_type": "code",
   "execution_count": null,
   "metadata": {
    "colab": {
     "base_uri": "https://localhost:8080/"
    },
    "execution": {
     "iopub.execute_input": "2021-06-30T02:24:58.563024Z",
     "iopub.status.busy": "2021-06-30T02:24:58.562534Z",
     "iopub.status.idle": "2021-06-30T02:30:33.925858Z",
     "shell.execute_reply": "2021-06-30T02:30:33.925054Z",
     "shell.execute_reply.started": "2021-06-30T02:24:58.56299Z"
    },
    "id": "E_V2CTiwDzq0",
    "outputId": "ad1e9060-8302-43d9-e72c-19f598dbba49"
   },
   "outputs": [
    {
     "name": "stdout",
     "output_type": "stream",
     "text": [
      "Epoch 1/30\n",
      "25/25 - 22s - loss: 1.3200 - accuracy: 0.3917 - val_loss: 1.1165 - val_accuracy: 0.4758 - 22s/epoch - 878ms/step\n",
      "Epoch 2/30\n",
      "25/25 - 20s - loss: 0.9737 - accuracy: 0.6234 - val_loss: 0.7202 - val_accuracy: 0.7437 - 20s/epoch - 787ms/step\n",
      "Epoch 3/30\n",
      "25/25 - 19s - loss: 0.5601 - accuracy: 0.7869 - val_loss: 0.4595 - val_accuracy: 0.8477 - 19s/epoch - 756ms/step\n",
      "Epoch 4/30\n",
      "25/25 - 19s - loss: 0.4267 - accuracy: 0.8627 - val_loss: 0.3989 - val_accuracy: 0.8766 - 19s/epoch - 751ms/step\n",
      "Epoch 5/30\n",
      "25/25 - 19s - loss: 0.3772 - accuracy: 0.8834 - val_loss: 0.3794 - val_accuracy: 0.8773 - 19s/epoch - 746ms/step\n",
      "Epoch 6/30\n",
      "25/25 - 19s - loss: 0.3463 - accuracy: 0.8906 - val_loss: 0.3490 - val_accuracy: 0.8867 - 19s/epoch - 746ms/step\n",
      "Epoch 7/30\n",
      "25/25 - 19s - loss: 0.3527 - accuracy: 0.8873 - val_loss: 0.3615 - val_accuracy: 0.8766 - 19s/epoch - 744ms/step\n",
      "Epoch 8/30\n",
      "25/25 - 19s - loss: 0.3485 - accuracy: 0.8869 - val_loss: 0.3449 - val_accuracy: 0.8797 - 19s/epoch - 746ms/step\n",
      "Epoch 9/30\n",
      "25/25 - 18s - loss: 0.3149 - accuracy: 0.9000 - val_loss: 0.3185 - val_accuracy: 0.8953 - 18s/epoch - 740ms/step\n",
      "Epoch 10/30\n",
      "25/25 - 19s - loss: 0.3274 - accuracy: 0.8961 - val_loss: 0.3333 - val_accuracy: 0.8906 - 19s/epoch - 745ms/step\n",
      "Epoch 11/30\n",
      "25/25 - 19s - loss: 0.3354 - accuracy: 0.8942 - val_loss: 0.3227 - val_accuracy: 0.8914 - 19s/epoch - 754ms/step\n",
      "Epoch 12/30\n",
      "25/25 - 19s - loss: 0.3168 - accuracy: 0.8950 - val_loss: 0.3066 - val_accuracy: 0.9008 - 19s/epoch - 742ms/step\n",
      "Epoch 13/30\n",
      "25/25 - 18s - loss: 0.3109 - accuracy: 0.8984 - val_loss: 0.3138 - val_accuracy: 0.9023 - 18s/epoch - 739ms/step\n",
      "Epoch 14/30\n",
      "25/25 - 19s - loss: 0.3205 - accuracy: 0.9008 - val_loss: 0.2990 - val_accuracy: 0.9062 - 19s/epoch - 743ms/step\n",
      "Epoch 15/30\n",
      "25/25 - 19s - loss: 0.3051 - accuracy: 0.8989 - val_loss: 0.3039 - val_accuracy: 0.9000 - 19s/epoch - 748ms/step\n",
      "Epoch 16/30\n",
      "25/25 - 18s - loss: 0.2923 - accuracy: 0.9044 - val_loss: 0.3029 - val_accuracy: 0.9023 - 18s/epoch - 737ms/step\n",
      "Epoch 17/30\n",
      "25/25 - 20s - loss: 0.2979 - accuracy: 0.9014 - val_loss: 0.3088 - val_accuracy: 0.8977 - 20s/epoch - 780ms/step\n",
      "Epoch 18/30\n",
      "25/25 - 18s - loss: 0.2514 - accuracy: 0.9169 - val_loss: 0.3079 - val_accuracy: 0.8977 - 18s/epoch - 727ms/step\n",
      "Epoch 19/30\n",
      "25/25 - 19s - loss: 0.2366 - accuracy: 0.9217 - val_loss: 0.2885 - val_accuracy: 0.9047 - 19s/epoch - 742ms/step\n",
      "Epoch 20/30\n",
      "25/25 - 19s - loss: 0.2224 - accuracy: 0.9269 - val_loss: 0.2979 - val_accuracy: 0.9031 - 19s/epoch - 752ms/step\n",
      "Epoch 21/30\n",
      "25/25 - 19s - loss: 0.2459 - accuracy: 0.9191 - val_loss: 0.3018 - val_accuracy: 0.9008 - 19s/epoch - 747ms/step\n",
      "Epoch 22/30\n",
      "25/25 - 19s - loss: 0.2533 - accuracy: 0.9183 - val_loss: 0.2868 - val_accuracy: 0.9016 - 19s/epoch - 741ms/step\n",
      "Epoch 23/30\n",
      "25/25 - 19s - loss: 0.2342 - accuracy: 0.9237 - val_loss: 0.2898 - val_accuracy: 0.9055 - 19s/epoch - 744ms/step\n",
      "Epoch 24/30\n",
      "25/25 - 19s - loss: 0.2453 - accuracy: 0.9202 - val_loss: 0.2916 - val_accuracy: 0.9023 - 19s/epoch - 743ms/step\n",
      "Epoch 25/30\n",
      "25/25 - 19s - loss: 0.2552 - accuracy: 0.9134 - val_loss: 0.2926 - val_accuracy: 0.9047 - 19s/epoch - 746ms/step\n",
      "Epoch 26/30\n",
      "25/25 - 19s - loss: 0.2493 - accuracy: 0.9170 - val_loss: 0.2927 - val_accuracy: 0.9008 - 19s/epoch - 747ms/step\n",
      "Epoch 27/30\n",
      "25/25 - 19s - loss: 0.2492 - accuracy: 0.9172 - val_loss: 0.3003 - val_accuracy: 0.8984 - 19s/epoch - 757ms/step\n",
      "Epoch 28/30\n",
      "25/25 - 19s - loss: 0.2587 - accuracy: 0.9139 - val_loss: 0.2881 - val_accuracy: 0.9023 - 19s/epoch - 748ms/step\n",
      "Epoch 29/30\n",
      "25/25 - 19s - loss: 0.2417 - accuracy: 0.9212 - val_loss: 0.2889 - val_accuracy: 0.9023 - 19s/epoch - 747ms/step\n",
      "Epoch 30/30\n",
      "25/25 - 19s - loss: 0.2679 - accuracy: 0.9103 - val_loss: 0.2863 - val_accuracy: 0.9016 - 19s/epoch - 748ms/step\n",
      "--- 10.40 menit ---\n"
     ]
    }
   ],
   "source": [
    "import time\n",
    "time_array = []\n",
    "\n",
    "start_time = time.time()\n",
    "\n",
    "# model fit\n",
    "history = model.fit(padded_train, label_train, \n",
    "                    batch_size=256, \n",
    "                    epochs=30, \n",
    "                    validation_data=(padded_test, label_test),\n",
    "                    verbose=2, callbacks=[callbacks],\n",
    "                    validation_steps=5, steps_per_epoch=25)\n",
    "\n",
    "print(\"--- %.2f menit ---\" % ((time.time() - start_time)/60))\n",
    "time_array.append(time.time() - start_time)"
   ]
  },
  {
   "cell_type": "markdown",
   "metadata": {
    "id": "ieUFtRlJDzq0"
   },
   "source": [
    "# Plot Visualization Accuracy and Loss Each Epoch\n"
   ]
  },
  {
   "cell_type": "code",
   "execution_count": null,
   "metadata": {
    "execution": {
     "iopub.execute_input": "2021-06-30T02:31:32.66004Z",
     "iopub.status.busy": "2021-06-30T02:31:32.659633Z",
     "iopub.status.idle": "2021-06-30T02:31:32.67203Z",
     "shell.execute_reply": "2021-06-30T02:31:32.670626Z",
     "shell.execute_reply.started": "2021-06-30T02:31:32.660009Z"
    },
    "id": "Mjfb-nFnDzq1"
   },
   "outputs": [],
   "source": [
    "# define function plot visualization training and validation process\n",
    "def plot_history(history):\n",
    "    acc = history.history['accuracy']\n",
    "    val_acc = history.history['val_accuracy']\n",
    "    loss = history.history['loss']\n",
    "    val_loss = history.history['val_loss']\n",
    "    x = range(1, len(acc) + 1)\n",
    "\n",
    "    print(\"Training Accuracy: %.2f\" % acc[-1])\n",
    "    print(\"Training Loss: %.2f\" % loss[-1])\n",
    "    print(\"Validation Accuracy: %.2f\" % val_acc[-1])\n",
    "    print(\"Validation Loss: %.2f\" % val_loss[-1] + '\\n\\n')\n",
    "\n",
    "    # make a visualization of the results of the neural network between loss, validation loss and accuracy, validation accuracy\n",
    "    plt.figure(figsize=(15, 5))\n",
    "\n",
    "    # create visualizations for accuracy values in the training and validation process\n",
    "    plt.subplot(1, 2, 1)\n",
    "    plt.plot(acc, 'b', label='Train acc')\n",
    "    plt.plot(val_acc, 'r', label='Validation acc')\n",
    "    plt.title('Train and validation accuracy Visualization')\n",
    "    plt.xlabel(\"Jumlah Epochs\")\n",
    "    plt.legend()\n",
    "\n",
    "    # create visualizations for loss values in the training and validation process\n",
    "    plt.subplot(1, 2, 2)\n",
    "    plt.plot(loss, 'b', label='Train loss')\n",
    "    plt.plot(val_loss, 'r', label='Validation loss')\n",
    "    plt.title('Train and validation loss Visualization')\n",
    "    plt.legend()"
   ]
  },
  {
   "cell_type": "code",
   "execution_count": null,
   "metadata": {
    "colab": {
     "base_uri": "https://localhost:8080/",
     "height": 452
    },
    "execution": {
     "iopub.execute_input": "2021-06-30T02:31:44.725641Z",
     "iopub.status.busy": "2021-06-30T02:31:44.725244Z",
     "iopub.status.idle": "2021-06-30T02:31:45.05285Z",
     "shell.execute_reply": "2021-06-30T02:31:45.051903Z",
     "shell.execute_reply.started": "2021-06-30T02:31:44.725611Z"
    },
    "id": "p19BMHHdDzq1",
    "outputId": "86f5bb07-a720-4ab3-d741-a99b1004c4be"
   },
   "outputs": [
    {
     "name": "stdout",
     "output_type": "stream",
     "text": [
      "Training Accuracy: 0.91\n",
      "Training Loss: 0.27\n",
      "Validation Accuracy: 0.90\n",
      "Validation Loss: 0.29\n",
      "\n",
      "\n"
     ]
    },
    {
     "data": {
      "image/png": "[encoded data removed]",
      "text/plain": [
       "<Figure size 1080x360 with 2 Axes>"
      ]
     },
     "metadata": {
      "needs_background": "light"
     },
     "output_type": "display_data"
    }
   ],
   "source": [
    "plot_history(history)"
   ]
  },
  {
   "cell_type": "code",
   "execution_count": null,
   "metadata": {
    "id": "bTnUcAqo5tvc"
   },
   "outputs": [],
   "source": [
    "pred = model.predict(padded_test)"
   ]
  },
  {
   "cell_type": "code",
   "execution_count": null,
   "metadata": {
    "id": "2a57qd9W82Kk"
   },
   "outputs": [],
   "source": [
    "pred2 = np.argmax(pred, axis=1)"
   ]
  },
  {
   "cell_type": "code",
   "execution_count": null,
   "metadata": {
    "colab": {
     "base_uri": "https://localhost:8080/"
    },
    "id": "tOXEwOh7Dzq2",
    "outputId": "217d79f6-4bba-4afd-ed7f-330348952065"
   },
   "outputs": [
    {
     "name": "stdout",
     "output_type": "stream",
     "text": [
      "              precision    recall  f1-score   support\n",
      "\n",
      "     Science       0.88      0.86      0.87      2537\n",
      "      Sports       0.95      0.97      0.96      2458\n",
      "       World       0.91      0.88      0.89      2509\n",
      "    Business       0.85      0.88      0.87      2496\n",
      "\n",
      "    accuracy                           0.90     10000\n",
      "   macro avg       0.90      0.90      0.90     10000\n",
      "weighted avg       0.90      0.90      0.90     10000\n",
      "\n"
     ]
    }
   ],
   "source": [
    "from sklearn.metrics import classification_report\n",
    "\n",
    "print(classification_report(label_test, \n",
    "                            pred2,\n",
    "                            target_names=['Science', 'Sports', 'World', 'Business'], \n",
    "                            zero_division=0))"
   ]
  }
 ],
 "metadata": {
  "colab": {
   "name": "CNN NLP.ipynb",
   "provenance": []
  },
  "kernelspec": {
   "display_name": "Python 3",
   "language": "python",
   "name": "python3"
  },
  "language_info": {
   "codemirror_mode": {
    "name": "ipython",
    "version": 3
   },
   "file_extension": ".py",
   "mimetype": "text/x-python",
   "name": "python",
   "nbconvert_exporter": "python",
   "pygments_lexer": "ipython3",
   "version": "3.8.8"
  }
 },
 "nbformat": 4,
 "nbformat_minor": 1
}
