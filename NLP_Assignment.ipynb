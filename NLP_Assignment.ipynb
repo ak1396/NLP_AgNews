{
 "cells": [
  {
   "cell_type": "markdown",
   "metadata": {
    "id": "A3gnbYM7y6bp"
   },
   "source": [
    "<h1> Final project"
   ]
  },
  {
   "cell_type": "markdown",
   "metadata": {
    "id": "ilnD7U4M_sxo"
   },
   "source": [
    "<h1> Importing relevant libraries"
   ]
  },
  {
   "cell_type": "code",
   "execution_count": 19,
   "metadata": {
    "id": "V4MxSycryf9d"
   },
   "outputs": [],
   "source": [
    "# Import data and package we need\n",
    "import pandas as pd\n",
    "pd.set_option('display.max_rows', 50)\n",
    "pd.set_option('display.max_columns', 10)\n",
    "pd.set_option('display.width', 300)\n",
    "pd.set_option('display.max_colwidth', 300)\n",
    "import numpy as np\n",
    "import re\n",
    "import string\n",
    "import sklearn.metrics\n",
    "from sklearn.metrics import classification_report\n",
    "from collections import Counter\n",
    "import matplotlib.pyplot as plt\n",
    "%matplotlib inline\n",
    "from sklearn.pipeline import Pipeline\n",
    "from sklearn.feature_extraction.text import CountVectorizer, TfidfTransformer\n",
    "from sklearn.naive_bayes import MultinomialNB\n",
    "from sklearn.linear_model import SGDClassifier"
   ]
  },
  {
   "cell_type": "markdown",
   "metadata": {
    "id": "CmHDKR3F_yoV"
   },
   "source": [
    "<h1> Importing Data"
   ]
  },
  {
   "cell_type": "code",
   "execution_count": 22,
   "metadata": {
    "id": "GJcEkCDuz7Wi"
   },
   "outputs": [],
   "source": [
    "train_data = pd.read_csv(\"/content/agnews_train.csv\")\n",
    "test_data = pd.read_csv(\"/content/agnews_test.csv\")"
   ]
  },
  {
   "cell_type": "markdown",
   "metadata": {
    "id": "ZnvpV9cFou7H"
   },
   "source": [
    "<h1> EDA and Get Insights"
   ]
  },
  {
   "cell_type": "code",
   "execution_count": 23,
   "metadata": {
    "colab": {
     "base_uri": "https://localhost:8080/",
     "height": 0
    },
    "id": "F2bFeXhNekAf",
    "outputId": "5c9f1fe0-0d7a-44a1-e654-2a228d6fbf9e"
   },
   "outputs": [
    {
     "name": "stdout",
     "output_type": "stream",
     "text": [
      "(109999, 7)\n",
      "(10000, 7)\n"
     ]
    }
   ],
   "source": [
    "# total data\n",
    "print(train_data.shape)\n",
    "print(test_data.shape)"
   ]
  },
  {
   "cell_type": "code",
   "execution_count": 24,
   "metadata": {
    "colab": {
     "base_uri": "https://localhost:8080/",
     "height": 0
    },
    "id": "dqKVvnqpmyX7",
    "outputId": "d876309a-85df-43fd-d9a6-96585aa05a29"
   },
   "outputs": [
    {
     "name": "stdout",
     "output_type": "stream",
     "text": [
      "<class 'pandas.core.frame.DataFrame'>\n",
      "RangeIndex: 109999 entries, 0 to 109998\n",
      "Data columns (total 7 columns):\n",
      " #   Column        Non-Null Count   Dtype \n",
      "---  ------        --------------   ----- \n",
      " 0   text          109999 non-null  object\n",
      " 1   label         109999 non-null  object\n",
      " 2   label_int     109999 non-null  int64 \n",
      " 3   science_int   109999 non-null  int64 \n",
      " 4   sports_int    109999 non-null  int64 \n",
      " 5   world_int     109999 non-null  int64 \n",
      " 6   business_int  109999 non-null  int64 \n",
      "dtypes: int64(5), object(2)\n",
      "memory usage: 5.9+ MB\n"
     ]
    }
   ],
   "source": [
    "# data info\n",
    "train_data.info()"
   ]
  },
  {
   "cell_type": "code",
   "execution_count": 25,
   "metadata": {
    "colab": {
     "base_uri": "https://localhost:8080/",
     "height": 0
    },
    "id": "obmGKiOVnJwi",
    "outputId": "accfcff2-108a-49b4-bbb7-e1448197a2cc"
   },
   "outputs": [
    {
     "data": {
      "text/plain": [
       "Sports      27542\n",
       "Business    27504\n",
       "World       27491\n",
       "Science     27462\n",
       "Name: label, dtype: int64"
      ]
     },
     "execution_count": 25,
     "metadata": {},
     "output_type": "execute_result"
    }
   ],
   "source": [
    "# categories distribution - training\n",
    "train_data['label'].value_counts()"
   ]
  },
  {
   "cell_type": "code",
   "execution_count": 26,
   "metadata": {
    "colab": {
     "base_uri": "https://localhost:8080/",
     "height": 0
    },
    "id": "Sui-f7A4o4Ls",
    "outputId": "6d9012be-8e7f-408c-b265-6fd107963671"
   },
   "outputs": [
    {
     "data": {
      "text/plain": [
       "Science     2537\n",
       "World       2509\n",
       "Business    2496\n",
       "Sports      2458\n",
       "Name: label, dtype: int64"
      ]
     },
     "execution_count": 26,
     "metadata": {},
     "output_type": "execute_result"
    }
   ],
   "source": [
    "# categories distribution - training\n",
    "test_data['label'].value_counts()"
   ]
  },
  {
   "cell_type": "markdown",
   "metadata": {
    "id": "Gt7k8LZzo8Xo"
   },
   "source": [
    "<h1>Data Cleaning"
   ]
  },
  {
   "cell_type": "code",
   "execution_count": 27,
   "metadata": {
    "id": "-QvBlS6fo6iV"
   },
   "outputs": [],
   "source": [
    "# removing punctuation down character\n",
    "def removePunctuationDown(strs):\n",
    "    remove = '!#$%&\\()+,-./:;<=>?@[\\\\]_{|}~'\n",
    "    pattern = r\"[{}]\".format(remove)\n",
    "    h = re.sub(pattern, \" \", strs)\n",
    "    return h\n",
    "\n",
    "# removing punctuation up character\n",
    "def removePunctuationUp(strs):\n",
    "    remove = ',\"\\^`*'\n",
    "    # remove = ',\"\\'^`*'\n",
    "    pattern = r\"[{}]\".format(remove)\n",
    "    h = re.sub(pattern, \"\", strs)\n",
    "    return h\n",
    "\n",
    "# replace other special character\n",
    "def replace(strs):\n",
    "    strs = strs.replace('\\\\t',' ').replace('\\\\n',' ').replace('\\\\u',' ').replace('\\\\',' ')\n",
    "    strs = strs.replace('\\n',' ')\n",
    "    strs = strs.replace('\\t','')\n",
    "    strs = strs.encode('utf-8').decode('ascii', 'ignore')\n",
    "    return strs\n",
    "\n",
    "# remove emoji\n",
    "def remove_emoji(text):\n",
    "    emoji_pattern = re.compile(\"[\"\n",
    "                           u\"\\U0001F600-\\U0001F64F\"  # emoticons\n",
    "                           u\"\\U0001F300-\\U0001F5FF\"  # symbols & pictographs\n",
    "                           u\"\\U0001F680-\\U0001F6FF\"  # transport & map symbols\n",
    "                           u\"\\U0001F1E0-\\U0001F1FF\"  # flags (iOS)\n",
    "                           u\"\\U00002500-\\U00002BEF\"  # chinese char\n",
    "                           u\"\\U00002702-\\U000027B0\"\n",
    "                           u\"\\U00002702-\\U000027B0\"\n",
    "                           u\"\\U000024C2-\\U0001F251\"\n",
    "                           u\"\\U0001f926-\\U0001f937\"\n",
    "                           u\"\\U00010000-\\U0010ffff\"\n",
    "                           u\"\\u2640-\\u2642\"\n",
    "                           u\"\\u2600-\\u2B55\"\n",
    "                           u\"\\u200d\"\n",
    "                           u\"\\u23cf\"\n",
    "                           u\"\\u23e9\"\n",
    "                           u\"\\u231a\"\n",
    "                           u\"\\ufe0f\"  # dingbats\n",
    "                           u\"\\u3030\"\n",
    "                               #convert data input to Unicode\n",
    "                           \"]+\", flags=re.UNICODE)\n",
    "    return emoji_pattern.sub(r'', text)"
   ]
  },
  {
   "cell_type": "markdown",
   "metadata": {
    "id": "qS37-h_t_Xdk"
   },
   "source": [
    "<h1> Custom Cleaning"
   ]
  },
  {
   "cell_type": "code",
   "execution_count": 28,
   "metadata": {
    "id": "G12AwV8No7lR"
   },
   "outputs": [],
   "source": [
    "# Apply Cleaning Data\n",
    "train_data['news'] = [i.lower() for i in train_data.text] #lower case\n",
    "train_data['remove_emoji'] = train_data['news'].apply(remove_emoji) #remov emoji\n",
    "train_data['hastags'] = [re.findall(r'\\B#\\w*[a-zA-Z0-9]+\\w*', i) for i in train_data.remove_emoji] #save hastags\n",
    "train_data['remove_email'] = [re.sub(r'\\S*@\\S*\\s?','',i) for i in train_data.remove_emoji] #remove email\n",
    "train_data['remove_hashtag'] = [re.sub(\"#[A-Za-z0-9_]+\",'',i) for i in train_data.remove_emoji] #remove hastags\n",
    "train_data['remove_special_character'] = train_data['remove_hashtag'].replace(r'http\\s+|www.\\s+','',regex=True).replace(r'http\\S+', '', regex=True).replace(r'www\\S+', '', regex=True) #remove link\n",
    "train_data['remove_special_character'] = [re.sub(r'&lt;/?[a-z]+&gt;','',i) for i in train_data.remove_special_character] #remove_special_character\n",
    "train_data['remove_special_character'] = [re.sub('<.*?>+', '', i) for i in train_data.remove_special_character] #remove special character\n",
    "train_data['text_clean'] = [removePunctuationDown(i) for i in train_data.remove_special_character] #remove punc down\n",
    "train_data['text_clean'] = [removePunctuationUp(i) for i in train_data.text_clean] #remove punc up\n",
    "train_data['text_clean'] = [replace(j) for j in train_data.text_clean] #remove \\n \\t"
   ]
  },
  {
   "cell_type": "code",
   "execution_count": 29,
   "metadata": {
    "id": "2Dw4DXRTo7oZ"
   },
   "outputs": [],
   "source": [
    "test_data['news'] = [i.lower() for i in test_data.text] #lower case\n",
    "test_data['remove_emoji'] = test_data['news'].apply(remove_emoji) #remov emoji\n",
    "test_data['hastags'] = [re.findall(r'\\B#\\w*[a-zA-Z0-9]+\\w*', i) for i in test_data.remove_emoji] #save hastags\n",
    "test_data['remove_email'] = [re.sub(r'\\S*@\\S*\\s?','',i) for i in test_data.remove_emoji] #remove email\n",
    "test_data['remove_hashtag'] = [re.sub(\"#[A-Za-z0-9_]+\",'',i) for i in test_data.remove_emoji] #remove hastags\n",
    "test_data['remove_special_character'] = test_data['remove_hashtag'].replace(r'http\\s+|www.\\s+','',regex=True).replace(r'http\\S+', '', regex=True).replace(r'www\\S+', '', regex=True) #remove link\n",
    "test_data['remove_special_character'] = [re.sub(r'&lt;/?[a-z]+&gt;','',i) for i in test_data.remove_special_character] #remove_special_character\n",
    "test_data['remove_special_character'] = [re.sub('<.*?>+', '', i) for i in test_data.remove_special_character] #remove special character\n",
    "test_data['text_clean'] = [removePunctuationDown(i) for i in test_data.remove_special_character] #remove punc down\n",
    "test_data['text_clean'] = [removePunctuationUp(i) for i in test_data.text_clean] #remove punc up\n",
    "test_data['text_clean'] = [replace(j) for j in test_data.text_clean] #remove \\n \\t"
   ]
  },
  {
   "cell_type": "code",
   "execution_count": 30,
   "metadata": {
    "id": "5eB2ZXyDo70X"
   },
   "outputs": [],
   "source": [
    "# select columns\n",
    "train_data = train_data[[ 'text','text_clean','science_int','sports_int','world_int','business_int','label_int']]\n",
    "test_data = test_data[['text','text_clean','science_int','sports_int','world_int','business_int','label_int']]"
   ]
  },
  {
   "cell_type": "code",
   "execution_count": 31,
   "metadata": {
    "colab": {
     "base_uri": "https://localhost:8080/",
     "height": 990
    },
    "id": "9dAV_TCELBsJ",
    "outputId": "915a151b-fc04-427d-de7c-c9415f3db0e6"
   },
   "outputs": [
    {
     "data": {
      "text/html": [
       "\n",
       "  <div id=\"df-ab7dcfbe-3588-49d7-acfb-549b96cc6819\">\n",
       "    <div class=\"colab-df-container\">\n",
       "      <div>\n",
       "<style scoped>\n",
       "    .dataframe tbody tr th:only-of-type {\n",
       "        vertical-align: middle;\n",
       "    }\n",
       "\n",
       "    .dataframe tbody tr th {\n",
       "        vertical-align: top;\n",
       "    }\n",
       "\n",
       "    .dataframe thead th {\n",
       "        text-align: right;\n",
       "    }\n",
       "</style>\n",
       "<table border=\"1\" class=\"dataframe\">\n",
       "  <thead>\n",
       "    <tr style=\"text-align: right;\">\n",
       "      <th></th>\n",
       "      <th>text</th>\n",
       "      <th>text_clean</th>\n",
       "      <th>science_int</th>\n",
       "      <th>sports_int</th>\n",
       "      <th>world_int</th>\n",
       "      <th>business_int</th>\n",
       "      <th>label_int</th>\n",
       "    </tr>\n",
       "  </thead>\n",
       "  <tbody>\n",
       "    <tr>\n",
       "      <th>0</th>\n",
       "      <td>John Souza, a volunteer with the Boone County chapter of the American Red Cross, is the second Columbia resident to join efforts to assist people who were affected by Tropical Storm Bonnie and Hurricane Charley.</td>\n",
       "      <td>john souza  a volunteer with the boone county chapter of the american red cross  is the second columbia resident to join efforts to assist people who were affected by tropical storm bonnie and hurricane charley</td>\n",
       "      <td>0</td>\n",
       "      <td>0</td>\n",
       "      <td>0</td>\n",
       "      <td>1</td>\n",
       "      <td>3</td>\n",
       "    </tr>\n",
       "    <tr>\n",
       "      <th>1</th>\n",
       "      <td>Spain needs only to beat an under-strength French team to secure its place in the Davis Cup tennis final, while Britain looks to the experience of Tim Henman and Greg Rusedski in its World Group play-off with Austria this weekend.</td>\n",
       "      <td>spain needs only to beat an under strength french team to secure its place in the davis cup tennis final  while britain looks to the experience of tim henman and greg rusedski in its world group play off with austria this weekend</td>\n",
       "      <td>0</td>\n",
       "      <td>1</td>\n",
       "      <td>0</td>\n",
       "      <td>0</td>\n",
       "      <td>1</td>\n",
       "    </tr>\n",
       "    <tr>\n",
       "      <th>2</th>\n",
       "      <td>PANAMA CITY, Panama -- When the United States gave Panama control over its canal, many observers predicted that the international waterway would be plagued by problems at best and chaos at worst.</td>\n",
       "      <td>panama city  panama    when the united states gave panama control over its canal  many observers predicted that the international waterway would be plagued by problems at best and chaos at worst</td>\n",
       "      <td>0</td>\n",
       "      <td>0</td>\n",
       "      <td>1</td>\n",
       "      <td>0</td>\n",
       "      <td>2</td>\n",
       "    </tr>\n",
       "    <tr>\n",
       "      <th>3</th>\n",
       "      <td>Gilbert Arenas, Jarvis Hayes and Anthony Peeler return from minor injuries to play in the Wizards' 97-85 victory over the Bobcats.</td>\n",
       "      <td>gilbert arenas  jarvis hayes and anthony peeler return from minor injuries to play in the wizards' 97 85 victory over the bobcats</td>\n",
       "      <td>0</td>\n",
       "      <td>1</td>\n",
       "      <td>0</td>\n",
       "      <td>0</td>\n",
       "      <td>1</td>\n",
       "    </tr>\n",
       "    <tr>\n",
       "      <th>4</th>\n",
       "      <td>MEMPHIS, Tenn. -- Kobe Bryant had his worst shooting night of the season Wednesday in the Lakers #39; 110-87 loss to the Grizzlies, and worse yet, he needed nearly 45 minutes of postgame treatment for plantar fasciitis in his left foot.</td>\n",
       "      <td>memphis  tenn     kobe bryant had his worst shooting night of the season wednesday in the lakers   110 87 loss to the grizzlies  and worse yet  he needed nearly 45 minutes of postgame treatment for plantar fasciitis in his left foot</td>\n",
       "      <td>0</td>\n",
       "      <td>1</td>\n",
       "      <td>0</td>\n",
       "      <td>0</td>\n",
       "      <td>1</td>\n",
       "    </tr>\n",
       "    <tr>\n",
       "      <th>...</th>\n",
       "      <td>...</td>\n",
       "      <td>...</td>\n",
       "      <td>...</td>\n",
       "      <td>...</td>\n",
       "      <td>...</td>\n",
       "      <td>...</td>\n",
       "      <td>...</td>\n",
       "    </tr>\n",
       "    <tr>\n",
       "      <th>109994</th>\n",
       "      <td>WASHINGTON-NextWave Telecom Inc. has until Nov. 3 to detail how it plans to emerge from bankruptcy after the bankrupt PCS bidder was given another filing extension.</td>\n",
       "      <td>washington nextwave telecom inc  has until nov  3 to detail how it plans to emerge from bankruptcy after the bankrupt pcs bidder was given another filing extension</td>\n",
       "      <td>1</td>\n",
       "      <td>0</td>\n",
       "      <td>0</td>\n",
       "      <td>0</td>\n",
       "      <td>0</td>\n",
       "    </tr>\n",
       "    <tr>\n",
       "      <th>109995</th>\n",
       "      <td>US military officials in Iraq say two US soldiers were killed in separate incidents late Wednesday. One soldier was killed and two others were wounded in an attack on their convoy near the insurgent stronghold of Fallujah.</td>\n",
       "      <td>us military officials in iraq say two us soldiers were killed in separate incidents late wednesday  one soldier was killed and two others were wounded in an attack on their convoy near the insurgent stronghold of fallujah</td>\n",
       "      <td>0</td>\n",
       "      <td>0</td>\n",
       "      <td>1</td>\n",
       "      <td>0</td>\n",
       "      <td>2</td>\n",
       "    </tr>\n",
       "    <tr>\n",
       "      <th>109996</th>\n",
       "      <td>ST. GEORGE'S, Grenada - Hurricane Ivan made a direct hit on Grenada, killing at least three people as it turned concrete homes into piles of rubble and hurled the island's landmark red zinc roofs through the air...</td>\n",
       "      <td>st  george's  grenada   hurricane ivan made a direct hit on grenada  killing at least three people as it turned concrete homes into piles of rubble and hurled the island's landmark red zinc roofs through the air</td>\n",
       "      <td>0</td>\n",
       "      <td>0</td>\n",
       "      <td>1</td>\n",
       "      <td>0</td>\n",
       "      <td>2</td>\n",
       "    </tr>\n",
       "    <tr>\n",
       "      <th>109997</th>\n",
       "      <td>The Expos president has lists prepared and plans in place to close up shop in Montreal and rebuild the franchise in Washington. He #39;ll begin to act once Major League Baseball confirms the club #39;s move, something which could happen as soon as Thursday.</td>\n",
       "      <td>the expos president has lists prepared and plans in place to close up shop in montreal and rebuild the franchise in washington  he  ll begin to act once major league baseball confirms the club  s move  something which could happen as soon as thursday</td>\n",
       "      <td>0</td>\n",
       "      <td>1</td>\n",
       "      <td>0</td>\n",
       "      <td>0</td>\n",
       "      <td>1</td>\n",
       "    </tr>\n",
       "    <tr>\n",
       "      <th>109998</th>\n",
       "      <td>Knight Trading Group Inc., a leading stock dealer, Wednesday said it expects to report an operating loss for the third quarter due to  quot;persistent lackluster market conditions quot; in its core businesses.</td>\n",
       "      <td>knight trading group inc   a leading stock dealer  wednesday said it expects to report an operating loss for the third quarter due to  quot persistent lackluster market conditions quot  in its core businesses</td>\n",
       "      <td>0</td>\n",
       "      <td>0</td>\n",
       "      <td>0</td>\n",
       "      <td>1</td>\n",
       "      <td>3</td>\n",
       "    </tr>\n",
       "  </tbody>\n",
       "</table>\n",
       "<p>109999 rows × 7 columns</p>\n",
       "</div>\n",
       "      <button class=\"colab-df-convert\" onclick=\"convertToInteractive('df-ab7dcfbe-3588-49d7-acfb-549b96cc6819')\"\n",
       "              title=\"Convert this dataframe to an interactive table.\"\n",
       "              style=\"display:none;\">\n",
       "        \n",
       "  <svg xmlns=\"http://www.w3.org/2000/svg\" height=\"24px\"viewBox=\"0 0 24 24\"\n",
       "       width=\"24px\">\n",
       "    <path d=\"M0 0h24v24H0V0z\" fill=\"none\"/>\n",
       "    <path d=\"M18.56 5.44l.94 2.06.94-2.06 2.06-.94-2.06-.94-.94-2.06-.94 2.06-2.06.94zm-11 1L8.5 8.5l.94-2.06 2.06-.94-2.06-.94L8.5 2.5l-.94 2.06-2.06.94zm10 10l.94 2.06.94-2.06 2.06-.94-2.06-.94-.94-2.06-.94 2.06-2.06.94z\"/><path d=\"M17.41 7.96l-1.37-1.37c-.4-.4-.92-.59-1.43-.59-.52 0-1.04.2-1.43.59L10.3 9.45l-7.72 7.72c-.78.78-.78 2.05 0 2.83L4 21.41c.39.39.9.59 1.41.59.51 0 1.02-.2 1.41-.59l7.78-7.78 2.81-2.81c.8-.78.8-2.07 0-2.86zM5.41 20L4 18.59l7.72-7.72 1.47 1.35L5.41 20z\"/>\n",
       "  </svg>\n",
       "      </button>\n",
       "      \n",
       "  <style>\n",
       "    .colab-df-container {\n",
       "      display:flex;\n",
       "      flex-wrap:wrap;\n",
       "      gap: 12px;\n",
       "    }\n",
       "\n",
       "    .colab-df-convert {\n",
       "      background-color: #E8F0FE;\n",
       "      border: none;\n",
       "      border-radius: 50%;\n",
       "      cursor: pointer;\n",
       "      display: none;\n",
       "      fill: #1967D2;\n",
       "      height: 32px;\n",
       "      padding: 0 0 0 0;\n",
       "      width: 32px;\n",
       "    }\n",
       "\n",
       "    .colab-df-convert:hover {\n",
       "      background-color: #E2EBFA;\n",
       "      box-shadow: 0px 1px 2px rgba(60, 64, 67, 0.3), 0px 1px 3px 1px rgba(60, 64, 67, 0.15);\n",
       "      fill: #174EA6;\n",
       "    }\n",
       "\n",
       "    [theme=dark] .colab-df-convert {\n",
       "      background-color: #3B4455;\n",
       "      fill: #D2E3FC;\n",
       "    }\n",
       "\n",
       "    [theme=dark] .colab-df-convert:hover {\n",
       "      background-color: #434B5C;\n",
       "      box-shadow: 0px 1px 3px 1px rgba(0, 0, 0, 0.15);\n",
       "      filter: drop-shadow(0px 1px 2px rgba(0, 0, 0, 0.3));\n",
       "      fill: #FFFFFF;\n",
       "    }\n",
       "  </style>\n",
       "\n",
       "      <script>\n",
       "        const buttonEl =\n",
       "          document.querySelector('#df-ab7dcfbe-3588-49d7-acfb-549b96cc6819 button.colab-df-convert');\n",
       "        buttonEl.style.display =\n",
       "          google.colab.kernel.accessAllowed ? 'block' : 'none';\n",
       "\n",
       "        async function convertToInteractive(key) {\n",
       "          const element = document.querySelector('#df-ab7dcfbe-3588-49d7-acfb-549b96cc6819');\n",
       "          const dataTable =\n",
       "            await google.colab.kernel.invokeFunction('convertToInteractive',\n",
       "                                                     [key], {});\n",
       "          if (!dataTable) return;\n",
       "\n",
       "          const docLinkHtml = 'Like what you see? Visit the ' +\n",
       "            '<a target=\"_blank\" href=https://colab.research.google.com/notebooks/data_table.ipynb>data table notebook</a>'\n",
       "            + ' to learn more about interactive tables.';\n",
       "          element.innerHTML = '';\n",
       "          dataTable['output_type'] = 'display_data';\n",
       "          await google.colab.output.renderOutput(dataTable, element);\n",
       "          const docLink = document.createElement('div');\n",
       "          docLink.innerHTML = docLinkHtml;\n",
       "          element.appendChild(docLink);\n",
       "        }\n",
       "      </script>\n",
       "    </div>\n",
       "  </div>\n",
       "  "
      ],
      "text/plain": [
       "                                                                                                                                                                                                                                                                     text  \\\n",
       "0                                                     John Souza, a volunteer with the Boone County chapter of the American Red Cross, is the second Columbia resident to join efforts to assist people who were affected by Tropical Storm Bonnie and Hurricane Charley.   \n",
       "1                                  Spain needs only to beat an under-strength French team to secure its place in the Davis Cup tennis final, while Britain looks to the experience of Tim Henman and Greg Rusedski in its World Group play-off with Austria this weekend.   \n",
       "2                                                                     PANAMA CITY, Panama -- When the United States gave Panama control over its canal, many observers predicted that the international waterway would be plagued by problems at best and chaos at worst.   \n",
       "3                                                                                                                                      Gilbert Arenas, Jarvis Hayes and Anthony Peeler return from minor injuries to play in the Wizards' 97-85 victory over the Bobcats.   \n",
       "4                            MEMPHIS, Tenn. -- Kobe Bryant had his worst shooting night of the season Wednesday in the Lakers #39; 110-87 loss to the Grizzlies, and worse yet, he needed nearly 45 minutes of postgame treatment for plantar fasciitis in his left foot.   \n",
       "...                                                                                                                                                                                                                                                                   ...   \n",
       "109994                                                                                               WASHINGTON-NextWave Telecom Inc. has until Nov. 3 to detail how it plans to emerge from bankruptcy after the bankrupt PCS bidder was given another filing extension.   \n",
       "109995                                     US military officials in Iraq say two US soldiers were killed in separate incidents late Wednesday. One soldier was killed and two others were wounded in an attack on their convoy near the insurgent stronghold of Fallujah.   \n",
       "109996                                             ST. GEORGE'S, Grenada - Hurricane Ivan made a direct hit on Grenada, killing at least three people as it turned concrete homes into piles of rubble and hurled the island's landmark red zinc roofs through the air...   \n",
       "109997  The Expos president has lists prepared and plans in place to close up shop in Montreal and rebuild the franchise in Washington. He #39;ll begin to act once Major League Baseball confirms the club #39;s move, something which could happen as soon as Thursday.   \n",
       "109998                                                  Knight Trading Group Inc., a leading stock dealer, Wednesday said it expects to report an operating loss for the third quarter due to  quot;persistent lackluster market conditions quot; in its core businesses.   \n",
       "\n",
       "                                                                                                                                                                                                                                                         text_clean  science_int  sports_int  world_int  \\\n",
       "0                                               john souza  a volunteer with the boone county chapter of the american red cross  is the second columbia resident to join efforts to assist people who were affected by tropical storm bonnie and hurricane charley             0           0          0   \n",
       "1                            spain needs only to beat an under strength french team to secure its place in the davis cup tennis final  while britain looks to the experience of tim henman and greg rusedski in its world group play off with austria this weekend             0           1          0   \n",
       "2                                                               panama city  panama    when the united states gave panama control over its canal  many observers predicted that the international waterway would be plagued by problems at best and chaos at worst             0           0          1   \n",
       "3                                                                                                                                gilbert arenas  jarvis hayes and anthony peeler return from minor injuries to play in the wizards' 97 85 victory over the bobcats             0           1          0   \n",
       "4                         memphis  tenn     kobe bryant had his worst shooting night of the season wednesday in the lakers   110 87 loss to the grizzlies  and worse yet  he needed nearly 45 minutes of postgame treatment for plantar fasciitis in his left foot             0           1          0   \n",
       "...                                                                                                                                                                                                                                                             ...          ...         ...        ...   \n",
       "109994                                                                                         washington nextwave telecom inc  has until nov  3 to detail how it plans to emerge from bankruptcy after the bankrupt pcs bidder was given another filing extension             1           0          0   \n",
       "109995                               us military officials in iraq say two us soldiers were killed in separate incidents late wednesday  one soldier was killed and two others were wounded in an attack on their convoy near the insurgent stronghold of fallujah             0           0          1   \n",
       "109996                                       st  george's  grenada   hurricane ivan made a direct hit on grenada  killing at least three people as it turned concrete homes into piles of rubble and hurled the island's landmark red zinc roofs through the air               0           0          1   \n",
       "109997  the expos president has lists prepared and plans in place to close up shop in montreal and rebuild the franchise in washington  he  ll begin to act once major league baseball confirms the club  s move  something which could happen as soon as thursday             0           1          0   \n",
       "109998                                            knight trading group inc   a leading stock dealer  wednesday said it expects to report an operating loss for the third quarter due to  quot persistent lackluster market conditions quot  in its core businesses             0           0          0   \n",
       "\n",
       "        business_int  label_int  \n",
       "0                  1          3  \n",
       "1                  0          1  \n",
       "2                  0          2  \n",
       "3                  0          1  \n",
       "4                  0          1  \n",
       "...              ...        ...  \n",
       "109994             0          0  \n",
       "109995             0          2  \n",
       "109996             0          2  \n",
       "109997             0          1  \n",
       "109998             1          3  \n",
       "\n",
       "[109999 rows x 7 columns]"
      ]
     },
     "execution_count": 31,
     "metadata": {},
     "output_type": "execute_result"
    }
   ],
   "source": [
    "train_data"
   ]
  },
  {
   "cell_type": "markdown",
   "metadata": {
    "id": "-ZxkamnnKDKK"
   },
   "source": [
    "<h1> Binary Classification Models"
   ]
  },
  {
   "cell_type": "code",
   "execution_count": 32,
   "metadata": {
    "id": "SeyQ1V2WNnsf"
   },
   "outputs": [],
   "source": [
    "from sklearn.pipeline import Pipeline\n",
    "categories = {0: 'Science',\n",
    "              1: 'Sports',\n",
    "              2: 'World',\n",
    "              3: 'Business'}"
   ]
  },
  {
   "cell_type": "markdown",
   "metadata": {
    "id": "Ae6GRxP0KJGX"
   },
   "source": [
    "### Naive-Bayes"
   ]
  },
  {
   "cell_type": "code",
   "execution_count": 33,
   "metadata": {
    "id": "RHArCpe7KG2a"
   },
   "outputs": [],
   "source": [
    "def nb_model(category: str, train = train_data, test = test_data, categories = categories):\n",
    "\n",
    "  model_nb = Pipeline([\n",
    "                          ('vect', CountVectorizer(stop_words='english')),\n",
    "                          ('tfidf', TfidfTransformer()),\n",
    "                          ('clf', MultinomialNB()),\n",
    "                          ])\n",
    "  \n",
    "  column = category.lower() + '_int'\n",
    "\n",
    "  model_nb.fit(train.text_clean, train[column])\n",
    "\n",
    "  pred_nb = model_nb.predict(test.text_clean)\n",
    "\n",
    "  print(category, ' Evaluation \\n')\n",
    "  print(classification_report(test[column], \n",
    "                              pred_nb,\n",
    "                              target_names=['Yes','No'], \n",
    "                              zero_division=0))"
   ]
  },
  {
   "cell_type": "code",
   "execution_count": 34,
   "metadata": {
    "colab": {
     "base_uri": "https://localhost:8080/",
     "height": 0
    },
    "id": "f910ZNtpOAPW",
    "outputId": "8dfc301e-9f9f-429f-86fa-b30498b93683"
   },
   "outputs": [
    {
     "name": "stdout",
     "output_type": "stream",
     "text": [
      "science  Evaluation \n",
      "\n",
      "              precision    recall  f1-score   support\n",
      "\n",
      "         Yes       0.93      0.97      0.95      7463\n",
      "          No       0.91      0.78      0.84      2537\n",
      "\n",
      "    accuracy                           0.92     10000\n",
      "   macro avg       0.92      0.88      0.90     10000\n",
      "weighted avg       0.92      0.92      0.92     10000\n",
      "\n"
     ]
    }
   ],
   "source": [
    "nb_model('science')"
   ]
  },
  {
   "cell_type": "code",
   "execution_count": 35,
   "metadata": {
    "colab": {
     "base_uri": "https://localhost:8080/",
     "height": 0
    },
    "id": "Elg2GXT-O7WD",
    "outputId": "424300e1-372d-4c56-d406-125fa78d5d66"
   },
   "outputs": [
    {
     "name": "stdout",
     "output_type": "stream",
     "text": [
      "sports  Evaluation \n",
      "\n",
      "              precision    recall  f1-score   support\n",
      "\n",
      "         Yes       0.98      0.99      0.99      7542\n",
      "          No       0.97      0.95      0.96      2458\n",
      "\n",
      "    accuracy                           0.98     10000\n",
      "   macro avg       0.97      0.97      0.97     10000\n",
      "weighted avg       0.98      0.98      0.98     10000\n",
      "\n"
     ]
    }
   ],
   "source": [
    "nb_model('sports')"
   ]
  },
  {
   "cell_type": "code",
   "execution_count": 36,
   "metadata": {
    "colab": {
     "base_uri": "https://localhost:8080/",
     "height": 0
    },
    "id": "XD0YuxluO8WG",
    "outputId": "d08a5d18-f62b-4233-9ca0-8c881a5f144f"
   },
   "outputs": [
    {
     "name": "stdout",
     "output_type": "stream",
     "text": [
      "world  Evaluation \n",
      "\n",
      "              precision    recall  f1-score   support\n",
      "\n",
      "         Yes       0.94      0.98      0.96      7491\n",
      "          No       0.94      0.82      0.88      2509\n",
      "\n",
      "    accuracy                           0.94     10000\n",
      "   macro avg       0.94      0.90      0.92     10000\n",
      "weighted avg       0.94      0.94      0.94     10000\n",
      "\n"
     ]
    }
   ],
   "source": [
    "nb_model('world')"
   ]
  },
  {
   "cell_type": "code",
   "execution_count": 37,
   "metadata": {
    "colab": {
     "base_uri": "https://localhost:8080/",
     "height": 0
    },
    "id": "ww6Rt20xYjnB",
    "outputId": "2a54f54a-6324-49a3-8fc5-c07a2fa86659"
   },
   "outputs": [
    {
     "name": "stdout",
     "output_type": "stream",
     "text": [
      "business  Evaluation \n",
      "\n",
      "              precision    recall  f1-score   support\n",
      "\n",
      "         Yes       0.93      0.97      0.95      7504\n",
      "          No       0.89      0.78      0.83      2496\n",
      "\n",
      "    accuracy                           0.92     10000\n",
      "   macro avg       0.91      0.88      0.89     10000\n",
      "weighted avg       0.92      0.92      0.92     10000\n",
      "\n"
     ]
    }
   ],
   "source": [
    "nb_model('business')"
   ]
  },
  {
   "cell_type": "markdown",
   "metadata": {
    "id": "UTDPljAeYr8T"
   },
   "source": [
    "### SGD Classifier"
   ]
  },
  {
   "cell_type": "code",
   "execution_count": 38,
   "metadata": {
    "id": "kLaknftLYrZ_"
   },
   "outputs": [],
   "source": [
    "def sgd_model(category: str, train = train_data, test = test_data, categories = categories):\n",
    "\n",
    "  model_sgd = Pipeline([\n",
    "                          ('vect', CountVectorizer(stop_words='english')),\n",
    "                          ('tfidf', TfidfTransformer()),\n",
    "                          ('clf', SGDClassifier(loss='hinge', penalty='l2',\n",
    "                             alpha=1e-6, random_state=42,\n",
    "                                               max_iter=100, tol=None))\n",
    "                          ])\n",
    "  \n",
    "  column = category.lower() + '_int'\n",
    "\n",
    "  model_sgd.fit(train.text_clean, train[column])\n",
    "\n",
    "  pred_nb = model_sgd.predict(test.text_clean)\n",
    "\n",
    "  print(category, ' Evaluation \\n')\n",
    "  print(classification_report(test[column], \n",
    "                              pred_nb,\n",
    "                              target_names=['Yes','No'], \n",
    "                              zero_division=0))"
   ]
  },
  {
   "cell_type": "code",
   "execution_count": 39,
   "metadata": {
    "colab": {
     "base_uri": "https://localhost:8080/",
     "height": 0
    },
    "id": "ixwQtRtXZFNy",
    "outputId": "1231ae9e-c5ba-447c-c205-8f79c80e133e"
   },
   "outputs": [
    {
     "name": "stdout",
     "output_type": "stream",
     "text": [
      "science  Evaluation \n",
      "\n",
      "              precision    recall  f1-score   support\n",
      "\n",
      "         Yes       0.95      0.95      0.95      7463\n",
      "          No       0.86      0.85      0.86      2537\n",
      "\n",
      "    accuracy                           0.93     10000\n",
      "   macro avg       0.91      0.90      0.90     10000\n",
      "weighted avg       0.93      0.93      0.93     10000\n",
      "\n"
     ]
    }
   ],
   "source": [
    "sgd_model('science')"
   ]
  },
  {
   "cell_type": "code",
   "execution_count": 40,
   "metadata": {
    "colab": {
     "base_uri": "https://localhost:8080/",
     "height": 0
    },
    "id": "qfn8mJXWZH-2",
    "outputId": "32a8bd6e-68d0-4170-97ca-127a68540f2a"
   },
   "outputs": [
    {
     "name": "stdout",
     "output_type": "stream",
     "text": [
      "sports  Evaluation \n",
      "\n",
      "              precision    recall  f1-score   support\n",
      "\n",
      "         Yes       0.98      0.99      0.98      7542\n",
      "          No       0.95      0.95      0.95      2458\n",
      "\n",
      "    accuracy                           0.98     10000\n",
      "   macro avg       0.97      0.97      0.97     10000\n",
      "weighted avg       0.98      0.98      0.98     10000\n",
      "\n"
     ]
    }
   ],
   "source": [
    "sgd_model('sports')"
   ]
  },
  {
   "cell_type": "code",
   "execution_count": 41,
   "metadata": {
    "colab": {
     "base_uri": "https://localhost:8080/",
     "height": 0
    },
    "id": "N4XpP1CuZNOR",
    "outputId": "7cf36585-fb93-413e-820a-f902945e47fd"
   },
   "outputs": [
    {
     "name": "stdout",
     "output_type": "stream",
     "text": [
      "world  Evaluation \n",
      "\n",
      "              precision    recall  f1-score   support\n",
      "\n",
      "         Yes       0.96      0.97      0.96      7491\n",
      "          No       0.89      0.87      0.88      2509\n",
      "\n",
      "    accuracy                           0.94     10000\n",
      "   macro avg       0.93      0.92      0.92     10000\n",
      "weighted avg       0.94      0.94      0.94     10000\n",
      "\n"
     ]
    }
   ],
   "source": [
    "sgd_model('world')"
   ]
  },
  {
   "cell_type": "code",
   "execution_count": 42,
   "metadata": {
    "colab": {
     "base_uri": "https://localhost:8080/",
     "height": 0
    },
    "id": "5NHNQgjEZPYR",
    "outputId": "600945d1-4ac7-4be7-8e6a-a1a8d3194948"
   },
   "outputs": [
    {
     "name": "stdout",
     "output_type": "stream",
     "text": [
      "business  Evaluation \n",
      "\n",
      "              precision    recall  f1-score   support\n",
      "\n",
      "         Yes       0.95      0.95      0.95      7504\n",
      "          No       0.85      0.86      0.85      2496\n",
      "\n",
      "    accuracy                           0.93     10000\n",
      "   macro avg       0.90      0.90      0.90     10000\n",
      "weighted avg       0.93      0.93      0.93     10000\n",
      "\n"
     ]
    }
   ],
   "source": [
    "sgd_model('business')"
   ]
  },
  {
   "cell_type": "markdown",
   "metadata": {
    "id": "S8--Wt3rHDST"
   },
   "source": [
    "<h1>Binary Models with Grid Search"
   ]
  },
  {
   "cell_type": "code",
   "execution_count": 43,
   "metadata": {
    "id": "kQSvMv8AHIgZ"
   },
   "outputs": [],
   "source": [
    "from sklearn.model_selection import GridSearchCV\n",
    "\n",
    "def crossvalidation_report_df(grid_cv): \n",
    "    \"\"\"Convenience  function. \n",
    "    \n",
    "    Creates a simple dataframe that reports the results of a \n",
    "    cros-validation experiment. The input grid_cv must be fit. \n",
    "    \n",
    "    Returns a dataframe, sorted by rank of experiment. \n",
    "    \"\"\"\n",
    "    # pick columns that define each experiment (start with param)\n",
    "    # and the columns that report mean_test and rank_test results\n",
    "    cols = [c for c in grid_cv.cv_results_ if (c.startswith('param') or \n",
    "                                               c in ['mean_test_score', 'rank_test_score'])]\n",
    "\n",
    "    # sort original df by rank, and select columns\n",
    "    return pd.DataFrame(grid_cv.cv_results_).sort_values(by='rank_test_score')[cols]"
   ]
  },
  {
   "cell_type": "markdown",
   "metadata": {
    "id": "qTroe_9eHPQL"
   },
   "source": [
    "<h2> Naive Bayes"
   ]
  },
  {
   "cell_type": "code",
   "execution_count": 44,
   "metadata": {
    "id": "p_-5faWGHRQB"
   },
   "outputs": [],
   "source": [
    "def nb_model_gcv(category: str, train = train_data, test = test_data, categories = categories):\n",
    "\n",
    "  model_nb = Pipeline([\n",
    "                          ('vect', CountVectorizer(stop_words='english')),\n",
    "                          ('tfidf', TfidfTransformer()),\n",
    "                          ('clf', MultinomialNB()),\n",
    "                          ])\n",
    "  \n",
    "  sgd_grid_parameters = {\n",
    "    'vect__ngram_range': [(1, 1), (1, 2), (1,3)]\n",
    "  }\n",
    "\n",
    "  # we create the grid\n",
    "  nb_grid= GridSearchCV(model_nb, sgd_grid_parameters, verbose=1)\n",
    "\n",
    "  column = category.lower() + '_int'\n",
    "\n",
    "  nb_grid.fit(train.text_clean, train[column])\n",
    "\n",
    "  #pred_nb = model_nb.predict(test.text_clean)\n",
    "\n",
    "  #print(category, ' Evaluation \\n')\n",
    "  #print(classification_report(test[column], \n",
    "  #                            pred_nb,\n",
    "  #                            target_names=['Yes','No'], \n",
    "  #                            zero_division=0))\n",
    "\n",
    "  print(crossvalidation_report_df(nb_grid))\n"
   ]
  },
  {
   "cell_type": "code",
   "execution_count": 45,
   "metadata": {
    "colab": {
     "base_uri": "https://localhost:8080/",
     "height": 0
    },
    "id": "b2ZU94ZzIElP",
    "outputId": "e249f839-dc7a-416c-b6f1-bb3ce0d7f9ea"
   },
   "outputs": [
    {
     "name": "stdout",
     "output_type": "stream",
     "text": [
      "Fitting 5 folds for each of 3 candidates, totalling 15 fits\n",
      "  param_vect__ngram_range                         params  mean_test_score  rank_test_score\n",
      "0                  (1, 1)  {'vect__ngram_range': (1, 1)}         0.923045                1\n",
      "1                  (1, 2)  {'vect__ngram_range': (1, 2)}         0.880990                2\n",
      "2                  (1, 3)  {'vect__ngram_range': (1, 3)}         0.868308                3\n"
     ]
    }
   ],
   "source": [
    "nb_model_gcv('science')"
   ]
  },
  {
   "cell_type": "code",
   "execution_count": 46,
   "metadata": {
    "colab": {
     "base_uri": "https://localhost:8080/",
     "height": 0
    },
    "id": "k0nX3rZTJwBb",
    "outputId": "630e99a1-8ee3-4f79-8a29-3b44bfc1f343"
   },
   "outputs": [
    {
     "name": "stdout",
     "output_type": "stream",
     "text": [
      "Fitting 5 folds for each of 3 candidates, totalling 15 fits\n",
      "  param_vect__ngram_range                         params  mean_test_score  rank_test_score\n",
      "0                  (1, 1)  {'vect__ngram_range': (1, 1)}         0.975982                1\n",
      "1                  (1, 2)  {'vect__ngram_range': (1, 2)}         0.952063                2\n",
      "2                  (1, 3)  {'vect__ngram_range': (1, 3)}         0.939627                3\n"
     ]
    }
   ],
   "source": [
    "nb_model_gcv('sports')"
   ]
  },
  {
   "cell_type": "code",
   "execution_count": 47,
   "metadata": {
    "colab": {
     "base_uri": "https://localhost:8080/",
     "height": 0
    },
    "id": "WK3A7kVsJ0Xm",
    "outputId": "6975566d-7003-4807-fc50-5629251e5f9d"
   },
   "outputs": [
    {
     "name": "stdout",
     "output_type": "stream",
     "text": [
      "Fitting 5 folds for each of 3 candidates, totalling 15 fits\n",
      "  param_vect__ngram_range                         params  mean_test_score  rank_test_score\n",
      "0                  (1, 1)  {'vect__ngram_range': (1, 1)}         0.946727                1\n",
      "1                  (1, 2)  {'vect__ngram_range': (1, 2)}         0.923245                2\n",
      "2                  (1, 3)  {'vect__ngram_range': (1, 3)}         0.913627                3\n"
     ]
    }
   ],
   "source": [
    "nb_model_gcv('world')"
   ]
  },
  {
   "cell_type": "code",
   "execution_count": 48,
   "metadata": {
    "colab": {
     "base_uri": "https://localhost:8080/",
     "height": 0
    },
    "id": "ynSHY97HJ3ur",
    "outputId": "bfdae1f5-1587-425e-a810-4d3feed3613d"
   },
   "outputs": [
    {
     "name": "stdout",
     "output_type": "stream",
     "text": [
      "Fitting 5 folds for each of 3 candidates, totalling 15 fits\n",
      "  param_vect__ngram_range                         params  mean_test_score  rank_test_score\n",
      "0                  (1, 1)  {'vect__ngram_range': (1, 1)}         0.920063                1\n",
      "1                  (1, 2)  {'vect__ngram_range': (1, 2)}         0.890835                2\n",
      "2                  (1, 3)  {'vect__ngram_range': (1, 3)}         0.880135                3\n"
     ]
    }
   ],
   "source": [
    "nb_model_gcv('business')"
   ]
  },
  {
   "cell_type": "markdown",
   "metadata": {
    "id": "0xS1RgwnKEzi"
   },
   "source": [
    "<h3> SGD"
   ]
  },
  {
   "cell_type": "code",
   "execution_count": 49,
   "metadata": {
    "id": "9_xG4xXMKA97"
   },
   "outputs": [],
   "source": [
    "def sgd_model_gcv(category: str, train = train_data, test = test_data, categories = categories):\n",
    "\n",
    "  model_nb = Pipeline([\n",
    "                          ('vect', CountVectorizer(stop_words='english')),\n",
    "                          ('tfidf', TfidfTransformer()),\n",
    "                          ('clf', MultinomialNB()),\n",
    "                          ])\n",
    "  \n",
    "  sgd_grid_parameters = {\n",
    "    'vect__ngram_range': [(1, 1), (1, 2), (1,3)],\n",
    "    'clf__alpha': (1e-3, 1e-6, 1e-9, 1e-12)\n",
    "  }\n",
    "\n",
    "  # we create the grid\n",
    "  sgd_grid= GridSearchCV(model_nb, sgd_grid_parameters, verbose=1)\n",
    "\n",
    "  column = category.lower() + '_int'\n",
    "\n",
    "  sgd_grid.fit(train.text_clean, train[column])\n",
    "\n",
    "  #pred_nb = model_nb.predict(test.text_clean)\n",
    "\n",
    "  #print(category, ' Evaluation \\n')\n",
    "  #print(classification_report(test[column], \n",
    "  #                            pred_nb,\n",
    "  #                            target_names=['Yes','No'], \n",
    "  #                            zero_division=0))\n",
    "\n",
    "  print(crossvalidation_report_df(sgd_grid))\n"
   ]
  },
  {
   "cell_type": "code",
   "execution_count": 50,
   "metadata": {
    "colab": {
     "base_uri": "https://localhost:8080/",
     "height": 0
    },
    "id": "zt4vU2eQKWzG",
    "outputId": "d93f0607-13c2-4545-d257-c9c38e5a79f2"
   },
   "outputs": [
    {
     "name": "stdout",
     "output_type": "stream",
     "text": [
      "Fitting 5 folds for each of 12 candidates, totalling 60 fits\n"
     ]
    },
    {
     "name": "stderr",
     "output_type": "stream",
     "text": [
      "/usr/local/lib/python3.7/dist-packages/sklearn/naive_bayes.py:557: UserWarning: alpha too small will result in numeric errors, setting alpha = 1.0e-10\n",
      "  % _ALPHA_MIN\n",
      "/usr/local/lib/python3.7/dist-packages/sklearn/naive_bayes.py:557: UserWarning: alpha too small will result in numeric errors, setting alpha = 1.0e-10\n",
      "  % _ALPHA_MIN\n",
      "/usr/local/lib/python3.7/dist-packages/sklearn/naive_bayes.py:557: UserWarning: alpha too small will result in numeric errors, setting alpha = 1.0e-10\n",
      "  % _ALPHA_MIN\n",
      "/usr/local/lib/python3.7/dist-packages/sklearn/naive_bayes.py:557: UserWarning: alpha too small will result in numeric errors, setting alpha = 1.0e-10\n",
      "  % _ALPHA_MIN\n",
      "/usr/local/lib/python3.7/dist-packages/sklearn/naive_bayes.py:557: UserWarning: alpha too small will result in numeric errors, setting alpha = 1.0e-10\n",
      "  % _ALPHA_MIN\n",
      "/usr/local/lib/python3.7/dist-packages/sklearn/naive_bayes.py:557: UserWarning: alpha too small will result in numeric errors, setting alpha = 1.0e-10\n",
      "  % _ALPHA_MIN\n",
      "/usr/local/lib/python3.7/dist-packages/sklearn/naive_bayes.py:557: UserWarning: alpha too small will result in numeric errors, setting alpha = 1.0e-10\n",
      "  % _ALPHA_MIN\n",
      "/usr/local/lib/python3.7/dist-packages/sklearn/naive_bayes.py:557: UserWarning: alpha too small will result in numeric errors, setting alpha = 1.0e-10\n",
      "  % _ALPHA_MIN\n",
      "/usr/local/lib/python3.7/dist-packages/sklearn/naive_bayes.py:557: UserWarning: alpha too small will result in numeric errors, setting alpha = 1.0e-10\n",
      "  % _ALPHA_MIN\n",
      "/usr/local/lib/python3.7/dist-packages/sklearn/naive_bayes.py:557: UserWarning: alpha too small will result in numeric errors, setting alpha = 1.0e-10\n",
      "  % _ALPHA_MIN\n",
      "/usr/local/lib/python3.7/dist-packages/sklearn/naive_bayes.py:557: UserWarning: alpha too small will result in numeric errors, setting alpha = 1.0e-10\n",
      "  % _ALPHA_MIN\n",
      "/usr/local/lib/python3.7/dist-packages/sklearn/naive_bayes.py:557: UserWarning: alpha too small will result in numeric errors, setting alpha = 1.0e-10\n",
      "  % _ALPHA_MIN\n",
      "/usr/local/lib/python3.7/dist-packages/sklearn/naive_bayes.py:557: UserWarning: alpha too small will result in numeric errors, setting alpha = 1.0e-10\n",
      "  % _ALPHA_MIN\n",
      "/usr/local/lib/python3.7/dist-packages/sklearn/naive_bayes.py:557: UserWarning: alpha too small will result in numeric errors, setting alpha = 1.0e-10\n",
      "  % _ALPHA_MIN\n",
      "/usr/local/lib/python3.7/dist-packages/sklearn/naive_bayes.py:557: UserWarning: alpha too small will result in numeric errors, setting alpha = 1.0e-10\n",
      "  % _ALPHA_MIN\n"
     ]
    },
    {
     "name": "stdout",
     "output_type": "stream",
     "text": [
      "   param_clf__alpha param_vect__ngram_range                                              params  mean_test_score  rank_test_score\n",
      "1             0.001                  (1, 2)  {'clf__alpha': 0.001, 'vect__ngram_range': (1, 2)}         0.936736                1\n",
      "2             0.001                  (1, 3)  {'clf__alpha': 0.001, 'vect__ngram_range': (1, 3)}         0.936527                2\n",
      "5          0.000001                  (1, 3)  {'clf__alpha': 1e-06, 'vect__ngram_range': (1, 3)}         0.931854                3\n",
      "4          0.000001                  (1, 2)  {'clf__alpha': 1e-06, 'vect__ngram_range': (1, 2)}         0.931199                4\n",
      "8               0.0                  (1, 3)  {'clf__alpha': 1e-09, 'vect__ngram_range': (1, 3)}         0.929508                5\n",
      "11              0.0                  (1, 3)  {'clf__alpha': 1e-12, 'vect__ngram_range': (1, 3)}         0.929090                6\n",
      "7               0.0                  (1, 2)  {'clf__alpha': 1e-09, 'vect__ngram_range': (1, 2)}         0.928608                7\n",
      "10              0.0                  (1, 2)  {'clf__alpha': 1e-12, 'vect__ngram_range': (1, 2)}         0.928154                8\n",
      "0             0.001                  (1, 1)  {'clf__alpha': 0.001, 'vect__ngram_range': (1, 1)}         0.927118                9\n",
      "3          0.000001                  (1, 1)  {'clf__alpha': 1e-06, 'vect__ngram_range': (1, 1)}         0.920527               10\n",
      "6               0.0                  (1, 1)  {'clf__alpha': 1e-09, 'vect__ngram_range': (1, 1)}         0.918063               11\n",
      "9               0.0                  (1, 1)  {'clf__alpha': 1e-12, 'vect__ngram_range': (1, 1)}         0.917617               12\n"
     ]
    }
   ],
   "source": [
    "sgd_model_gcv('science')"
   ]
  },
  {
   "cell_type": "code",
   "execution_count": 51,
   "metadata": {
    "colab": {
     "base_uri": "https://localhost:8080/",
     "height": 0
    },
    "id": "Ndoc9_UqKbAm",
    "outputId": "c00ad53f-4df0-4949-b954-34b20c947259"
   },
   "outputs": [
    {
     "metadata": {
      "tags": null
     },
     "name": "stdout",
     "output_type": "stream",
     "text": [
      "Fitting 5 folds for each of 12 candidates, totalling 60 fits\n"
     ]
    },
    {
     "name": "stderr",
     "output_type": "stream",
     "text": [
      "/usr/local/lib/python3.7/dist-packages/sklearn/naive_bayes.py:557: UserWarning: alpha too small will result in numeric errors, setting alpha = 1.0e-10\n",
      "  % _ALPHA_MIN\n",
      "/usr/local/lib/python3.7/dist-packages/sklearn/naive_bayes.py:557: UserWarning: alpha too small will result in numeric errors, setting alpha = 1.0e-10\n",
      "  % _ALPHA_MIN\n",
      "/usr/local/lib/python3.7/dist-packages/sklearn/naive_bayes.py:557: UserWarning: alpha too small will result in numeric errors, setting alpha = 1.0e-10\n",
      "  % _ALPHA_MIN\n",
      "/usr/local/lib/python3.7/dist-packages/sklearn/naive_bayes.py:557: UserWarning: alpha too small will result in numeric errors, setting alpha = 1.0e-10\n",
      "  % _ALPHA_MIN\n",
      "/usr/local/lib/python3.7/dist-packages/sklearn/naive_bayes.py:557: UserWarning: alpha too small will result in numeric errors, setting alpha = 1.0e-10\n",
      "  % _ALPHA_MIN\n",
      "/usr/local/lib/python3.7/dist-packages/sklearn/naive_bayes.py:557: UserWarning: alpha too small will result in numeric errors, setting alpha = 1.0e-10\n",
      "  % _ALPHA_MIN\n",
      "/usr/local/lib/python3.7/dist-packages/sklearn/naive_bayes.py:557: UserWarning: alpha too small will result in numeric errors, setting alpha = 1.0e-10\n",
      "  % _ALPHA_MIN\n",
      "/usr/local/lib/python3.7/dist-packages/sklearn/naive_bayes.py:557: UserWarning: alpha too small will result in numeric errors, setting alpha = 1.0e-10\n",
      "  % _ALPHA_MIN\n",
      "/usr/local/lib/python3.7/dist-packages/sklearn/naive_bayes.py:557: UserWarning: alpha too small will result in numeric errors, setting alpha = 1.0e-10\n",
      "  % _ALPHA_MIN\n",
      "/usr/local/lib/python3.7/dist-packages/sklearn/naive_bayes.py:557: UserWarning: alpha too small will result in numeric errors, setting alpha = 1.0e-10\n",
      "  % _ALPHA_MIN\n",
      "/usr/local/lib/python3.7/dist-packages/sklearn/naive_bayes.py:557: UserWarning: alpha too small will result in numeric errors, setting alpha = 1.0e-10\n",
      "  % _ALPHA_MIN\n",
      "/usr/local/lib/python3.7/dist-packages/sklearn/naive_bayes.py:557: UserWarning: alpha too small will result in numeric errors, setting alpha = 1.0e-10\n",
      "  % _ALPHA_MIN\n",
      "/usr/local/lib/python3.7/dist-packages/sklearn/naive_bayes.py:557: UserWarning: alpha too small will result in numeric errors, setting alpha = 1.0e-10\n",
      "  % _ALPHA_MIN\n",
      "/usr/local/lib/python3.7/dist-packages/sklearn/naive_bayes.py:557: UserWarning: alpha too small will result in numeric errors, setting alpha = 1.0e-10\n",
      "  % _ALPHA_MIN\n",
      "/usr/local/lib/python3.7/dist-packages/sklearn/naive_bayes.py:557: UserWarning: alpha too small will result in numeric errors, setting alpha = 1.0e-10\n",
      "  % _ALPHA_MIN\n"
     ]
    },
    {
     "name": "stdout",
     "output_type": "stream",
     "text": [
      "   param_clf__alpha param_vect__ngram_range                                              params  mean_test_score  rank_test_score\n",
      "2             0.001                  (1, 3)  {'clf__alpha': 0.001, 'vect__ngram_range': (1, 3)}         0.981963                1\n",
      "1             0.001                  (1, 2)  {'clf__alpha': 0.001, 'vect__ngram_range': (1, 2)}         0.981818                2\n",
      "5          0.000001                  (1, 3)  {'clf__alpha': 1e-06, 'vect__ngram_range': (1, 3)}         0.978191                3\n",
      "4          0.000001                  (1, 2)  {'clf__alpha': 1e-06, 'vect__ngram_range': (1, 2)}         0.977727                4\n",
      "8               0.0                  (1, 3)  {'clf__alpha': 1e-09, 'vect__ngram_range': (1, 3)}         0.976509                5\n",
      "11              0.0                  (1, 3)  {'clf__alpha': 1e-12, 'vect__ngram_range': (1, 3)}         0.976127                6\n",
      "0             0.001                  (1, 1)  {'clf__alpha': 0.001, 'vect__ngram_range': (1, 1)}         0.975954                7\n",
      "7               0.0                  (1, 2)  {'clf__alpha': 1e-09, 'vect__ngram_range': (1, 2)}         0.975545                8\n",
      "10              0.0                  (1, 2)  {'clf__alpha': 1e-12, 'vect__ngram_range': (1, 2)}         0.975145                9\n",
      "3          0.000001                  (1, 1)  {'clf__alpha': 1e-06, 'vect__ngram_range': (1, 1)}         0.968254               10\n",
      "6               0.0                  (1, 1)  {'clf__alpha': 1e-09, 'vect__ngram_range': (1, 1)}         0.964136               11\n",
      "9               0.0                  (1, 1)  {'clf__alpha': 1e-12, 'vect__ngram_range': (1, 1)}         0.963436               12\n"
     ]
    }
   ],
   "source": [
    "sgd_model_gcv('sports')"
   ]
  },
  {
   "cell_type": "code",
   "execution_count": 52,
   "metadata": {
    "colab": {
     "base_uri": "https://localhost:8080/",
     "height": 0
    },
    "id": "XbwJSG_5KbuL",
    "outputId": "1fa36f58-09d4-41b2-bf93-d8d905bebb97"
   },
   "outputs": [
    {
     "metadata": {
      "tags": null
     },
     "name": "stdout",
     "output_type": "stream",
     "text": [
      "Fitting 5 folds for each of 12 candidates, totalling 60 fits\n"
     ]
    },
    {
     "name": "stderr",
     "output_type": "stream",
     "text": [
      "/usr/local/lib/python3.7/dist-packages/sklearn/naive_bayes.py:557: UserWarning: alpha too small will result in numeric errors, setting alpha = 1.0e-10\n",
      "  % _ALPHA_MIN\n",
      "/usr/local/lib/python3.7/dist-packages/sklearn/naive_bayes.py:557: UserWarning: alpha too small will result in numeric errors, setting alpha = 1.0e-10\n",
      "  % _ALPHA_MIN\n",
      "/usr/local/lib/python3.7/dist-packages/sklearn/naive_bayes.py:557: UserWarning: alpha too small will result in numeric errors, setting alpha = 1.0e-10\n",
      "  % _ALPHA_MIN\n",
      "/usr/local/lib/python3.7/dist-packages/sklearn/naive_bayes.py:557: UserWarning: alpha too small will result in numeric errors, setting alpha = 1.0e-10\n",
      "  % _ALPHA_MIN\n",
      "/usr/local/lib/python3.7/dist-packages/sklearn/naive_bayes.py:557: UserWarning: alpha too small will result in numeric errors, setting alpha = 1.0e-10\n",
      "  % _ALPHA_MIN\n",
      "/usr/local/lib/python3.7/dist-packages/sklearn/naive_bayes.py:557: UserWarning: alpha too small will result in numeric errors, setting alpha = 1.0e-10\n",
      "  % _ALPHA_MIN\n",
      "/usr/local/lib/python3.7/dist-packages/sklearn/naive_bayes.py:557: UserWarning: alpha too small will result in numeric errors, setting alpha = 1.0e-10\n",
      "  % _ALPHA_MIN\n",
      "/usr/local/lib/python3.7/dist-packages/sklearn/naive_bayes.py:557: UserWarning: alpha too small will result in numeric errors, setting alpha = 1.0e-10\n",
      "  % _ALPHA_MIN\n",
      "/usr/local/lib/python3.7/dist-packages/sklearn/naive_bayes.py:557: UserWarning: alpha too small will result in numeric errors, setting alpha = 1.0e-10\n",
      "  % _ALPHA_MIN\n",
      "/usr/local/lib/python3.7/dist-packages/sklearn/naive_bayes.py:557: UserWarning: alpha too small will result in numeric errors, setting alpha = 1.0e-10\n",
      "  % _ALPHA_MIN\n",
      "/usr/local/lib/python3.7/dist-packages/sklearn/naive_bayes.py:557: UserWarning: alpha too small will result in numeric errors, setting alpha = 1.0e-10\n",
      "  % _ALPHA_MIN\n",
      "/usr/local/lib/python3.7/dist-packages/sklearn/naive_bayes.py:557: UserWarning: alpha too small will result in numeric errors, setting alpha = 1.0e-10\n",
      "  % _ALPHA_MIN\n",
      "/usr/local/lib/python3.7/dist-packages/sklearn/naive_bayes.py:557: UserWarning: alpha too small will result in numeric errors, setting alpha = 1.0e-10\n",
      "  % _ALPHA_MIN\n",
      "/usr/local/lib/python3.7/dist-packages/sklearn/naive_bayes.py:557: UserWarning: alpha too small will result in numeric errors, setting alpha = 1.0e-10\n",
      "  % _ALPHA_MIN\n",
      "/usr/local/lib/python3.7/dist-packages/sklearn/naive_bayes.py:557: UserWarning: alpha too small will result in numeric errors, setting alpha = 1.0e-10\n",
      "  % _ALPHA_MIN\n"
     ]
    },
    {
     "name": "stdout",
     "output_type": "stream",
     "text": [
      "   param_clf__alpha param_vect__ngram_range                                              params  mean_test_score  rank_test_score\n",
      "1             0.001                  (1, 2)  {'clf__alpha': 0.001, 'vect__ngram_range': (1, 2)}         0.952072                1\n",
      "2             0.001                  (1, 3)  {'clf__alpha': 0.001, 'vect__ngram_range': (1, 3)}         0.951427                2\n",
      "5          0.000001                  (1, 3)  {'clf__alpha': 1e-06, 'vect__ngram_range': (1, 3)}         0.948309                3\n",
      "4          0.000001                  (1, 2)  {'clf__alpha': 1e-06, 'vect__ngram_range': (1, 2)}         0.947936                4\n",
      "8               0.0                  (1, 3)  {'clf__alpha': 1e-09, 'vect__ngram_range': (1, 3)}         0.946718                5\n",
      "11              0.0                  (1, 3)  {'clf__alpha': 1e-12, 'vect__ngram_range': (1, 3)}         0.946472                6\n",
      "7               0.0                  (1, 2)  {'clf__alpha': 1e-09, 'vect__ngram_range': (1, 2)}         0.946200                7\n",
      "10              0.0                  (1, 2)  {'clf__alpha': 1e-12, 'vect__ngram_range': (1, 2)}         0.945909                8\n",
      "0             0.001                  (1, 1)  {'clf__alpha': 0.001, 'vect__ngram_range': (1, 1)}         0.945672                9\n",
      "3          0.000001                  (1, 1)  {'clf__alpha': 1e-06, 'vect__ngram_range': (1, 1)}         0.938381               10\n",
      "6               0.0                  (1, 1)  {'clf__alpha': 1e-09, 'vect__ngram_range': (1, 1)}         0.935445               11\n",
      "9               0.0                  (1, 1)  {'clf__alpha': 1e-12, 'vect__ngram_range': (1, 1)}         0.935136               12\n"
     ]
    }
   ],
   "source": [
    "sgd_model_gcv('world')"
   ]
  },
  {
   "cell_type": "code",
   "execution_count": 53,
   "metadata": {
    "colab": {
     "base_uri": "https://localhost:8080/",
     "height": 0
    },
    "id": "z8DJKYQgKdXc",
    "outputId": "e843ad74-a4d9-4ff1-d020-0e3e9436ccaf"
   },
   "outputs": [
    {
     "metadata": {
      "tags": null
     },
     "name": "stdout",
     "output_type": "stream",
     "text": [
      "Fitting 5 folds for each of 12 candidates, totalling 60 fits\n"
     ]
    },
    {
     "name": "stderr",
     "output_type": "stream",
     "text": [
      "/usr/local/lib/python3.7/dist-packages/sklearn/naive_bayes.py:557: UserWarning: alpha too small will result in numeric errors, setting alpha = 1.0e-10\n",
      "  % _ALPHA_MIN\n",
      "/usr/local/lib/python3.7/dist-packages/sklearn/naive_bayes.py:557: UserWarning: alpha too small will result in numeric errors, setting alpha = 1.0e-10\n",
      "  % _ALPHA_MIN\n",
      "/usr/local/lib/python3.7/dist-packages/sklearn/naive_bayes.py:557: UserWarning: alpha too small will result in numeric errors, setting alpha = 1.0e-10\n",
      "  % _ALPHA_MIN\n",
      "/usr/local/lib/python3.7/dist-packages/sklearn/naive_bayes.py:557: UserWarning: alpha too small will result in numeric errors, setting alpha = 1.0e-10\n",
      "  % _ALPHA_MIN\n",
      "/usr/local/lib/python3.7/dist-packages/sklearn/naive_bayes.py:557: UserWarning: alpha too small will result in numeric errors, setting alpha = 1.0e-10\n",
      "  % _ALPHA_MIN\n",
      "/usr/local/lib/python3.7/dist-packages/sklearn/naive_bayes.py:557: UserWarning: alpha too small will result in numeric errors, setting alpha = 1.0e-10\n",
      "  % _ALPHA_MIN\n",
      "/usr/local/lib/python3.7/dist-packages/sklearn/naive_bayes.py:557: UserWarning: alpha too small will result in numeric errors, setting alpha = 1.0e-10\n",
      "  % _ALPHA_MIN\n",
      "/usr/local/lib/python3.7/dist-packages/sklearn/naive_bayes.py:557: UserWarning: alpha too small will result in numeric errors, setting alpha = 1.0e-10\n",
      "  % _ALPHA_MIN\n",
      "/usr/local/lib/python3.7/dist-packages/sklearn/naive_bayes.py:557: UserWarning: alpha too small will result in numeric errors, setting alpha = 1.0e-10\n",
      "  % _ALPHA_MIN\n",
      "/usr/local/lib/python3.7/dist-packages/sklearn/naive_bayes.py:557: UserWarning: alpha too small will result in numeric errors, setting alpha = 1.0e-10\n",
      "  % _ALPHA_MIN\n",
      "/usr/local/lib/python3.7/dist-packages/sklearn/naive_bayes.py:557: UserWarning: alpha too small will result in numeric errors, setting alpha = 1.0e-10\n",
      "  % _ALPHA_MIN\n",
      "/usr/local/lib/python3.7/dist-packages/sklearn/naive_bayes.py:557: UserWarning: alpha too small will result in numeric errors, setting alpha = 1.0e-10\n",
      "  % _ALPHA_MIN\n",
      "/usr/local/lib/python3.7/dist-packages/sklearn/naive_bayes.py:557: UserWarning: alpha too small will result in numeric errors, setting alpha = 1.0e-10\n",
      "  % _ALPHA_MIN\n",
      "/usr/local/lib/python3.7/dist-packages/sklearn/naive_bayes.py:557: UserWarning: alpha too small will result in numeric errors, setting alpha = 1.0e-10\n",
      "  % _ALPHA_MIN\n",
      "/usr/local/lib/python3.7/dist-packages/sklearn/naive_bayes.py:557: UserWarning: alpha too small will result in numeric errors, setting alpha = 1.0e-10\n",
      "  % _ALPHA_MIN\n"
     ]
    },
    {
     "name": "stdout",
     "output_type": "stream",
     "text": [
      "   param_clf__alpha param_vect__ngram_range                                              params  mean_test_score  rank_test_score\n",
      "2             0.001                  (1, 3)  {'clf__alpha': 0.001, 'vect__ngram_range': (1, 3)}         0.931636                1\n",
      "1             0.001                  (1, 2)  {'clf__alpha': 0.001, 'vect__ngram_range': (1, 2)}         0.930981                2\n",
      "5          0.000001                  (1, 3)  {'clf__alpha': 1e-06, 'vect__ngram_range': (1, 3)}         0.926708                3\n",
      "4          0.000001                  (1, 2)  {'clf__alpha': 1e-06, 'vect__ngram_range': (1, 2)}         0.925845                4\n",
      "8               0.0                  (1, 3)  {'clf__alpha': 1e-09, 'vect__ngram_range': (1, 3)}         0.924863                5\n",
      "11              0.0                  (1, 3)  {'clf__alpha': 1e-12, 'vect__ngram_range': (1, 3)}         0.924508                6\n",
      "7               0.0                  (1, 2)  {'clf__alpha': 1e-09, 'vect__ngram_range': (1, 2)}         0.923090                7\n",
      "10              0.0                  (1, 2)  {'clf__alpha': 1e-12, 'vect__ngram_range': (1, 2)}         0.922372                8\n",
      "0             0.001                  (1, 1)  {'clf__alpha': 0.001, 'vect__ngram_range': (1, 1)}         0.921054                9\n",
      "3          0.000001                  (1, 1)  {'clf__alpha': 1e-06, 'vect__ngram_range': (1, 1)}         0.915363               10\n",
      "6               0.0                  (1, 1)  {'clf__alpha': 1e-09, 'vect__ngram_range': (1, 1)}         0.913717               11\n",
      "9               0.0                  (1, 1)  {'clf__alpha': 1e-12, 'vect__ngram_range': (1, 1)}         0.913463               12\n"
     ]
    }
   ],
   "source": [
    "sgd_model_gcv('business')"
   ]
  },
  {
   "cell_type": "markdown",
   "metadata": {
    "id": "7XxoCnj9rLth"
   },
   "source": [
    "<h1> Multi-class Classification Models"
   ]
  },
  {
   "cell_type": "code",
   "execution_count": null,
   "metadata": {
    "id": "-ICLrkrUYncf"
   },
   "outputs": [],
   "source": [
    "from sklearn.pipeline import Pipeline\n",
    "from sklearn.feature_extraction.text import CountVectorizer, TfidfTransformer\n",
    "from sklearn.naive_bayes import MultinomialNB\n",
    "from sklearn.linear_model import SGDClassifier\n",
    "from sklearn.linear_model import LogisticRegression\n",
    "from sklearn.ensemble import RandomForestClassifier"
   ]
  },
  {
   "cell_type": "code",
   "execution_count": 56,
   "metadata": {
    "colab": {
     "base_uri": "https://localhost:8080/",
     "height": 0
    },
    "id": "1CrfG-2zbkoJ",
    "outputId": "287319b8-ea53-45f5-f46b-e297c9bb42ac"
   },
   "outputs": [
    {
     "data": {
      "text/plain": [
       "Pipeline(steps=[('vect', CountVectorizer(stop_words='english')),\n",
       "                ('tfidf', TfidfTransformer()), ('clf', MultinomialNB())])"
      ]
     },
     "execution_count": 56,
     "metadata": {},
     "output_type": "execute_result"
    }
   ],
   "source": [
    "# Naive-Bayes Model\n",
    "mr_naivebayes = Pipeline([\n",
    "                          ('vect', CountVectorizer(stop_words='english')),\n",
    "                          ('tfidf', TfidfTransformer()),\n",
    "                          ('clf', MultinomialNB()),\n",
    "])\n",
    "mr_naivebayes.fit(train_data.text_clean, train_data.label_int)"
   ]
  },
  {
   "cell_type": "code",
   "execution_count": 57,
   "metadata": {
    "colab": {
     "base_uri": "https://localhost:8080/",
     "height": 0
    },
    "id": "VvTbZU0sfneL",
    "outputId": "a1488a8a-eea9-4835-f75d-fd256c6d88e1"
   },
   "outputs": [
    {
     "data": {
      "text/plain": [
       "Pipeline(steps=[('vect', CountVectorizer(stop_words='english')),\n",
       "                ('tfidf', TfidfTransformer()),\n",
       "                ('clf',\n",
       "                 SGDClassifier(alpha=1e-06, max_iter=100, random_state=42,\n",
       "                               tol=None))])"
      ]
     },
     "execution_count": 57,
     "metadata": {},
     "output_type": "execute_result"
    }
   ],
   "source": [
    "#SGD classifier\n",
    "mr_sgd = Pipeline([\n",
    "                   ('vect', CountVectorizer(stop_words='english')),\n",
    "                   ('tfidf', TfidfTransformer(use_idf=True)),\n",
    "                   ('clf', SGDClassifier(loss='hinge', penalty='l2',\n",
    "                             alpha=1e-6, random_state=42,\n",
    "                                               max_iter=100, tol=None)),\n",
    "])\n",
    "mr_sgd.fit(train_data.text_clean, train_data.label_int)"
   ]
  },
  {
   "cell_type": "code",
   "execution_count": null,
   "metadata": {
    "colab": {
     "base_uri": "https://localhost:8080/"
    },
    "id": "lggPcjyADNIQ",
    "outputId": "2ffd8dfe-2f2a-4935-c3d8-80547f775074"
   },
   "outputs": [
    {
     "name": "stderr",
     "output_type": "stream",
     "text": [
      "/usr/local/lib/python3.7/dist-packages/sklearn/linear_model/_logistic.py:818: ConvergenceWarning: lbfgs failed to converge (status=1):\n",
      "STOP: TOTAL NO. of ITERATIONS REACHED LIMIT.\n",
      "\n",
      "Increase the number of iterations (max_iter) or scale the data as shown in:\n",
      "    https://scikit-learn.org/stable/modules/preprocessing.html\n",
      "Please also refer to the documentation for alternative solver options:\n",
      "    https://scikit-learn.org/stable/modules/linear_model.html#logistic-regression\n",
      "  extra_warning_msg=_LOGISTIC_SOLVER_CONVERGENCE_MSG,\n"
     ]
    },
    {
     "data": {
      "text/plain": [
       "Pipeline(steps=[('vect', CountVectorizer(stop_words='english')),\n",
       "                ('tfidf', TfidfTransformer()), ('clf', LogisticRegression())])"
      ]
     },
     "execution_count": 51,
     "metadata": {},
     "output_type": "execute_result"
    }
   ],
   "source": [
    "mr_lg= Pipeline(steps=[('vect', CountVectorizer(stop_words='english')),\n",
    "                ('tfidf', TfidfTransformer()), ('clf', LogisticRegression())])\n",
    "mr_lg.fit(train_data.text_clean, train_data.label_int)"
   ]
  },
  {
   "cell_type": "markdown",
   "metadata": {
    "id": "TXRvpFwpfoot"
   },
   "source": [
    "## Multi-Class Model Evaluation "
   ]
  },
  {
   "cell_type": "code",
   "execution_count": null,
   "metadata": {
    "id": "36cA70fz-17N"
   },
   "outputs": [],
   "source": [
    "from sklearn.metrics import classification_report\n",
    "\n",
    "test_y = test_data.label_int"
   ]
  },
  {
   "cell_type": "code",
   "execution_count": null,
   "metadata": {
    "colab": {
     "base_uri": "https://localhost:8080/"
    },
    "id": "vEU4SEbmftvG",
    "outputId": "ca2762d3-dcc2-45ba-949b-d84cd5ed355f"
   },
   "outputs": [
    {
     "name": "stdout",
     "output_type": "stream",
     "text": [
      "              precision    recall  f1-score   support\n",
      "\n",
      "     Science       0.88      0.86      0.87      2537\n",
      "      Sports       0.95      0.98      0.96      2458\n",
      "       World       0.89      0.89      0.89      2509\n",
      "    Business       0.86      0.87      0.86      2496\n",
      "\n",
      "    accuracy                           0.90     10000\n",
      "   macro avg       0.90      0.90      0.90     10000\n",
      "weighted avg       0.90      0.90      0.90     10000\n",
      "\n"
     ]
    }
   ],
   "source": [
    "# Naive-Bayes evaluation\n",
    "\n",
    "y_pred_nb = mr_naivebayes.predict(test_data.text_clean)\n",
    "\n",
    "print(classification_report(test_y, \n",
    "                            y_pred_nb,\n",
    "                            target_names=['Science', 'Sports', 'World', 'Business'], \n",
    "                            zero_division=0))"
   ]
  },
  {
   "cell_type": "code",
   "execution_count": null,
   "metadata": {
    "colab": {
     "base_uri": "https://localhost:8080/"
    },
    "id": "N1l0zdtHftyQ",
    "outputId": "8e0de36d-e38f-4b02-a197-c3a75e485a4b"
   },
   "outputs": [
    {
     "name": "stdout",
     "output_type": "stream",
     "text": [
      "              precision    recall  f1-score   support\n",
      "\n",
      "     Science       0.87      0.87      0.87      2537\n",
      "      Sports       0.95      0.96      0.96      2458\n",
      "       World       0.90      0.88      0.89      2509\n",
      "    Business       0.85      0.87      0.86      2496\n",
      "\n",
      "    accuracy                           0.89     10000\n",
      "   macro avg       0.89      0.89      0.89     10000\n",
      "weighted avg       0.89      0.89      0.89     10000\n",
      "\n"
     ]
    }
   ],
   "source": [
    "# Sgd evaluation\n",
    "\n",
    "y_pred_sgd = mr_sgd.predict(test_data.text_clean)\n",
    "\n",
    "print(classification_report(test_y, \n",
    "                            y_pred_sgd,\n",
    "                            target_names=['Science', 'Sports', 'World', 'Business'], \n",
    "                            zero_division=0))\n"
   ]
  },
  {
   "cell_type": "code",
   "execution_count": null,
   "metadata": {
    "colab": {
     "base_uri": "https://localhost:8080/"
    },
    "id": "meRJCfTDy77r",
    "outputId": "b5fd94f2-66aa-458f-9320-189853a9123a"
   },
   "outputs": [
    {
     "name": "stdout",
     "output_type": "stream",
     "text": [
      "              precision    recall  f1-score   support\n",
      "\n",
      "     Science       0.87      0.87      0.87      2537\n",
      "      Sports       0.95      0.96      0.96      2458\n",
      "       World       0.90      0.88      0.89      2509\n",
      "    Business       0.85      0.87      0.86      2496\n",
      "\n",
      "    accuracy                           0.89     10000\n",
      "   macro avg       0.89      0.89      0.89     10000\n",
      "weighted avg       0.89      0.89      0.89     10000\n",
      "\n"
     ]
    }
   ],
   "source": [
    "# logistic evaluation \n",
    "y_pred_lg = mr_lg.predict(test_data.text_clean)\n",
    "\n",
    "print(classification_report(test_y, \n",
    "                            y_pred_sgd,\n",
    "                            target_names=['Science', 'Sports', 'World', 'Business'], \n",
    "                            zero_division=0))"
   ]
  },
  {
   "cell_type": "code",
   "execution_count": null,
   "metadata": {
    "id": "v0xumUn2zGqk"
   },
   "outputs": [],
   "source": [
    "# Random froest evaluation \n",
    "y_pred_rf = mr_rf.predict(test_data.text_clean)\n",
    "\n",
    "print(classification_report(test_y, \n",
    "                            y_pred_sgd,\n",
    "                            target_names=['Science', 'Sports', 'World', 'Business'], \n",
    "                            zero_division=0))"
   ]
  },
  {
   "cell_type": "markdown",
   "metadata": {
    "id": "e3h0GrPPwgsY"
   },
   "source": [
    "# Learning curve"
   ]
  },
  {
   "cell_type": "code",
   "execution_count": 54,
   "metadata": {
    "id": "CnZmD6XuwJL-"
   },
   "outputs": [],
   "source": [
    "import yellowbrick\n",
    "from yellowbrick.model_selection import learning_curve\n",
    "from mlxtend.plotting import plot_learning_curves"
   ]
  },
  {
   "cell_type": "code",
   "execution_count": 58,
   "metadata": {
    "id": "ptvQkR3ixHX1"
   },
   "outputs": [],
   "source": [
    "naivebayes = mr_naivebayes.fit(train_data.text_clean, train_data.label_int)\n",
    "sgd = mr_sgd.fit(train_data.text_clean, train_data.label_int)\n",
    "#lg = mr_lg.fit(train_data.text_clean, train_data.label_int)"
   ]
  },
  {
   "cell_type": "code",
   "execution_count": 59,
   "metadata": {
    "colab": {
     "base_uri": "https://localhost:8080/",
     "height": 497
    },
    "id": "by7-O2w9CsT1",
    "outputId": "40d21a49-1e0b-47d8-db61-1099e9e576bc"
   },
   "outputs": [
    {
     "data": {
      "image/png": "[encoded data removed]",
      "text/plain": [
       "<Figure size 576x396 with 1 Axes>"
      ]
     },
     "metadata": {},
     "output_type": "display_data"
    }
   ],
   "source": [
    "plot_learning_curves(train_data.text_clean, train_data.label_int, test_data.text_clean, test_data.label_int,naivebayes, scoring = 'accuracy')\n",
    "plt.show()"
   ]
  },
  {
   "cell_type": "code",
   "execution_count": 60,
   "metadata": {
    "colab": {
     "base_uri": "https://localhost:8080/",
     "height": 563
    },
    "id": "xUBtPqhr-QsV",
    "outputId": "be401912-9639-4ce5-e2e6-334273aa1676"
   },
   "outputs": [
    {
     "data": {
      "image/png": "[encoded data removed]",
      "text/plain": [
       "<Figure size 576x396 with 1 Axes>"
      ]
     },
     "metadata": {},
     "output_type": "display_data"
    }
   ],
   "source": [
    "plot_learning_curves(train_data.text_clean, train_data.label_int, test_data.text_clean, test_data.label_int,sgd, scoring = 'accuracy')\n",
    "plt.show()"
   ]
  },
  {
   "cell_type": "code",
   "execution_count": null,
   "metadata": {
    "id": "BYhfJIbfDFYX"
   },
   "outputs": [],
   "source": [
    "plot_learning_curves(train_data.text_clean, train_data.label_int, test_data.text_clean, test_data.label_int,lg)\n",
    "plt.show()"
   ]
  }
 ],
 "metadata": {
  "colab": {
   "collapsed_sections": [],
   "name": "NLP_Assignment.ipynb",
   "provenance": []
  },
  "kernelspec": {
   "display_name": "Python 3",
   "language": "python",
   "name": "python3"
  },
  "language_info": {
   "codemirror_mode": {
    "name": "ipython",
    "version": 3
   },
   "file_extension": ".py",
   "mimetype": "text/x-python",
   "name": "python",
   "nbconvert_exporter": "python",
   "pygments_lexer": "ipython3",
   "version": "3.8.8"
  }
 },
 "nbformat": 4,
 "nbformat_minor": 1
}
